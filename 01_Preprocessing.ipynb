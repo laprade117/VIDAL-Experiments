{
 "cells": [
  {
   "cell_type": "markdown",
   "id": "b19be444",
   "metadata": {},
   "source": [
    "# Preprocessing\n",
    "\n",
    "This notebook outlines the preprocessing steps for the imaging data.\n",
    "\n",
    "We apply the following preprocessing steps to the raw sRGB images from the camera:\n",
    "\n",
    "1. Convert image from an sRGB to a linear RGB colorspace.\n",
    "2. Apply automatic white balancing based on GIMP's auto-white-balance algorithm\n",
    "3. Convert back from linear RGB to sRGB.\n",
    "4. Rescale image to have a resolution of 5 pixels per mm."
   ]
  },
  {
   "cell_type": "code",
   "execution_count": 1,
   "id": "21da75f6",
   "metadata": {},
   "outputs": [],
   "source": [
    "import cv2\n",
    "import glob\n",
    "import numpy as np\n",
    "from skimage import io\n",
    "import matplotlib.pyplot as plt\n",
    "\n",
    "%load_ext autoreload\n",
    "%autoreload 2\n",
    "from venomai import preprocess\n",
    "\n",
    "target_res = 5 # pixels per mm"
   ]
  },
  {
   "cell_type": "markdown",
   "id": "8716500e",
   "metadata": {},
   "source": [
    "## Apply the preprocessing"
   ]
  },
  {
   "cell_type": "code",
   "execution_count": 2,
   "id": "thousand-maximum",
   "metadata": {},
   "outputs": [
    {
     "name": "stdout",
     "output_type": "stream",
     "text": [
      "0/193\n",
      "Template white balancing\n"
     ]
    },
    {
     "name": "stderr",
     "output_type": "stream",
     "text": [
      "C:\\Users\\Billy\\AppData\\Local\\Temp\\ipykernel_23596\\2270396033.py:53: UserWarning: data/preprocessed/masks/0/0000.png is a low contrast image\n",
      "  io.imsave(f'data/preprocessed/masks/{j}/{i:04d}.png', mask)\n",
      "C:\\Users\\Billy\\AppData\\Local\\Temp\\ipykernel_23596\\2270396033.py:53: UserWarning: data/preprocessed/masks/1/0000.png is a low contrast image\n",
      "  io.imsave(f'data/preprocessed/masks/{j}/{i:04d}.png', mask)\n",
      "C:\\Users\\Billy\\AppData\\Local\\Temp\\ipykernel_23596\\2270396033.py:53: UserWarning: data/preprocessed/masks/2/0000.png is a low contrast image\n",
      "  io.imsave(f'data/preprocessed/masks/{j}/{i:04d}.png', mask)\n",
      "C:\\Users\\Billy\\AppData\\Local\\Temp\\ipykernel_23596\\2270396033.py:53: UserWarning: data/preprocessed/masks/3/0000.png is a low contrast image\n",
      "  io.imsave(f'data/preprocessed/masks/{j}/{i:04d}.png', mask)\n"
     ]
    },
    {
     "name": "stdout",
     "output_type": "stream",
     "text": [
      "1/193\n",
      "Template white balancing\n"
     ]
    },
    {
     "name": "stderr",
     "output_type": "stream",
     "text": [
      "C:\\Users\\Billy\\AppData\\Local\\Temp\\ipykernel_23596\\2270396033.py:53: UserWarning: data/preprocessed/masks/0/0001.png is a low contrast image\n",
      "  io.imsave(f'data/preprocessed/masks/{j}/{i:04d}.png', mask)\n",
      "C:\\Users\\Billy\\AppData\\Local\\Temp\\ipykernel_23596\\2270396033.py:53: UserWarning: data/preprocessed/masks/1/0001.png is a low contrast image\n",
      "  io.imsave(f'data/preprocessed/masks/{j}/{i:04d}.png', mask)\n",
      "C:\\Users\\Billy\\AppData\\Local\\Temp\\ipykernel_23596\\2270396033.py:53: UserWarning: data/preprocessed/masks/2/0001.png is a low contrast image\n",
      "  io.imsave(f'data/preprocessed/masks/{j}/{i:04d}.png', mask)\n",
      "C:\\Users\\Billy\\AppData\\Local\\Temp\\ipykernel_23596\\2270396033.py:53: UserWarning: data/preprocessed/masks/3/0001.png is a low contrast image\n",
      "  io.imsave(f'data/preprocessed/masks/{j}/{i:04d}.png', mask)\n"
     ]
    },
    {
     "name": "stdout",
     "output_type": "stream",
     "text": [
      "2/193\n",
      "Template white balancing\n"
     ]
    },
    {
     "name": "stderr",
     "output_type": "stream",
     "text": [
      "C:\\Users\\Billy\\AppData\\Local\\Temp\\ipykernel_23596\\2270396033.py:53: UserWarning: data/preprocessed/masks/0/0002.png is a low contrast image\n",
      "  io.imsave(f'data/preprocessed/masks/{j}/{i:04d}.png', mask)\n",
      "C:\\Users\\Billy\\AppData\\Local\\Temp\\ipykernel_23596\\2270396033.py:53: UserWarning: data/preprocessed/masks/1/0002.png is a low contrast image\n",
      "  io.imsave(f'data/preprocessed/masks/{j}/{i:04d}.png', mask)\n",
      "C:\\Users\\Billy\\AppData\\Local\\Temp\\ipykernel_23596\\2270396033.py:53: UserWarning: data/preprocessed/masks/2/0002.png is a low contrast image\n",
      "  io.imsave(f'data/preprocessed/masks/{j}/{i:04d}.png', mask)\n",
      "C:\\Users\\Billy\\AppData\\Local\\Temp\\ipykernel_23596\\2270396033.py:53: UserWarning: data/preprocessed/masks/3/0002.png is a low contrast image\n",
      "  io.imsave(f'data/preprocessed/masks/{j}/{i:04d}.png', mask)\n"
     ]
    },
    {
     "name": "stdout",
     "output_type": "stream",
     "text": [
      "3/193\n",
      "Template white balancing\n"
     ]
    },
    {
     "name": "stderr",
     "output_type": "stream",
     "text": [
      "C:\\Users\\Billy\\AppData\\Local\\Temp\\ipykernel_23596\\2270396033.py:53: UserWarning: data/preprocessed/masks/0/0003.png is a low contrast image\n",
      "  io.imsave(f'data/preprocessed/masks/{j}/{i:04d}.png', mask)\n",
      "C:\\Users\\Billy\\AppData\\Local\\Temp\\ipykernel_23596\\2270396033.py:53: UserWarning: data/preprocessed/masks/1/0003.png is a low contrast image\n",
      "  io.imsave(f'data/preprocessed/masks/{j}/{i:04d}.png', mask)\n",
      "C:\\Users\\Billy\\AppData\\Local\\Temp\\ipykernel_23596\\2270396033.py:53: UserWarning: data/preprocessed/masks/2/0003.png is a low contrast image\n",
      "  io.imsave(f'data/preprocessed/masks/{j}/{i:04d}.png', mask)\n",
      "C:\\Users\\Billy\\AppData\\Local\\Temp\\ipykernel_23596\\2270396033.py:53: UserWarning: data/preprocessed/masks/3/0003.png is a low contrast image\n",
      "  io.imsave(f'data/preprocessed/masks/{j}/{i:04d}.png', mask)\n"
     ]
    },
    {
     "name": "stdout",
     "output_type": "stream",
     "text": [
      "4/193\n",
      "Template white balancing\n"
     ]
    },
    {
     "name": "stderr",
     "output_type": "stream",
     "text": [
      "C:\\Users\\Billy\\AppData\\Local\\Temp\\ipykernel_23596\\2270396033.py:53: UserWarning: data/preprocessed/masks/0/0004.png is a low contrast image\n",
      "  io.imsave(f'data/preprocessed/masks/{j}/{i:04d}.png', mask)\n",
      "C:\\Users\\Billy\\AppData\\Local\\Temp\\ipykernel_23596\\2270396033.py:53: UserWarning: data/preprocessed/masks/1/0004.png is a low contrast image\n",
      "  io.imsave(f'data/preprocessed/masks/{j}/{i:04d}.png', mask)\n",
      "C:\\Users\\Billy\\AppData\\Local\\Temp\\ipykernel_23596\\2270396033.py:53: UserWarning: data/preprocessed/masks/2/0004.png is a low contrast image\n",
      "  io.imsave(f'data/preprocessed/masks/{j}/{i:04d}.png', mask)\n",
      "C:\\Users\\Billy\\AppData\\Local\\Temp\\ipykernel_23596\\2270396033.py:53: UserWarning: data/preprocessed/masks/3/0004.png is a low contrast image\n",
      "  io.imsave(f'data/preprocessed/masks/{j}/{i:04d}.png', mask)\n"
     ]
    },
    {
     "name": "stdout",
     "output_type": "stream",
     "text": [
      "5/193\n",
      "Template white balancing\n"
     ]
    },
    {
     "name": "stderr",
     "output_type": "stream",
     "text": [
      "C:\\Users\\Billy\\AppData\\Local\\Temp\\ipykernel_23596\\2270396033.py:53: UserWarning: data/preprocessed/masks/0/0005.png is a low contrast image\n",
      "  io.imsave(f'data/preprocessed/masks/{j}/{i:04d}.png', mask)\n",
      "C:\\Users\\Billy\\AppData\\Local\\Temp\\ipykernel_23596\\2270396033.py:53: UserWarning: data/preprocessed/masks/1/0005.png is a low contrast image\n",
      "  io.imsave(f'data/preprocessed/masks/{j}/{i:04d}.png', mask)\n",
      "C:\\Users\\Billy\\AppData\\Local\\Temp\\ipykernel_23596\\2270396033.py:53: UserWarning: data/preprocessed/masks/2/0005.png is a low contrast image\n",
      "  io.imsave(f'data/preprocessed/masks/{j}/{i:04d}.png', mask)\n",
      "C:\\Users\\Billy\\AppData\\Local\\Temp\\ipykernel_23596\\2270396033.py:53: UserWarning: data/preprocessed/masks/3/0005.png is a low contrast image\n",
      "  io.imsave(f'data/preprocessed/masks/{j}/{i:04d}.png', mask)\n"
     ]
    },
    {
     "name": "stdout",
     "output_type": "stream",
     "text": [
      "6/193\n",
      "Template white balancing\n"
     ]
    },
    {
     "name": "stderr",
     "output_type": "stream",
     "text": [
      "C:\\Users\\Billy\\AppData\\Local\\Temp\\ipykernel_23596\\2270396033.py:53: UserWarning: data/preprocessed/masks/0/0006.png is a low contrast image\n",
      "  io.imsave(f'data/preprocessed/masks/{j}/{i:04d}.png', mask)\n",
      "C:\\Users\\Billy\\AppData\\Local\\Temp\\ipykernel_23596\\2270396033.py:53: UserWarning: data/preprocessed/masks/1/0006.png is a low contrast image\n",
      "  io.imsave(f'data/preprocessed/masks/{j}/{i:04d}.png', mask)\n",
      "C:\\Users\\Billy\\AppData\\Local\\Temp\\ipykernel_23596\\2270396033.py:53: UserWarning: data/preprocessed/masks/2/0006.png is a low contrast image\n",
      "  io.imsave(f'data/preprocessed/masks/{j}/{i:04d}.png', mask)\n",
      "C:\\Users\\Billy\\AppData\\Local\\Temp\\ipykernel_23596\\2270396033.py:53: UserWarning: data/preprocessed/masks/3/0006.png is a low contrast image\n",
      "  io.imsave(f'data/preprocessed/masks/{j}/{i:04d}.png', mask)\n"
     ]
    },
    {
     "name": "stdout",
     "output_type": "stream",
     "text": [
      "7/193\n",
      "Template white balancing\n"
     ]
    },
    {
     "name": "stderr",
     "output_type": "stream",
     "text": [
      "C:\\Users\\Billy\\AppData\\Local\\Temp\\ipykernel_23596\\2270396033.py:53: UserWarning: data/preprocessed/masks/0/0007.png is a low contrast image\n",
      "  io.imsave(f'data/preprocessed/masks/{j}/{i:04d}.png', mask)\n",
      "C:\\Users\\Billy\\AppData\\Local\\Temp\\ipykernel_23596\\2270396033.py:53: UserWarning: data/preprocessed/masks/1/0007.png is a low contrast image\n",
      "  io.imsave(f'data/preprocessed/masks/{j}/{i:04d}.png', mask)\n",
      "C:\\Users\\Billy\\AppData\\Local\\Temp\\ipykernel_23596\\2270396033.py:53: UserWarning: data/preprocessed/masks/2/0007.png is a low contrast image\n",
      "  io.imsave(f'data/preprocessed/masks/{j}/{i:04d}.png', mask)\n",
      "C:\\Users\\Billy\\AppData\\Local\\Temp\\ipykernel_23596\\2270396033.py:53: UserWarning: data/preprocessed/masks/3/0007.png is a low contrast image\n",
      "  io.imsave(f'data/preprocessed/masks/{j}/{i:04d}.png', mask)\n"
     ]
    },
    {
     "name": "stdout",
     "output_type": "stream",
     "text": [
      "8/193\n",
      "Template white balancing\n"
     ]
    },
    {
     "name": "stderr",
     "output_type": "stream",
     "text": [
      "C:\\Users\\Billy\\AppData\\Local\\Temp\\ipykernel_23596\\2270396033.py:53: UserWarning: data/preprocessed/masks/0/0008.png is a low contrast image\n",
      "  io.imsave(f'data/preprocessed/masks/{j}/{i:04d}.png', mask)\n",
      "C:\\Users\\Billy\\AppData\\Local\\Temp\\ipykernel_23596\\2270396033.py:53: UserWarning: data/preprocessed/masks/1/0008.png is a low contrast image\n",
      "  io.imsave(f'data/preprocessed/masks/{j}/{i:04d}.png', mask)\n",
      "C:\\Users\\Billy\\AppData\\Local\\Temp\\ipykernel_23596\\2270396033.py:53: UserWarning: data/preprocessed/masks/2/0008.png is a low contrast image\n",
      "  io.imsave(f'data/preprocessed/masks/{j}/{i:04d}.png', mask)\n",
      "C:\\Users\\Billy\\AppData\\Local\\Temp\\ipykernel_23596\\2270396033.py:53: UserWarning: data/preprocessed/masks/3/0008.png is a low contrast image\n",
      "  io.imsave(f'data/preprocessed/masks/{j}/{i:04d}.png', mask)\n"
     ]
    },
    {
     "name": "stdout",
     "output_type": "stream",
     "text": [
      "9/193\n",
      "Template white balancing\n"
     ]
    },
    {
     "name": "stderr",
     "output_type": "stream",
     "text": [
      "C:\\Users\\Billy\\AppData\\Local\\Temp\\ipykernel_23596\\2270396033.py:53: UserWarning: data/preprocessed/masks/0/0009.png is a low contrast image\n",
      "  io.imsave(f'data/preprocessed/masks/{j}/{i:04d}.png', mask)\n",
      "C:\\Users\\Billy\\AppData\\Local\\Temp\\ipykernel_23596\\2270396033.py:53: UserWarning: data/preprocessed/masks/1/0009.png is a low contrast image\n",
      "  io.imsave(f'data/preprocessed/masks/{j}/{i:04d}.png', mask)\n",
      "C:\\Users\\Billy\\AppData\\Local\\Temp\\ipykernel_23596\\2270396033.py:53: UserWarning: data/preprocessed/masks/2/0009.png is a low contrast image\n",
      "  io.imsave(f'data/preprocessed/masks/{j}/{i:04d}.png', mask)\n",
      "C:\\Users\\Billy\\AppData\\Local\\Temp\\ipykernel_23596\\2270396033.py:53: UserWarning: data/preprocessed/masks/3/0009.png is a low contrast image\n",
      "  io.imsave(f'data/preprocessed/masks/{j}/{i:04d}.png', mask)\n"
     ]
    },
    {
     "name": "stdout",
     "output_type": "stream",
     "text": [
      "10/193\n",
      "Template white balancing\n"
     ]
    },
    {
     "name": "stderr",
     "output_type": "stream",
     "text": [
      "C:\\Users\\Billy\\AppData\\Local\\Temp\\ipykernel_23596\\2270396033.py:53: UserWarning: data/preprocessed/masks/0/0010.png is a low contrast image\n",
      "  io.imsave(f'data/preprocessed/masks/{j}/{i:04d}.png', mask)\n",
      "C:\\Users\\Billy\\AppData\\Local\\Temp\\ipykernel_23596\\2270396033.py:53: UserWarning: data/preprocessed/masks/1/0010.png is a low contrast image\n",
      "  io.imsave(f'data/preprocessed/masks/{j}/{i:04d}.png', mask)\n",
      "C:\\Users\\Billy\\AppData\\Local\\Temp\\ipykernel_23596\\2270396033.py:53: UserWarning: data/preprocessed/masks/2/0010.png is a low contrast image\n",
      "  io.imsave(f'data/preprocessed/masks/{j}/{i:04d}.png', mask)\n",
      "C:\\Users\\Billy\\AppData\\Local\\Temp\\ipykernel_23596\\2270396033.py:53: UserWarning: data/preprocessed/masks/3/0010.png is a low contrast image\n",
      "  io.imsave(f'data/preprocessed/masks/{j}/{i:04d}.png', mask)\n"
     ]
    },
    {
     "name": "stdout",
     "output_type": "stream",
     "text": [
      "11/193\n",
      "Template white balancing\n"
     ]
    },
    {
     "name": "stderr",
     "output_type": "stream",
     "text": [
      "C:\\Users\\Billy\\AppData\\Local\\Temp\\ipykernel_23596\\2270396033.py:53: UserWarning: data/preprocessed/masks/0/0011.png is a low contrast image\n",
      "  io.imsave(f'data/preprocessed/masks/{j}/{i:04d}.png', mask)\n",
      "C:\\Users\\Billy\\AppData\\Local\\Temp\\ipykernel_23596\\2270396033.py:53: UserWarning: data/preprocessed/masks/1/0011.png is a low contrast image\n",
      "  io.imsave(f'data/preprocessed/masks/{j}/{i:04d}.png', mask)\n",
      "C:\\Users\\Billy\\AppData\\Local\\Temp\\ipykernel_23596\\2270396033.py:53: UserWarning: data/preprocessed/masks/2/0011.png is a low contrast image\n",
      "  io.imsave(f'data/preprocessed/masks/{j}/{i:04d}.png', mask)\n",
      "C:\\Users\\Billy\\AppData\\Local\\Temp\\ipykernel_23596\\2270396033.py:53: UserWarning: data/preprocessed/masks/3/0011.png is a low contrast image\n",
      "  io.imsave(f'data/preprocessed/masks/{j}/{i:04d}.png', mask)\n"
     ]
    },
    {
     "name": "stdout",
     "output_type": "stream",
     "text": [
      "12/193\n",
      "Template white balancing\n"
     ]
    },
    {
     "name": "stderr",
     "output_type": "stream",
     "text": [
      "C:\\Users\\Billy\\AppData\\Local\\Temp\\ipykernel_23596\\2270396033.py:53: UserWarning: data/preprocessed/masks/0/0012.png is a low contrast image\n",
      "  io.imsave(f'data/preprocessed/masks/{j}/{i:04d}.png', mask)\n",
      "C:\\Users\\Billy\\AppData\\Local\\Temp\\ipykernel_23596\\2270396033.py:53: UserWarning: data/preprocessed/masks/1/0012.png is a low contrast image\n",
      "  io.imsave(f'data/preprocessed/masks/{j}/{i:04d}.png', mask)\n",
      "C:\\Users\\Billy\\AppData\\Local\\Temp\\ipykernel_23596\\2270396033.py:53: UserWarning: data/preprocessed/masks/2/0012.png is a low contrast image\n",
      "  io.imsave(f'data/preprocessed/masks/{j}/{i:04d}.png', mask)\n",
      "C:\\Users\\Billy\\AppData\\Local\\Temp\\ipykernel_23596\\2270396033.py:53: UserWarning: data/preprocessed/masks/3/0012.png is a low contrast image\n",
      "  io.imsave(f'data/preprocessed/masks/{j}/{i:04d}.png', mask)\n"
     ]
    },
    {
     "name": "stdout",
     "output_type": "stream",
     "text": [
      "13/193\n",
      "Template white balancing\n"
     ]
    },
    {
     "name": "stderr",
     "output_type": "stream",
     "text": [
      "C:\\Users\\Billy\\AppData\\Local\\Temp\\ipykernel_23596\\2270396033.py:53: UserWarning: data/preprocessed/masks/0/0013.png is a low contrast image\n",
      "  io.imsave(f'data/preprocessed/masks/{j}/{i:04d}.png', mask)\n",
      "C:\\Users\\Billy\\AppData\\Local\\Temp\\ipykernel_23596\\2270396033.py:53: UserWarning: data/preprocessed/masks/1/0013.png is a low contrast image\n",
      "  io.imsave(f'data/preprocessed/masks/{j}/{i:04d}.png', mask)\n",
      "C:\\Users\\Billy\\AppData\\Local\\Temp\\ipykernel_23596\\2270396033.py:53: UserWarning: data/preprocessed/masks/2/0013.png is a low contrast image\n",
      "  io.imsave(f'data/preprocessed/masks/{j}/{i:04d}.png', mask)\n",
      "C:\\Users\\Billy\\AppData\\Local\\Temp\\ipykernel_23596\\2270396033.py:53: UserWarning: data/preprocessed/masks/3/0013.png is a low contrast image\n",
      "  io.imsave(f'data/preprocessed/masks/{j}/{i:04d}.png', mask)\n"
     ]
    },
    {
     "name": "stdout",
     "output_type": "stream",
     "text": [
      "14/193\n",
      "Template white balancing\n"
     ]
    },
    {
     "name": "stderr",
     "output_type": "stream",
     "text": [
      "C:\\Users\\Billy\\AppData\\Local\\Temp\\ipykernel_23596\\2270396033.py:53: UserWarning: data/preprocessed/masks/0/0014.png is a low contrast image\n",
      "  io.imsave(f'data/preprocessed/masks/{j}/{i:04d}.png', mask)\n",
      "C:\\Users\\Billy\\AppData\\Local\\Temp\\ipykernel_23596\\2270396033.py:53: UserWarning: data/preprocessed/masks/1/0014.png is a low contrast image\n",
      "  io.imsave(f'data/preprocessed/masks/{j}/{i:04d}.png', mask)\n",
      "C:\\Users\\Billy\\AppData\\Local\\Temp\\ipykernel_23596\\2270396033.py:53: UserWarning: data/preprocessed/masks/2/0014.png is a low contrast image\n",
      "  io.imsave(f'data/preprocessed/masks/{j}/{i:04d}.png', mask)\n",
      "C:\\Users\\Billy\\AppData\\Local\\Temp\\ipykernel_23596\\2270396033.py:53: UserWarning: data/preprocessed/masks/3/0014.png is a low contrast image\n",
      "  io.imsave(f'data/preprocessed/masks/{j}/{i:04d}.png', mask)\n"
     ]
    },
    {
     "name": "stdout",
     "output_type": "stream",
     "text": [
      "15/193\n",
      "Template white balancing\n"
     ]
    },
    {
     "name": "stderr",
     "output_type": "stream",
     "text": [
      "C:\\Users\\Billy\\AppData\\Local\\Temp\\ipykernel_23596\\2270396033.py:53: UserWarning: data/preprocessed/masks/0/0015.png is a low contrast image\n",
      "  io.imsave(f'data/preprocessed/masks/{j}/{i:04d}.png', mask)\n",
      "C:\\Users\\Billy\\AppData\\Local\\Temp\\ipykernel_23596\\2270396033.py:53: UserWarning: data/preprocessed/masks/1/0015.png is a low contrast image\n",
      "  io.imsave(f'data/preprocessed/masks/{j}/{i:04d}.png', mask)\n",
      "C:\\Users\\Billy\\AppData\\Local\\Temp\\ipykernel_23596\\2270396033.py:53: UserWarning: data/preprocessed/masks/2/0015.png is a low contrast image\n",
      "  io.imsave(f'data/preprocessed/masks/{j}/{i:04d}.png', mask)\n",
      "C:\\Users\\Billy\\AppData\\Local\\Temp\\ipykernel_23596\\2270396033.py:53: UserWarning: data/preprocessed/masks/3/0015.png is a low contrast image\n",
      "  io.imsave(f'data/preprocessed/masks/{j}/{i:04d}.png', mask)\n"
     ]
    },
    {
     "name": "stdout",
     "output_type": "stream",
     "text": [
      "16/193\n",
      "Template white balancing\n"
     ]
    },
    {
     "name": "stderr",
     "output_type": "stream",
     "text": [
      "C:\\Users\\Billy\\AppData\\Local\\Temp\\ipykernel_23596\\2270396033.py:53: UserWarning: data/preprocessed/masks/0/0016.png is a low contrast image\n",
      "  io.imsave(f'data/preprocessed/masks/{j}/{i:04d}.png', mask)\n",
      "C:\\Users\\Billy\\AppData\\Local\\Temp\\ipykernel_23596\\2270396033.py:53: UserWarning: data/preprocessed/masks/1/0016.png is a low contrast image\n",
      "  io.imsave(f'data/preprocessed/masks/{j}/{i:04d}.png', mask)\n",
      "C:\\Users\\Billy\\AppData\\Local\\Temp\\ipykernel_23596\\2270396033.py:53: UserWarning: data/preprocessed/masks/2/0016.png is a low contrast image\n",
      "  io.imsave(f'data/preprocessed/masks/{j}/{i:04d}.png', mask)\n",
      "C:\\Users\\Billy\\AppData\\Local\\Temp\\ipykernel_23596\\2270396033.py:53: UserWarning: data/preprocessed/masks/3/0016.png is a low contrast image\n",
      "  io.imsave(f'data/preprocessed/masks/{j}/{i:04d}.png', mask)\n"
     ]
    },
    {
     "name": "stdout",
     "output_type": "stream",
     "text": [
      "17/193\n",
      "Template white balancing\n"
     ]
    },
    {
     "name": "stderr",
     "output_type": "stream",
     "text": [
      "C:\\Users\\Billy\\AppData\\Local\\Temp\\ipykernel_23596\\2270396033.py:53: UserWarning: data/preprocessed/masks/0/0017.png is a low contrast image\n",
      "  io.imsave(f'data/preprocessed/masks/{j}/{i:04d}.png', mask)\n",
      "C:\\Users\\Billy\\AppData\\Local\\Temp\\ipykernel_23596\\2270396033.py:53: UserWarning: data/preprocessed/masks/1/0017.png is a low contrast image\n",
      "  io.imsave(f'data/preprocessed/masks/{j}/{i:04d}.png', mask)\n",
      "C:\\Users\\Billy\\AppData\\Local\\Temp\\ipykernel_23596\\2270396033.py:53: UserWarning: data/preprocessed/masks/2/0017.png is a low contrast image\n",
      "  io.imsave(f'data/preprocessed/masks/{j}/{i:04d}.png', mask)\n",
      "C:\\Users\\Billy\\AppData\\Local\\Temp\\ipykernel_23596\\2270396033.py:53: UserWarning: data/preprocessed/masks/3/0017.png is a low contrast image\n",
      "  io.imsave(f'data/preprocessed/masks/{j}/{i:04d}.png', mask)\n"
     ]
    },
    {
     "name": "stdout",
     "output_type": "stream",
     "text": [
      "18/193\n",
      "Template white balancing\n"
     ]
    },
    {
     "name": "stderr",
     "output_type": "stream",
     "text": [
      "C:\\Users\\Billy\\AppData\\Local\\Temp\\ipykernel_23596\\2270396033.py:53: UserWarning: data/preprocessed/masks/0/0018.png is a low contrast image\n",
      "  io.imsave(f'data/preprocessed/masks/{j}/{i:04d}.png', mask)\n",
      "C:\\Users\\Billy\\AppData\\Local\\Temp\\ipykernel_23596\\2270396033.py:53: UserWarning: data/preprocessed/masks/1/0018.png is a low contrast image\n",
      "  io.imsave(f'data/preprocessed/masks/{j}/{i:04d}.png', mask)\n",
      "C:\\Users\\Billy\\AppData\\Local\\Temp\\ipykernel_23596\\2270396033.py:53: UserWarning: data/preprocessed/masks/2/0018.png is a low contrast image\n",
      "  io.imsave(f'data/preprocessed/masks/{j}/{i:04d}.png', mask)\n",
      "C:\\Users\\Billy\\AppData\\Local\\Temp\\ipykernel_23596\\2270396033.py:53: UserWarning: data/preprocessed/masks/3/0018.png is a low contrast image\n",
      "  io.imsave(f'data/preprocessed/masks/{j}/{i:04d}.png', mask)\n"
     ]
    },
    {
     "name": "stdout",
     "output_type": "stream",
     "text": [
      "19/193\n",
      "Template white balancing\n"
     ]
    },
    {
     "name": "stderr",
     "output_type": "stream",
     "text": [
      "C:\\Users\\Billy\\AppData\\Local\\Temp\\ipykernel_23596\\2270396033.py:53: UserWarning: data/preprocessed/masks/0/0019.png is a low contrast image\n",
      "  io.imsave(f'data/preprocessed/masks/{j}/{i:04d}.png', mask)\n",
      "C:\\Users\\Billy\\AppData\\Local\\Temp\\ipykernel_23596\\2270396033.py:53: UserWarning: data/preprocessed/masks/1/0019.png is a low contrast image\n",
      "  io.imsave(f'data/preprocessed/masks/{j}/{i:04d}.png', mask)\n",
      "C:\\Users\\Billy\\AppData\\Local\\Temp\\ipykernel_23596\\2270396033.py:53: UserWarning: data/preprocessed/masks/2/0019.png is a low contrast image\n",
      "  io.imsave(f'data/preprocessed/masks/{j}/{i:04d}.png', mask)\n",
      "C:\\Users\\Billy\\AppData\\Local\\Temp\\ipykernel_23596\\2270396033.py:53: UserWarning: data/preprocessed/masks/3/0019.png is a low contrast image\n",
      "  io.imsave(f'data/preprocessed/masks/{j}/{i:04d}.png', mask)\n"
     ]
    },
    {
     "name": "stdout",
     "output_type": "stream",
     "text": [
      "20/193\n",
      "Template white balancing\n"
     ]
    },
    {
     "name": "stderr",
     "output_type": "stream",
     "text": [
      "C:\\Users\\Billy\\AppData\\Local\\Temp\\ipykernel_23596\\2270396033.py:53: UserWarning: data/preprocessed/masks/0/0020.png is a low contrast image\n",
      "  io.imsave(f'data/preprocessed/masks/{j}/{i:04d}.png', mask)\n",
      "C:\\Users\\Billy\\AppData\\Local\\Temp\\ipykernel_23596\\2270396033.py:53: UserWarning: data/preprocessed/masks/1/0020.png is a low contrast image\n",
      "  io.imsave(f'data/preprocessed/masks/{j}/{i:04d}.png', mask)\n",
      "C:\\Users\\Billy\\AppData\\Local\\Temp\\ipykernel_23596\\2270396033.py:53: UserWarning: data/preprocessed/masks/2/0020.png is a low contrast image\n",
      "  io.imsave(f'data/preprocessed/masks/{j}/{i:04d}.png', mask)\n",
      "C:\\Users\\Billy\\AppData\\Local\\Temp\\ipykernel_23596\\2270396033.py:53: UserWarning: data/preprocessed/masks/3/0020.png is a low contrast image\n",
      "  io.imsave(f'data/preprocessed/masks/{j}/{i:04d}.png', mask)\n"
     ]
    },
    {
     "name": "stdout",
     "output_type": "stream",
     "text": [
      "21/193\n",
      "Template white balancing\n"
     ]
    },
    {
     "name": "stderr",
     "output_type": "stream",
     "text": [
      "C:\\Users\\Billy\\AppData\\Local\\Temp\\ipykernel_23596\\2270396033.py:53: UserWarning: data/preprocessed/masks/0/0021.png is a low contrast image\n",
      "  io.imsave(f'data/preprocessed/masks/{j}/{i:04d}.png', mask)\n",
      "C:\\Users\\Billy\\AppData\\Local\\Temp\\ipykernel_23596\\2270396033.py:53: UserWarning: data/preprocessed/masks/1/0021.png is a low contrast image\n",
      "  io.imsave(f'data/preprocessed/masks/{j}/{i:04d}.png', mask)\n",
      "C:\\Users\\Billy\\AppData\\Local\\Temp\\ipykernel_23596\\2270396033.py:53: UserWarning: data/preprocessed/masks/2/0021.png is a low contrast image\n",
      "  io.imsave(f'data/preprocessed/masks/{j}/{i:04d}.png', mask)\n",
      "C:\\Users\\Billy\\AppData\\Local\\Temp\\ipykernel_23596\\2270396033.py:53: UserWarning: data/preprocessed/masks/3/0021.png is a low contrast image\n",
      "  io.imsave(f'data/preprocessed/masks/{j}/{i:04d}.png', mask)\n"
     ]
    },
    {
     "name": "stdout",
     "output_type": "stream",
     "text": [
      "22/193\n",
      "Template white balancing\n"
     ]
    },
    {
     "name": "stderr",
     "output_type": "stream",
     "text": [
      "C:\\Users\\Billy\\AppData\\Local\\Temp\\ipykernel_23596\\2270396033.py:53: UserWarning: data/preprocessed/masks/0/0022.png is a low contrast image\n",
      "  io.imsave(f'data/preprocessed/masks/{j}/{i:04d}.png', mask)\n",
      "C:\\Users\\Billy\\AppData\\Local\\Temp\\ipykernel_23596\\2270396033.py:53: UserWarning: data/preprocessed/masks/1/0022.png is a low contrast image\n",
      "  io.imsave(f'data/preprocessed/masks/{j}/{i:04d}.png', mask)\n",
      "C:\\Users\\Billy\\AppData\\Local\\Temp\\ipykernel_23596\\2270396033.py:53: UserWarning: data/preprocessed/masks/2/0022.png is a low contrast image\n",
      "  io.imsave(f'data/preprocessed/masks/{j}/{i:04d}.png', mask)\n",
      "C:\\Users\\Billy\\AppData\\Local\\Temp\\ipykernel_23596\\2270396033.py:53: UserWarning: data/preprocessed/masks/3/0022.png is a low contrast image\n",
      "  io.imsave(f'data/preprocessed/masks/{j}/{i:04d}.png', mask)\n"
     ]
    },
    {
     "name": "stdout",
     "output_type": "stream",
     "text": [
      "23/193\n",
      "Template white balancing\n"
     ]
    },
    {
     "name": "stderr",
     "output_type": "stream",
     "text": [
      "C:\\Users\\Billy\\AppData\\Local\\Temp\\ipykernel_23596\\2270396033.py:53: UserWarning: data/preprocessed/masks/0/0023.png is a low contrast image\n",
      "  io.imsave(f'data/preprocessed/masks/{j}/{i:04d}.png', mask)\n",
      "C:\\Users\\Billy\\AppData\\Local\\Temp\\ipykernel_23596\\2270396033.py:53: UserWarning: data/preprocessed/masks/1/0023.png is a low contrast image\n",
      "  io.imsave(f'data/preprocessed/masks/{j}/{i:04d}.png', mask)\n",
      "C:\\Users\\Billy\\AppData\\Local\\Temp\\ipykernel_23596\\2270396033.py:53: UserWarning: data/preprocessed/masks/2/0023.png is a low contrast image\n",
      "  io.imsave(f'data/preprocessed/masks/{j}/{i:04d}.png', mask)\n",
      "C:\\Users\\Billy\\AppData\\Local\\Temp\\ipykernel_23596\\2270396033.py:53: UserWarning: data/preprocessed/masks/3/0023.png is a low contrast image\n",
      "  io.imsave(f'data/preprocessed/masks/{j}/{i:04d}.png', mask)\n"
     ]
    },
    {
     "name": "stdout",
     "output_type": "stream",
     "text": [
      "24/193\n",
      "Template white balancing\n"
     ]
    },
    {
     "name": "stderr",
     "output_type": "stream",
     "text": [
      "C:\\Users\\Billy\\AppData\\Local\\Temp\\ipykernel_23596\\2270396033.py:53: UserWarning: data/preprocessed/masks/0/0024.png is a low contrast image\n",
      "  io.imsave(f'data/preprocessed/masks/{j}/{i:04d}.png', mask)\n",
      "C:\\Users\\Billy\\AppData\\Local\\Temp\\ipykernel_23596\\2270396033.py:53: UserWarning: data/preprocessed/masks/1/0024.png is a low contrast image\n",
      "  io.imsave(f'data/preprocessed/masks/{j}/{i:04d}.png', mask)\n",
      "C:\\Users\\Billy\\AppData\\Local\\Temp\\ipykernel_23596\\2270396033.py:53: UserWarning: data/preprocessed/masks/2/0024.png is a low contrast image\n",
      "  io.imsave(f'data/preprocessed/masks/{j}/{i:04d}.png', mask)\n",
      "C:\\Users\\Billy\\AppData\\Local\\Temp\\ipykernel_23596\\2270396033.py:53: UserWarning: data/preprocessed/masks/3/0024.png is a low contrast image\n",
      "  io.imsave(f'data/preprocessed/masks/{j}/{i:04d}.png', mask)\n"
     ]
    },
    {
     "name": "stdout",
     "output_type": "stream",
     "text": [
      "25/193\n",
      "Template white balancing\n"
     ]
    },
    {
     "name": "stderr",
     "output_type": "stream",
     "text": [
      "C:\\Users\\Billy\\AppData\\Local\\Temp\\ipykernel_23596\\2270396033.py:53: UserWarning: data/preprocessed/masks/0/0025.png is a low contrast image\n",
      "  io.imsave(f'data/preprocessed/masks/{j}/{i:04d}.png', mask)\n",
      "C:\\Users\\Billy\\AppData\\Local\\Temp\\ipykernel_23596\\2270396033.py:53: UserWarning: data/preprocessed/masks/1/0025.png is a low contrast image\n",
      "  io.imsave(f'data/preprocessed/masks/{j}/{i:04d}.png', mask)\n",
      "C:\\Users\\Billy\\AppData\\Local\\Temp\\ipykernel_23596\\2270396033.py:53: UserWarning: data/preprocessed/masks/2/0025.png is a low contrast image\n",
      "  io.imsave(f'data/preprocessed/masks/{j}/{i:04d}.png', mask)\n",
      "C:\\Users\\Billy\\AppData\\Local\\Temp\\ipykernel_23596\\2270396033.py:53: UserWarning: data/preprocessed/masks/3/0025.png is a low contrast image\n",
      "  io.imsave(f'data/preprocessed/masks/{j}/{i:04d}.png', mask)\n"
     ]
    },
    {
     "name": "stdout",
     "output_type": "stream",
     "text": [
      "26/193\n",
      "Template white balancing\n"
     ]
    },
    {
     "name": "stderr",
     "output_type": "stream",
     "text": [
      "C:\\Users\\Billy\\AppData\\Local\\Temp\\ipykernel_23596\\2270396033.py:53: UserWarning: data/preprocessed/masks/0/0026.png is a low contrast image\n",
      "  io.imsave(f'data/preprocessed/masks/{j}/{i:04d}.png', mask)\n",
      "C:\\Users\\Billy\\AppData\\Local\\Temp\\ipykernel_23596\\2270396033.py:53: UserWarning: data/preprocessed/masks/1/0026.png is a low contrast image\n",
      "  io.imsave(f'data/preprocessed/masks/{j}/{i:04d}.png', mask)\n",
      "C:\\Users\\Billy\\AppData\\Local\\Temp\\ipykernel_23596\\2270396033.py:53: UserWarning: data/preprocessed/masks/2/0026.png is a low contrast image\n",
      "  io.imsave(f'data/preprocessed/masks/{j}/{i:04d}.png', mask)\n",
      "C:\\Users\\Billy\\AppData\\Local\\Temp\\ipykernel_23596\\2270396033.py:53: UserWarning: data/preprocessed/masks/3/0026.png is a low contrast image\n",
      "  io.imsave(f'data/preprocessed/masks/{j}/{i:04d}.png', mask)\n"
     ]
    },
    {
     "name": "stdout",
     "output_type": "stream",
     "text": [
      "27/193\n",
      "Template white balancing\n"
     ]
    },
    {
     "name": "stderr",
     "output_type": "stream",
     "text": [
      "C:\\Users\\Billy\\AppData\\Local\\Temp\\ipykernel_23596\\2270396033.py:53: UserWarning: data/preprocessed/masks/0/0027.png is a low contrast image\n",
      "  io.imsave(f'data/preprocessed/masks/{j}/{i:04d}.png', mask)\n",
      "C:\\Users\\Billy\\AppData\\Local\\Temp\\ipykernel_23596\\2270396033.py:53: UserWarning: data/preprocessed/masks/1/0027.png is a low contrast image\n",
      "  io.imsave(f'data/preprocessed/masks/{j}/{i:04d}.png', mask)\n",
      "C:\\Users\\Billy\\AppData\\Local\\Temp\\ipykernel_23596\\2270396033.py:53: UserWarning: data/preprocessed/masks/2/0027.png is a low contrast image\n",
      "  io.imsave(f'data/preprocessed/masks/{j}/{i:04d}.png', mask)\n",
      "C:\\Users\\Billy\\AppData\\Local\\Temp\\ipykernel_23596\\2270396033.py:53: UserWarning: data/preprocessed/masks/3/0027.png is a low contrast image\n",
      "  io.imsave(f'data/preprocessed/masks/{j}/{i:04d}.png', mask)\n"
     ]
    },
    {
     "name": "stdout",
     "output_type": "stream",
     "text": [
      "28/193\n",
      "Template white balancing\n"
     ]
    },
    {
     "name": "stderr",
     "output_type": "stream",
     "text": [
      "C:\\Users\\Billy\\AppData\\Local\\Temp\\ipykernel_23596\\2270396033.py:53: UserWarning: data/preprocessed/masks/0/0028.png is a low contrast image\n",
      "  io.imsave(f'data/preprocessed/masks/{j}/{i:04d}.png', mask)\n",
      "C:\\Users\\Billy\\AppData\\Local\\Temp\\ipykernel_23596\\2270396033.py:53: UserWarning: data/preprocessed/masks/1/0028.png is a low contrast image\n",
      "  io.imsave(f'data/preprocessed/masks/{j}/{i:04d}.png', mask)\n",
      "C:\\Users\\Billy\\AppData\\Local\\Temp\\ipykernel_23596\\2270396033.py:53: UserWarning: data/preprocessed/masks/2/0028.png is a low contrast image\n",
      "  io.imsave(f'data/preprocessed/masks/{j}/{i:04d}.png', mask)\n",
      "C:\\Users\\Billy\\AppData\\Local\\Temp\\ipykernel_23596\\2270396033.py:53: UserWarning: data/preprocessed/masks/3/0028.png is a low contrast image\n",
      "  io.imsave(f'data/preprocessed/masks/{j}/{i:04d}.png', mask)\n"
     ]
    },
    {
     "name": "stdout",
     "output_type": "stream",
     "text": [
      "29/193\n",
      "Template white balancing\n"
     ]
    },
    {
     "name": "stderr",
     "output_type": "stream",
     "text": [
      "C:\\Users\\Billy\\AppData\\Local\\Temp\\ipykernel_23596\\2270396033.py:53: UserWarning: data/preprocessed/masks/0/0029.png is a low contrast image\n",
      "  io.imsave(f'data/preprocessed/masks/{j}/{i:04d}.png', mask)\n",
      "C:\\Users\\Billy\\AppData\\Local\\Temp\\ipykernel_23596\\2270396033.py:53: UserWarning: data/preprocessed/masks/1/0029.png is a low contrast image\n",
      "  io.imsave(f'data/preprocessed/masks/{j}/{i:04d}.png', mask)\n",
      "C:\\Users\\Billy\\AppData\\Local\\Temp\\ipykernel_23596\\2270396033.py:53: UserWarning: data/preprocessed/masks/2/0029.png is a low contrast image\n",
      "  io.imsave(f'data/preprocessed/masks/{j}/{i:04d}.png', mask)\n",
      "C:\\Users\\Billy\\AppData\\Local\\Temp\\ipykernel_23596\\2270396033.py:53: UserWarning: data/preprocessed/masks/3/0029.png is a low contrast image\n",
      "  io.imsave(f'data/preprocessed/masks/{j}/{i:04d}.png', mask)\n"
     ]
    },
    {
     "name": "stdout",
     "output_type": "stream",
     "text": [
      "30/193\n",
      "Template white balancing\n"
     ]
    },
    {
     "name": "stderr",
     "output_type": "stream",
     "text": [
      "C:\\Users\\Billy\\AppData\\Local\\Temp\\ipykernel_23596\\2270396033.py:53: UserWarning: data/preprocessed/masks/0/0030.png is a low contrast image\n",
      "  io.imsave(f'data/preprocessed/masks/{j}/{i:04d}.png', mask)\n",
      "C:\\Users\\Billy\\AppData\\Local\\Temp\\ipykernel_23596\\2270396033.py:53: UserWarning: data/preprocessed/masks/1/0030.png is a low contrast image\n",
      "  io.imsave(f'data/preprocessed/masks/{j}/{i:04d}.png', mask)\n",
      "C:\\Users\\Billy\\AppData\\Local\\Temp\\ipykernel_23596\\2270396033.py:53: UserWarning: data/preprocessed/masks/2/0030.png is a low contrast image\n",
      "  io.imsave(f'data/preprocessed/masks/{j}/{i:04d}.png', mask)\n",
      "C:\\Users\\Billy\\AppData\\Local\\Temp\\ipykernel_23596\\2270396033.py:53: UserWarning: data/preprocessed/masks/3/0030.png is a low contrast image\n",
      "  io.imsave(f'data/preprocessed/masks/{j}/{i:04d}.png', mask)\n"
     ]
    },
    {
     "name": "stdout",
     "output_type": "stream",
     "text": [
      "31/193\n",
      "Template white balancing\n"
     ]
    },
    {
     "name": "stderr",
     "output_type": "stream",
     "text": [
      "C:\\Users\\Billy\\AppData\\Local\\Temp\\ipykernel_23596\\2270396033.py:53: UserWarning: data/preprocessed/masks/0/0031.png is a low contrast image\n",
      "  io.imsave(f'data/preprocessed/masks/{j}/{i:04d}.png', mask)\n",
      "C:\\Users\\Billy\\AppData\\Local\\Temp\\ipykernel_23596\\2270396033.py:53: UserWarning: data/preprocessed/masks/1/0031.png is a low contrast image\n",
      "  io.imsave(f'data/preprocessed/masks/{j}/{i:04d}.png', mask)\n",
      "C:\\Users\\Billy\\AppData\\Local\\Temp\\ipykernel_23596\\2270396033.py:53: UserWarning: data/preprocessed/masks/2/0031.png is a low contrast image\n",
      "  io.imsave(f'data/preprocessed/masks/{j}/{i:04d}.png', mask)\n",
      "C:\\Users\\Billy\\AppData\\Local\\Temp\\ipykernel_23596\\2270396033.py:53: UserWarning: data/preprocessed/masks/3/0031.png is a low contrast image\n",
      "  io.imsave(f'data/preprocessed/masks/{j}/{i:04d}.png', mask)\n"
     ]
    },
    {
     "name": "stdout",
     "output_type": "stream",
     "text": [
      "32/193\n",
      "Template white balancing\n"
     ]
    },
    {
     "name": "stderr",
     "output_type": "stream",
     "text": [
      "C:\\Users\\Billy\\AppData\\Local\\Temp\\ipykernel_23596\\2270396033.py:53: UserWarning: data/preprocessed/masks/0/0032.png is a low contrast image\n",
      "  io.imsave(f'data/preprocessed/masks/{j}/{i:04d}.png', mask)\n",
      "C:\\Users\\Billy\\AppData\\Local\\Temp\\ipykernel_23596\\2270396033.py:53: UserWarning: data/preprocessed/masks/1/0032.png is a low contrast image\n",
      "  io.imsave(f'data/preprocessed/masks/{j}/{i:04d}.png', mask)\n",
      "C:\\Users\\Billy\\AppData\\Local\\Temp\\ipykernel_23596\\2270396033.py:53: UserWarning: data/preprocessed/masks/2/0032.png is a low contrast image\n",
      "  io.imsave(f'data/preprocessed/masks/{j}/{i:04d}.png', mask)\n",
      "C:\\Users\\Billy\\AppData\\Local\\Temp\\ipykernel_23596\\2270396033.py:53: UserWarning: data/preprocessed/masks/3/0032.png is a low contrast image\n",
      "  io.imsave(f'data/preprocessed/masks/{j}/{i:04d}.png', mask)\n"
     ]
    },
    {
     "name": "stdout",
     "output_type": "stream",
     "text": [
      "33/193\n",
      "Template white balancing\n"
     ]
    },
    {
     "name": "stderr",
     "output_type": "stream",
     "text": [
      "C:\\Users\\Billy\\AppData\\Local\\Temp\\ipykernel_23596\\2270396033.py:53: UserWarning: data/preprocessed/masks/0/0033.png is a low contrast image\n",
      "  io.imsave(f'data/preprocessed/masks/{j}/{i:04d}.png', mask)\n",
      "C:\\Users\\Billy\\AppData\\Local\\Temp\\ipykernel_23596\\2270396033.py:53: UserWarning: data/preprocessed/masks/1/0033.png is a low contrast image\n",
      "  io.imsave(f'data/preprocessed/masks/{j}/{i:04d}.png', mask)\n",
      "C:\\Users\\Billy\\AppData\\Local\\Temp\\ipykernel_23596\\2270396033.py:53: UserWarning: data/preprocessed/masks/2/0033.png is a low contrast image\n",
      "  io.imsave(f'data/preprocessed/masks/{j}/{i:04d}.png', mask)\n",
      "C:\\Users\\Billy\\AppData\\Local\\Temp\\ipykernel_23596\\2270396033.py:53: UserWarning: data/preprocessed/masks/3/0033.png is a low contrast image\n",
      "  io.imsave(f'data/preprocessed/masks/{j}/{i:04d}.png', mask)\n"
     ]
    },
    {
     "name": "stdout",
     "output_type": "stream",
     "text": [
      "34/193\n",
      "Template white balancing\n"
     ]
    },
    {
     "name": "stderr",
     "output_type": "stream",
     "text": [
      "C:\\Users\\Billy\\AppData\\Local\\Temp\\ipykernel_23596\\2270396033.py:53: UserWarning: data/preprocessed/masks/0/0034.png is a low contrast image\n",
      "  io.imsave(f'data/preprocessed/masks/{j}/{i:04d}.png', mask)\n",
      "C:\\Users\\Billy\\AppData\\Local\\Temp\\ipykernel_23596\\2270396033.py:53: UserWarning: data/preprocessed/masks/1/0034.png is a low contrast image\n",
      "  io.imsave(f'data/preprocessed/masks/{j}/{i:04d}.png', mask)\n",
      "C:\\Users\\Billy\\AppData\\Local\\Temp\\ipykernel_23596\\2270396033.py:53: UserWarning: data/preprocessed/masks/2/0034.png is a low contrast image\n",
      "  io.imsave(f'data/preprocessed/masks/{j}/{i:04d}.png', mask)\n",
      "C:\\Users\\Billy\\AppData\\Local\\Temp\\ipykernel_23596\\2270396033.py:53: UserWarning: data/preprocessed/masks/3/0034.png is a low contrast image\n",
      "  io.imsave(f'data/preprocessed/masks/{j}/{i:04d}.png', mask)\n"
     ]
    },
    {
     "name": "stdout",
     "output_type": "stream",
     "text": [
      "35/193\n",
      "Template white balancing\n"
     ]
    },
    {
     "name": "stderr",
     "output_type": "stream",
     "text": [
      "C:\\Users\\Billy\\AppData\\Local\\Temp\\ipykernel_23596\\2270396033.py:53: UserWarning: data/preprocessed/masks/0/0035.png is a low contrast image\n",
      "  io.imsave(f'data/preprocessed/masks/{j}/{i:04d}.png', mask)\n",
      "C:\\Users\\Billy\\AppData\\Local\\Temp\\ipykernel_23596\\2270396033.py:53: UserWarning: data/preprocessed/masks/1/0035.png is a low contrast image\n",
      "  io.imsave(f'data/preprocessed/masks/{j}/{i:04d}.png', mask)\n",
      "C:\\Users\\Billy\\AppData\\Local\\Temp\\ipykernel_23596\\2270396033.py:53: UserWarning: data/preprocessed/masks/2/0035.png is a low contrast image\n",
      "  io.imsave(f'data/preprocessed/masks/{j}/{i:04d}.png', mask)\n",
      "C:\\Users\\Billy\\AppData\\Local\\Temp\\ipykernel_23596\\2270396033.py:53: UserWarning: data/preprocessed/masks/3/0035.png is a low contrast image\n",
      "  io.imsave(f'data/preprocessed/masks/{j}/{i:04d}.png', mask)\n"
     ]
    },
    {
     "name": "stdout",
     "output_type": "stream",
     "text": [
      "36/193\n",
      "Template white balancing\n"
     ]
    },
    {
     "name": "stderr",
     "output_type": "stream",
     "text": [
      "C:\\Users\\Billy\\AppData\\Local\\Temp\\ipykernel_23596\\2270396033.py:53: UserWarning: data/preprocessed/masks/0/0036.png is a low contrast image\n",
      "  io.imsave(f'data/preprocessed/masks/{j}/{i:04d}.png', mask)\n",
      "C:\\Users\\Billy\\AppData\\Local\\Temp\\ipykernel_23596\\2270396033.py:53: UserWarning: data/preprocessed/masks/1/0036.png is a low contrast image\n",
      "  io.imsave(f'data/preprocessed/masks/{j}/{i:04d}.png', mask)\n",
      "C:\\Users\\Billy\\AppData\\Local\\Temp\\ipykernel_23596\\2270396033.py:53: UserWarning: data/preprocessed/masks/2/0036.png is a low contrast image\n",
      "  io.imsave(f'data/preprocessed/masks/{j}/{i:04d}.png', mask)\n",
      "C:\\Users\\Billy\\AppData\\Local\\Temp\\ipykernel_23596\\2270396033.py:53: UserWarning: data/preprocessed/masks/3/0036.png is a low contrast image\n",
      "  io.imsave(f'data/preprocessed/masks/{j}/{i:04d}.png', mask)\n"
     ]
    },
    {
     "name": "stdout",
     "output_type": "stream",
     "text": [
      "37/193\n",
      "Template white balancing\n"
     ]
    },
    {
     "name": "stderr",
     "output_type": "stream",
     "text": [
      "C:\\Users\\Billy\\AppData\\Local\\Temp\\ipykernel_23596\\2270396033.py:53: UserWarning: data/preprocessed/masks/0/0037.png is a low contrast image\n",
      "  io.imsave(f'data/preprocessed/masks/{j}/{i:04d}.png', mask)\n",
      "C:\\Users\\Billy\\AppData\\Local\\Temp\\ipykernel_23596\\2270396033.py:53: UserWarning: data/preprocessed/masks/1/0037.png is a low contrast image\n",
      "  io.imsave(f'data/preprocessed/masks/{j}/{i:04d}.png', mask)\n",
      "C:\\Users\\Billy\\AppData\\Local\\Temp\\ipykernel_23596\\2270396033.py:53: UserWarning: data/preprocessed/masks/2/0037.png is a low contrast image\n",
      "  io.imsave(f'data/preprocessed/masks/{j}/{i:04d}.png', mask)\n",
      "C:\\Users\\Billy\\AppData\\Local\\Temp\\ipykernel_23596\\2270396033.py:53: UserWarning: data/preprocessed/masks/3/0037.png is a low contrast image\n",
      "  io.imsave(f'data/preprocessed/masks/{j}/{i:04d}.png', mask)\n"
     ]
    },
    {
     "name": "stdout",
     "output_type": "stream",
     "text": [
      "38/193\n",
      "Template white balancing\n"
     ]
    },
    {
     "name": "stderr",
     "output_type": "stream",
     "text": [
      "C:\\Users\\Billy\\AppData\\Local\\Temp\\ipykernel_23596\\2270396033.py:53: UserWarning: data/preprocessed/masks/0/0038.png is a low contrast image\n",
      "  io.imsave(f'data/preprocessed/masks/{j}/{i:04d}.png', mask)\n",
      "C:\\Users\\Billy\\AppData\\Local\\Temp\\ipykernel_23596\\2270396033.py:53: UserWarning: data/preprocessed/masks/1/0038.png is a low contrast image\n",
      "  io.imsave(f'data/preprocessed/masks/{j}/{i:04d}.png', mask)\n",
      "C:\\Users\\Billy\\AppData\\Local\\Temp\\ipykernel_23596\\2270396033.py:53: UserWarning: data/preprocessed/masks/2/0038.png is a low contrast image\n",
      "  io.imsave(f'data/preprocessed/masks/{j}/{i:04d}.png', mask)\n",
      "C:\\Users\\Billy\\AppData\\Local\\Temp\\ipykernel_23596\\2270396033.py:53: UserWarning: data/preprocessed/masks/3/0038.png is a low contrast image\n",
      "  io.imsave(f'data/preprocessed/masks/{j}/{i:04d}.png', mask)\n"
     ]
    },
    {
     "name": "stdout",
     "output_type": "stream",
     "text": [
      "39/193\n",
      "Template white balancing\n"
     ]
    },
    {
     "name": "stderr",
     "output_type": "stream",
     "text": [
      "C:\\Users\\Billy\\AppData\\Local\\Temp\\ipykernel_23596\\2270396033.py:53: UserWarning: data/preprocessed/masks/0/0039.png is a low contrast image\n",
      "  io.imsave(f'data/preprocessed/masks/{j}/{i:04d}.png', mask)\n",
      "C:\\Users\\Billy\\AppData\\Local\\Temp\\ipykernel_23596\\2270396033.py:53: UserWarning: data/preprocessed/masks/1/0039.png is a low contrast image\n",
      "  io.imsave(f'data/preprocessed/masks/{j}/{i:04d}.png', mask)\n",
      "C:\\Users\\Billy\\AppData\\Local\\Temp\\ipykernel_23596\\2270396033.py:53: UserWarning: data/preprocessed/masks/2/0039.png is a low contrast image\n",
      "  io.imsave(f'data/preprocessed/masks/{j}/{i:04d}.png', mask)\n",
      "C:\\Users\\Billy\\AppData\\Local\\Temp\\ipykernel_23596\\2270396033.py:53: UserWarning: data/preprocessed/masks/3/0039.png is a low contrast image\n",
      "  io.imsave(f'data/preprocessed/masks/{j}/{i:04d}.png', mask)\n"
     ]
    },
    {
     "name": "stdout",
     "output_type": "stream",
     "text": [
      "40/193\n",
      "Template white balancing\n"
     ]
    },
    {
     "name": "stderr",
     "output_type": "stream",
     "text": [
      "C:\\Users\\Billy\\AppData\\Local\\Temp\\ipykernel_23596\\2270396033.py:53: UserWarning: data/preprocessed/masks/0/0040.png is a low contrast image\n",
      "  io.imsave(f'data/preprocessed/masks/{j}/{i:04d}.png', mask)\n",
      "C:\\Users\\Billy\\AppData\\Local\\Temp\\ipykernel_23596\\2270396033.py:53: UserWarning: data/preprocessed/masks/1/0040.png is a low contrast image\n",
      "  io.imsave(f'data/preprocessed/masks/{j}/{i:04d}.png', mask)\n",
      "C:\\Users\\Billy\\AppData\\Local\\Temp\\ipykernel_23596\\2270396033.py:53: UserWarning: data/preprocessed/masks/2/0040.png is a low contrast image\n",
      "  io.imsave(f'data/preprocessed/masks/{j}/{i:04d}.png', mask)\n",
      "C:\\Users\\Billy\\AppData\\Local\\Temp\\ipykernel_23596\\2270396033.py:53: UserWarning: data/preprocessed/masks/3/0040.png is a low contrast image\n",
      "  io.imsave(f'data/preprocessed/masks/{j}/{i:04d}.png', mask)\n"
     ]
    },
    {
     "name": "stdout",
     "output_type": "stream",
     "text": [
      "41/193\n",
      "Template white balancing\n"
     ]
    },
    {
     "name": "stderr",
     "output_type": "stream",
     "text": [
      "C:\\Users\\Billy\\AppData\\Local\\Temp\\ipykernel_23596\\2270396033.py:53: UserWarning: data/preprocessed/masks/0/0041.png is a low contrast image\n",
      "  io.imsave(f'data/preprocessed/masks/{j}/{i:04d}.png', mask)\n",
      "C:\\Users\\Billy\\AppData\\Local\\Temp\\ipykernel_23596\\2270396033.py:53: UserWarning: data/preprocessed/masks/1/0041.png is a low contrast image\n",
      "  io.imsave(f'data/preprocessed/masks/{j}/{i:04d}.png', mask)\n",
      "C:\\Users\\Billy\\AppData\\Local\\Temp\\ipykernel_23596\\2270396033.py:53: UserWarning: data/preprocessed/masks/2/0041.png is a low contrast image\n",
      "  io.imsave(f'data/preprocessed/masks/{j}/{i:04d}.png', mask)\n",
      "C:\\Users\\Billy\\AppData\\Local\\Temp\\ipykernel_23596\\2270396033.py:53: UserWarning: data/preprocessed/masks/3/0041.png is a low contrast image\n",
      "  io.imsave(f'data/preprocessed/masks/{j}/{i:04d}.png', mask)\n"
     ]
    },
    {
     "name": "stdout",
     "output_type": "stream",
     "text": [
      "42/193\n",
      "Template white balancing\n"
     ]
    },
    {
     "name": "stderr",
     "output_type": "stream",
     "text": [
      "C:\\Users\\Billy\\AppData\\Local\\Temp\\ipykernel_23596\\2270396033.py:53: UserWarning: data/preprocessed/masks/0/0042.png is a low contrast image\n",
      "  io.imsave(f'data/preprocessed/masks/{j}/{i:04d}.png', mask)\n",
      "C:\\Users\\Billy\\AppData\\Local\\Temp\\ipykernel_23596\\2270396033.py:53: UserWarning: data/preprocessed/masks/1/0042.png is a low contrast image\n",
      "  io.imsave(f'data/preprocessed/masks/{j}/{i:04d}.png', mask)\n",
      "C:\\Users\\Billy\\AppData\\Local\\Temp\\ipykernel_23596\\2270396033.py:53: UserWarning: data/preprocessed/masks/2/0042.png is a low contrast image\n",
      "  io.imsave(f'data/preprocessed/masks/{j}/{i:04d}.png', mask)\n",
      "C:\\Users\\Billy\\AppData\\Local\\Temp\\ipykernel_23596\\2270396033.py:53: UserWarning: data/preprocessed/masks/3/0042.png is a low contrast image\n",
      "  io.imsave(f'data/preprocessed/masks/{j}/{i:04d}.png', mask)\n"
     ]
    },
    {
     "name": "stdout",
     "output_type": "stream",
     "text": [
      "43/193\n",
      "Template white balancing\n"
     ]
    },
    {
     "name": "stderr",
     "output_type": "stream",
     "text": [
      "C:\\Users\\Billy\\AppData\\Local\\Temp\\ipykernel_23596\\2270396033.py:53: UserWarning: data/preprocessed/masks/0/0043.png is a low contrast image\n",
      "  io.imsave(f'data/preprocessed/masks/{j}/{i:04d}.png', mask)\n",
      "C:\\Users\\Billy\\AppData\\Local\\Temp\\ipykernel_23596\\2270396033.py:53: UserWarning: data/preprocessed/masks/1/0043.png is a low contrast image\n",
      "  io.imsave(f'data/preprocessed/masks/{j}/{i:04d}.png', mask)\n",
      "C:\\Users\\Billy\\AppData\\Local\\Temp\\ipykernel_23596\\2270396033.py:53: UserWarning: data/preprocessed/masks/2/0043.png is a low contrast image\n",
      "  io.imsave(f'data/preprocessed/masks/{j}/{i:04d}.png', mask)\n",
      "C:\\Users\\Billy\\AppData\\Local\\Temp\\ipykernel_23596\\2270396033.py:53: UserWarning: data/preprocessed/masks/3/0043.png is a low contrast image\n",
      "  io.imsave(f'data/preprocessed/masks/{j}/{i:04d}.png', mask)\n"
     ]
    },
    {
     "name": "stdout",
     "output_type": "stream",
     "text": [
      "44/193\n",
      "Template white balancing\n"
     ]
    },
    {
     "name": "stderr",
     "output_type": "stream",
     "text": [
      "C:\\Users\\Billy\\AppData\\Local\\Temp\\ipykernel_23596\\2270396033.py:53: UserWarning: data/preprocessed/masks/0/0044.png is a low contrast image\n",
      "  io.imsave(f'data/preprocessed/masks/{j}/{i:04d}.png', mask)\n",
      "C:\\Users\\Billy\\AppData\\Local\\Temp\\ipykernel_23596\\2270396033.py:53: UserWarning: data/preprocessed/masks/1/0044.png is a low contrast image\n",
      "  io.imsave(f'data/preprocessed/masks/{j}/{i:04d}.png', mask)\n",
      "C:\\Users\\Billy\\AppData\\Local\\Temp\\ipykernel_23596\\2270396033.py:53: UserWarning: data/preprocessed/masks/2/0044.png is a low contrast image\n",
      "  io.imsave(f'data/preprocessed/masks/{j}/{i:04d}.png', mask)\n",
      "C:\\Users\\Billy\\AppData\\Local\\Temp\\ipykernel_23596\\2270396033.py:53: UserWarning: data/preprocessed/masks/3/0044.png is a low contrast image\n",
      "  io.imsave(f'data/preprocessed/masks/{j}/{i:04d}.png', mask)\n"
     ]
    },
    {
     "name": "stdout",
     "output_type": "stream",
     "text": [
      "45/193\n",
      "Template white balancing\n"
     ]
    },
    {
     "name": "stderr",
     "output_type": "stream",
     "text": [
      "C:\\Users\\Billy\\AppData\\Local\\Temp\\ipykernel_23596\\2270396033.py:53: UserWarning: data/preprocessed/masks/0/0045.png is a low contrast image\n",
      "  io.imsave(f'data/preprocessed/masks/{j}/{i:04d}.png', mask)\n",
      "C:\\Users\\Billy\\AppData\\Local\\Temp\\ipykernel_23596\\2270396033.py:53: UserWarning: data/preprocessed/masks/1/0045.png is a low contrast image\n",
      "  io.imsave(f'data/preprocessed/masks/{j}/{i:04d}.png', mask)\n",
      "C:\\Users\\Billy\\AppData\\Local\\Temp\\ipykernel_23596\\2270396033.py:53: UserWarning: data/preprocessed/masks/2/0045.png is a low contrast image\n",
      "  io.imsave(f'data/preprocessed/masks/{j}/{i:04d}.png', mask)\n",
      "C:\\Users\\Billy\\AppData\\Local\\Temp\\ipykernel_23596\\2270396033.py:53: UserWarning: data/preprocessed/masks/3/0045.png is a low contrast image\n",
      "  io.imsave(f'data/preprocessed/masks/{j}/{i:04d}.png', mask)\n"
     ]
    },
    {
     "name": "stdout",
     "output_type": "stream",
     "text": [
      "46/193\n",
      "Template white balancing\n"
     ]
    },
    {
     "name": "stderr",
     "output_type": "stream",
     "text": [
      "C:\\Users\\Billy\\AppData\\Local\\Temp\\ipykernel_23596\\2270396033.py:53: UserWarning: data/preprocessed/masks/0/0046.png is a low contrast image\n",
      "  io.imsave(f'data/preprocessed/masks/{j}/{i:04d}.png', mask)\n",
      "C:\\Users\\Billy\\AppData\\Local\\Temp\\ipykernel_23596\\2270396033.py:53: UserWarning: data/preprocessed/masks/1/0046.png is a low contrast image\n",
      "  io.imsave(f'data/preprocessed/masks/{j}/{i:04d}.png', mask)\n",
      "C:\\Users\\Billy\\AppData\\Local\\Temp\\ipykernel_23596\\2270396033.py:53: UserWarning: data/preprocessed/masks/2/0046.png is a low contrast image\n",
      "  io.imsave(f'data/preprocessed/masks/{j}/{i:04d}.png', mask)\n",
      "C:\\Users\\Billy\\AppData\\Local\\Temp\\ipykernel_23596\\2270396033.py:53: UserWarning: data/preprocessed/masks/3/0046.png is a low contrast image\n",
      "  io.imsave(f'data/preprocessed/masks/{j}/{i:04d}.png', mask)\n"
     ]
    },
    {
     "name": "stdout",
     "output_type": "stream",
     "text": [
      "47/193\n",
      "Template white balancing\n"
     ]
    },
    {
     "name": "stderr",
     "output_type": "stream",
     "text": [
      "C:\\Users\\Billy\\AppData\\Local\\Temp\\ipykernel_23596\\2270396033.py:53: UserWarning: data/preprocessed/masks/0/0047.png is a low contrast image\n",
      "  io.imsave(f'data/preprocessed/masks/{j}/{i:04d}.png', mask)\n",
      "C:\\Users\\Billy\\AppData\\Local\\Temp\\ipykernel_23596\\2270396033.py:53: UserWarning: data/preprocessed/masks/1/0047.png is a low contrast image\n",
      "  io.imsave(f'data/preprocessed/masks/{j}/{i:04d}.png', mask)\n",
      "C:\\Users\\Billy\\AppData\\Local\\Temp\\ipykernel_23596\\2270396033.py:53: UserWarning: data/preprocessed/masks/2/0047.png is a low contrast image\n",
      "  io.imsave(f'data/preprocessed/masks/{j}/{i:04d}.png', mask)\n",
      "C:\\Users\\Billy\\AppData\\Local\\Temp\\ipykernel_23596\\2270396033.py:53: UserWarning: data/preprocessed/masks/3/0047.png is a low contrast image\n",
      "  io.imsave(f'data/preprocessed/masks/{j}/{i:04d}.png', mask)\n"
     ]
    },
    {
     "name": "stdout",
     "output_type": "stream",
     "text": [
      "48/193\n",
      "Template white balancing\n"
     ]
    },
    {
     "name": "stderr",
     "output_type": "stream",
     "text": [
      "C:\\Users\\Billy\\AppData\\Local\\Temp\\ipykernel_23596\\2270396033.py:53: UserWarning: data/preprocessed/masks/0/0048.png is a low contrast image\n",
      "  io.imsave(f'data/preprocessed/masks/{j}/{i:04d}.png', mask)\n",
      "C:\\Users\\Billy\\AppData\\Local\\Temp\\ipykernel_23596\\2270396033.py:53: UserWarning: data/preprocessed/masks/1/0048.png is a low contrast image\n",
      "  io.imsave(f'data/preprocessed/masks/{j}/{i:04d}.png', mask)\n",
      "C:\\Users\\Billy\\AppData\\Local\\Temp\\ipykernel_23596\\2270396033.py:53: UserWarning: data/preprocessed/masks/2/0048.png is a low contrast image\n",
      "  io.imsave(f'data/preprocessed/masks/{j}/{i:04d}.png', mask)\n",
      "C:\\Users\\Billy\\AppData\\Local\\Temp\\ipykernel_23596\\2270396033.py:53: UserWarning: data/preprocessed/masks/3/0048.png is a low contrast image\n",
      "  io.imsave(f'data/preprocessed/masks/{j}/{i:04d}.png', mask)\n"
     ]
    },
    {
     "name": "stdout",
     "output_type": "stream",
     "text": [
      "49/193\n",
      "Template white balancing\n"
     ]
    },
    {
     "name": "stderr",
     "output_type": "stream",
     "text": [
      "C:\\Users\\Billy\\AppData\\Local\\Temp\\ipykernel_23596\\2270396033.py:53: UserWarning: data/preprocessed/masks/0/0049.png is a low contrast image\n",
      "  io.imsave(f'data/preprocessed/masks/{j}/{i:04d}.png', mask)\n",
      "C:\\Users\\Billy\\AppData\\Local\\Temp\\ipykernel_23596\\2270396033.py:53: UserWarning: data/preprocessed/masks/1/0049.png is a low contrast image\n",
      "  io.imsave(f'data/preprocessed/masks/{j}/{i:04d}.png', mask)\n",
      "C:\\Users\\Billy\\AppData\\Local\\Temp\\ipykernel_23596\\2270396033.py:53: UserWarning: data/preprocessed/masks/2/0049.png is a low contrast image\n",
      "  io.imsave(f'data/preprocessed/masks/{j}/{i:04d}.png', mask)\n",
      "C:\\Users\\Billy\\AppData\\Local\\Temp\\ipykernel_23596\\2270396033.py:53: UserWarning: data/preprocessed/masks/3/0049.png is a low contrast image\n",
      "  io.imsave(f'data/preprocessed/masks/{j}/{i:04d}.png', mask)\n"
     ]
    },
    {
     "name": "stdout",
     "output_type": "stream",
     "text": [
      "50/193\n",
      "Template white balancing\n"
     ]
    },
    {
     "name": "stderr",
     "output_type": "stream",
     "text": [
      "C:\\Users\\Billy\\AppData\\Local\\Temp\\ipykernel_23596\\2270396033.py:53: UserWarning: data/preprocessed/masks/0/0050.png is a low contrast image\n",
      "  io.imsave(f'data/preprocessed/masks/{j}/{i:04d}.png', mask)\n",
      "C:\\Users\\Billy\\AppData\\Local\\Temp\\ipykernel_23596\\2270396033.py:53: UserWarning: data/preprocessed/masks/1/0050.png is a low contrast image\n",
      "  io.imsave(f'data/preprocessed/masks/{j}/{i:04d}.png', mask)\n",
      "C:\\Users\\Billy\\AppData\\Local\\Temp\\ipykernel_23596\\2270396033.py:53: UserWarning: data/preprocessed/masks/2/0050.png is a low contrast image\n",
      "  io.imsave(f'data/preprocessed/masks/{j}/{i:04d}.png', mask)\n",
      "C:\\Users\\Billy\\AppData\\Local\\Temp\\ipykernel_23596\\2270396033.py:53: UserWarning: data/preprocessed/masks/3/0050.png is a low contrast image\n",
      "  io.imsave(f'data/preprocessed/masks/{j}/{i:04d}.png', mask)\n"
     ]
    },
    {
     "name": "stdout",
     "output_type": "stream",
     "text": [
      "51/193\n",
      "Template white balancing\n"
     ]
    },
    {
     "name": "stderr",
     "output_type": "stream",
     "text": [
      "C:\\Users\\Billy\\AppData\\Local\\Temp\\ipykernel_23596\\2270396033.py:53: UserWarning: data/preprocessed/masks/0/0051.png is a low contrast image\n",
      "  io.imsave(f'data/preprocessed/masks/{j}/{i:04d}.png', mask)\n",
      "C:\\Users\\Billy\\AppData\\Local\\Temp\\ipykernel_23596\\2270396033.py:53: UserWarning: data/preprocessed/masks/1/0051.png is a low contrast image\n",
      "  io.imsave(f'data/preprocessed/masks/{j}/{i:04d}.png', mask)\n",
      "C:\\Users\\Billy\\AppData\\Local\\Temp\\ipykernel_23596\\2270396033.py:53: UserWarning: data/preprocessed/masks/2/0051.png is a low contrast image\n",
      "  io.imsave(f'data/preprocessed/masks/{j}/{i:04d}.png', mask)\n",
      "C:\\Users\\Billy\\AppData\\Local\\Temp\\ipykernel_23596\\2270396033.py:53: UserWarning: data/preprocessed/masks/3/0051.png is a low contrast image\n",
      "  io.imsave(f'data/preprocessed/masks/{j}/{i:04d}.png', mask)\n"
     ]
    },
    {
     "name": "stdout",
     "output_type": "stream",
     "text": [
      "52/193\n",
      "Template white balancing\n"
     ]
    },
    {
     "name": "stderr",
     "output_type": "stream",
     "text": [
      "C:\\Users\\Billy\\AppData\\Local\\Temp\\ipykernel_23596\\2270396033.py:53: UserWarning: data/preprocessed/masks/0/0052.png is a low contrast image\n",
      "  io.imsave(f'data/preprocessed/masks/{j}/{i:04d}.png', mask)\n",
      "C:\\Users\\Billy\\AppData\\Local\\Temp\\ipykernel_23596\\2270396033.py:53: UserWarning: data/preprocessed/masks/1/0052.png is a low contrast image\n",
      "  io.imsave(f'data/preprocessed/masks/{j}/{i:04d}.png', mask)\n",
      "C:\\Users\\Billy\\AppData\\Local\\Temp\\ipykernel_23596\\2270396033.py:53: UserWarning: data/preprocessed/masks/2/0052.png is a low contrast image\n",
      "  io.imsave(f'data/preprocessed/masks/{j}/{i:04d}.png', mask)\n",
      "C:\\Users\\Billy\\AppData\\Local\\Temp\\ipykernel_23596\\2270396033.py:53: UserWarning: data/preprocessed/masks/3/0052.png is a low contrast image\n",
      "  io.imsave(f'data/preprocessed/masks/{j}/{i:04d}.png', mask)\n"
     ]
    },
    {
     "name": "stdout",
     "output_type": "stream",
     "text": [
      "53/193\n",
      "Template white balancing\n"
     ]
    },
    {
     "name": "stderr",
     "output_type": "stream",
     "text": [
      "C:\\Users\\Billy\\AppData\\Local\\Temp\\ipykernel_23596\\2270396033.py:53: UserWarning: data/preprocessed/masks/0/0053.png is a low contrast image\n",
      "  io.imsave(f'data/preprocessed/masks/{j}/{i:04d}.png', mask)\n",
      "C:\\Users\\Billy\\AppData\\Local\\Temp\\ipykernel_23596\\2270396033.py:53: UserWarning: data/preprocessed/masks/1/0053.png is a low contrast image\n",
      "  io.imsave(f'data/preprocessed/masks/{j}/{i:04d}.png', mask)\n",
      "C:\\Users\\Billy\\AppData\\Local\\Temp\\ipykernel_23596\\2270396033.py:53: UserWarning: data/preprocessed/masks/2/0053.png is a low contrast image\n",
      "  io.imsave(f'data/preprocessed/masks/{j}/{i:04d}.png', mask)\n",
      "C:\\Users\\Billy\\AppData\\Local\\Temp\\ipykernel_23596\\2270396033.py:53: UserWarning: data/preprocessed/masks/3/0053.png is a low contrast image\n",
      "  io.imsave(f'data/preprocessed/masks/{j}/{i:04d}.png', mask)\n"
     ]
    },
    {
     "name": "stdout",
     "output_type": "stream",
     "text": [
      "54/193\n",
      "Template white balancing\n"
     ]
    },
    {
     "name": "stderr",
     "output_type": "stream",
     "text": [
      "C:\\Users\\Billy\\AppData\\Local\\Temp\\ipykernel_23596\\2270396033.py:53: UserWarning: data/preprocessed/masks/0/0054.png is a low contrast image\n",
      "  io.imsave(f'data/preprocessed/masks/{j}/{i:04d}.png', mask)\n",
      "C:\\Users\\Billy\\AppData\\Local\\Temp\\ipykernel_23596\\2270396033.py:53: UserWarning: data/preprocessed/masks/1/0054.png is a low contrast image\n",
      "  io.imsave(f'data/preprocessed/masks/{j}/{i:04d}.png', mask)\n",
      "C:\\Users\\Billy\\AppData\\Local\\Temp\\ipykernel_23596\\2270396033.py:53: UserWarning: data/preprocessed/masks/2/0054.png is a low contrast image\n",
      "  io.imsave(f'data/preprocessed/masks/{j}/{i:04d}.png', mask)\n",
      "C:\\Users\\Billy\\AppData\\Local\\Temp\\ipykernel_23596\\2270396033.py:53: UserWarning: data/preprocessed/masks/3/0054.png is a low contrast image\n",
      "  io.imsave(f'data/preprocessed/masks/{j}/{i:04d}.png', mask)\n"
     ]
    },
    {
     "name": "stdout",
     "output_type": "stream",
     "text": [
      "55/193\n",
      "Template white balancing\n"
     ]
    },
    {
     "name": "stderr",
     "output_type": "stream",
     "text": [
      "C:\\Users\\Billy\\AppData\\Local\\Temp\\ipykernel_23596\\2270396033.py:53: UserWarning: data/preprocessed/masks/0/0055.png is a low contrast image\n",
      "  io.imsave(f'data/preprocessed/masks/{j}/{i:04d}.png', mask)\n",
      "C:\\Users\\Billy\\AppData\\Local\\Temp\\ipykernel_23596\\2270396033.py:53: UserWarning: data/preprocessed/masks/1/0055.png is a low contrast image\n",
      "  io.imsave(f'data/preprocessed/masks/{j}/{i:04d}.png', mask)\n",
      "C:\\Users\\Billy\\AppData\\Local\\Temp\\ipykernel_23596\\2270396033.py:53: UserWarning: data/preprocessed/masks/2/0055.png is a low contrast image\n",
      "  io.imsave(f'data/preprocessed/masks/{j}/{i:04d}.png', mask)\n",
      "C:\\Users\\Billy\\AppData\\Local\\Temp\\ipykernel_23596\\2270396033.py:53: UserWarning: data/preprocessed/masks/3/0055.png is a low contrast image\n",
      "  io.imsave(f'data/preprocessed/masks/{j}/{i:04d}.png', mask)\n"
     ]
    },
    {
     "name": "stdout",
     "output_type": "stream",
     "text": [
      "56/193\n",
      "Template white balancing\n"
     ]
    },
    {
     "name": "stderr",
     "output_type": "stream",
     "text": [
      "C:\\Users\\Billy\\AppData\\Local\\Temp\\ipykernel_23596\\2270396033.py:53: UserWarning: data/preprocessed/masks/0/0056.png is a low contrast image\n",
      "  io.imsave(f'data/preprocessed/masks/{j}/{i:04d}.png', mask)\n",
      "C:\\Users\\Billy\\AppData\\Local\\Temp\\ipykernel_23596\\2270396033.py:53: UserWarning: data/preprocessed/masks/1/0056.png is a low contrast image\n",
      "  io.imsave(f'data/preprocessed/masks/{j}/{i:04d}.png', mask)\n",
      "C:\\Users\\Billy\\AppData\\Local\\Temp\\ipykernel_23596\\2270396033.py:53: UserWarning: data/preprocessed/masks/2/0056.png is a low contrast image\n",
      "  io.imsave(f'data/preprocessed/masks/{j}/{i:04d}.png', mask)\n",
      "C:\\Users\\Billy\\AppData\\Local\\Temp\\ipykernel_23596\\2270396033.py:53: UserWarning: data/preprocessed/masks/3/0056.png is a low contrast image\n",
      "  io.imsave(f'data/preprocessed/masks/{j}/{i:04d}.png', mask)\n"
     ]
    },
    {
     "name": "stdout",
     "output_type": "stream",
     "text": [
      "57/193\n",
      "Template white balancing\n"
     ]
    },
    {
     "name": "stderr",
     "output_type": "stream",
     "text": [
      "C:\\Users\\Billy\\AppData\\Local\\Temp\\ipykernel_23596\\2270396033.py:53: UserWarning: data/preprocessed/masks/0/0057.png is a low contrast image\n",
      "  io.imsave(f'data/preprocessed/masks/{j}/{i:04d}.png', mask)\n",
      "C:\\Users\\Billy\\AppData\\Local\\Temp\\ipykernel_23596\\2270396033.py:53: UserWarning: data/preprocessed/masks/1/0057.png is a low contrast image\n",
      "  io.imsave(f'data/preprocessed/masks/{j}/{i:04d}.png', mask)\n",
      "C:\\Users\\Billy\\AppData\\Local\\Temp\\ipykernel_23596\\2270396033.py:53: UserWarning: data/preprocessed/masks/2/0057.png is a low contrast image\n",
      "  io.imsave(f'data/preprocessed/masks/{j}/{i:04d}.png', mask)\n",
      "C:\\Users\\Billy\\AppData\\Local\\Temp\\ipykernel_23596\\2270396033.py:53: UserWarning: data/preprocessed/masks/3/0057.png is a low contrast image\n",
      "  io.imsave(f'data/preprocessed/masks/{j}/{i:04d}.png', mask)\n"
     ]
    },
    {
     "name": "stdout",
     "output_type": "stream",
     "text": [
      "58/193\n",
      "Template white balancing\n"
     ]
    },
    {
     "name": "stderr",
     "output_type": "stream",
     "text": [
      "C:\\Users\\Billy\\AppData\\Local\\Temp\\ipykernel_23596\\2270396033.py:53: UserWarning: data/preprocessed/masks/0/0058.png is a low contrast image\n",
      "  io.imsave(f'data/preprocessed/masks/{j}/{i:04d}.png', mask)\n",
      "C:\\Users\\Billy\\AppData\\Local\\Temp\\ipykernel_23596\\2270396033.py:53: UserWarning: data/preprocessed/masks/1/0058.png is a low contrast image\n",
      "  io.imsave(f'data/preprocessed/masks/{j}/{i:04d}.png', mask)\n",
      "C:\\Users\\Billy\\AppData\\Local\\Temp\\ipykernel_23596\\2270396033.py:53: UserWarning: data/preprocessed/masks/2/0058.png is a low contrast image\n",
      "  io.imsave(f'data/preprocessed/masks/{j}/{i:04d}.png', mask)\n",
      "C:\\Users\\Billy\\AppData\\Local\\Temp\\ipykernel_23596\\2270396033.py:53: UserWarning: data/preprocessed/masks/3/0058.png is a low contrast image\n",
      "  io.imsave(f'data/preprocessed/masks/{j}/{i:04d}.png', mask)\n"
     ]
    },
    {
     "name": "stdout",
     "output_type": "stream",
     "text": [
      "59/193\n",
      "Template white balancing\n"
     ]
    },
    {
     "name": "stderr",
     "output_type": "stream",
     "text": [
      "C:\\Users\\Billy\\AppData\\Local\\Temp\\ipykernel_23596\\2270396033.py:53: UserWarning: data/preprocessed/masks/0/0059.png is a low contrast image\n",
      "  io.imsave(f'data/preprocessed/masks/{j}/{i:04d}.png', mask)\n",
      "C:\\Users\\Billy\\AppData\\Local\\Temp\\ipykernel_23596\\2270396033.py:53: UserWarning: data/preprocessed/masks/1/0059.png is a low contrast image\n",
      "  io.imsave(f'data/preprocessed/masks/{j}/{i:04d}.png', mask)\n",
      "C:\\Users\\Billy\\AppData\\Local\\Temp\\ipykernel_23596\\2270396033.py:53: UserWarning: data/preprocessed/masks/2/0059.png is a low contrast image\n",
      "  io.imsave(f'data/preprocessed/masks/{j}/{i:04d}.png', mask)\n",
      "C:\\Users\\Billy\\AppData\\Local\\Temp\\ipykernel_23596\\2270396033.py:53: UserWarning: data/preprocessed/masks/3/0059.png is a low contrast image\n",
      "  io.imsave(f'data/preprocessed/masks/{j}/{i:04d}.png', mask)\n"
     ]
    },
    {
     "name": "stdout",
     "output_type": "stream",
     "text": [
      "60/193\n",
      "Template white balancing\n"
     ]
    },
    {
     "name": "stderr",
     "output_type": "stream",
     "text": [
      "C:\\Users\\Billy\\AppData\\Local\\Temp\\ipykernel_23596\\2270396033.py:53: UserWarning: data/preprocessed/masks/0/0060.png is a low contrast image\n",
      "  io.imsave(f'data/preprocessed/masks/{j}/{i:04d}.png', mask)\n",
      "C:\\Users\\Billy\\AppData\\Local\\Temp\\ipykernel_23596\\2270396033.py:53: UserWarning: data/preprocessed/masks/1/0060.png is a low contrast image\n",
      "  io.imsave(f'data/preprocessed/masks/{j}/{i:04d}.png', mask)\n",
      "C:\\Users\\Billy\\AppData\\Local\\Temp\\ipykernel_23596\\2270396033.py:53: UserWarning: data/preprocessed/masks/2/0060.png is a low contrast image\n",
      "  io.imsave(f'data/preprocessed/masks/{j}/{i:04d}.png', mask)\n",
      "C:\\Users\\Billy\\AppData\\Local\\Temp\\ipykernel_23596\\2270396033.py:53: UserWarning: data/preprocessed/masks/3/0060.png is a low contrast image\n",
      "  io.imsave(f'data/preprocessed/masks/{j}/{i:04d}.png', mask)\n"
     ]
    },
    {
     "name": "stdout",
     "output_type": "stream",
     "text": [
      "61/193\n",
      "Template white balancing\n"
     ]
    },
    {
     "name": "stderr",
     "output_type": "stream",
     "text": [
      "C:\\Users\\Billy\\AppData\\Local\\Temp\\ipykernel_23596\\2270396033.py:53: UserWarning: data/preprocessed/masks/0/0061.png is a low contrast image\n",
      "  io.imsave(f'data/preprocessed/masks/{j}/{i:04d}.png', mask)\n",
      "C:\\Users\\Billy\\AppData\\Local\\Temp\\ipykernel_23596\\2270396033.py:53: UserWarning: data/preprocessed/masks/1/0061.png is a low contrast image\n",
      "  io.imsave(f'data/preprocessed/masks/{j}/{i:04d}.png', mask)\n",
      "C:\\Users\\Billy\\AppData\\Local\\Temp\\ipykernel_23596\\2270396033.py:53: UserWarning: data/preprocessed/masks/2/0061.png is a low contrast image\n",
      "  io.imsave(f'data/preprocessed/masks/{j}/{i:04d}.png', mask)\n",
      "C:\\Users\\Billy\\AppData\\Local\\Temp\\ipykernel_23596\\2270396033.py:53: UserWarning: data/preprocessed/masks/3/0061.png is a low contrast image\n",
      "  io.imsave(f'data/preprocessed/masks/{j}/{i:04d}.png', mask)\n"
     ]
    },
    {
     "name": "stdout",
     "output_type": "stream",
     "text": [
      "62/193\n",
      "Template white balancing\n"
     ]
    },
    {
     "name": "stderr",
     "output_type": "stream",
     "text": [
      "C:\\Users\\Billy\\AppData\\Local\\Temp\\ipykernel_23596\\2270396033.py:53: UserWarning: data/preprocessed/masks/0/0062.png is a low contrast image\n",
      "  io.imsave(f'data/preprocessed/masks/{j}/{i:04d}.png', mask)\n",
      "C:\\Users\\Billy\\AppData\\Local\\Temp\\ipykernel_23596\\2270396033.py:53: UserWarning: data/preprocessed/masks/1/0062.png is a low contrast image\n",
      "  io.imsave(f'data/preprocessed/masks/{j}/{i:04d}.png', mask)\n",
      "C:\\Users\\Billy\\AppData\\Local\\Temp\\ipykernel_23596\\2270396033.py:53: UserWarning: data/preprocessed/masks/2/0062.png is a low contrast image\n",
      "  io.imsave(f'data/preprocessed/masks/{j}/{i:04d}.png', mask)\n",
      "C:\\Users\\Billy\\AppData\\Local\\Temp\\ipykernel_23596\\2270396033.py:53: UserWarning: data/preprocessed/masks/3/0062.png is a low contrast image\n",
      "  io.imsave(f'data/preprocessed/masks/{j}/{i:04d}.png', mask)\n"
     ]
    },
    {
     "name": "stdout",
     "output_type": "stream",
     "text": [
      "63/193\n",
      "Template white balancing\n"
     ]
    },
    {
     "name": "stderr",
     "output_type": "stream",
     "text": [
      "C:\\Users\\Billy\\AppData\\Local\\Temp\\ipykernel_23596\\2270396033.py:53: UserWarning: data/preprocessed/masks/0/0063.png is a low contrast image\n",
      "  io.imsave(f'data/preprocessed/masks/{j}/{i:04d}.png', mask)\n",
      "C:\\Users\\Billy\\AppData\\Local\\Temp\\ipykernel_23596\\2270396033.py:53: UserWarning: data/preprocessed/masks/1/0063.png is a low contrast image\n",
      "  io.imsave(f'data/preprocessed/masks/{j}/{i:04d}.png', mask)\n",
      "C:\\Users\\Billy\\AppData\\Local\\Temp\\ipykernel_23596\\2270396033.py:53: UserWarning: data/preprocessed/masks/2/0063.png is a low contrast image\n",
      "  io.imsave(f'data/preprocessed/masks/{j}/{i:04d}.png', mask)\n",
      "C:\\Users\\Billy\\AppData\\Local\\Temp\\ipykernel_23596\\2270396033.py:53: UserWarning: data/preprocessed/masks/3/0063.png is a low contrast image\n",
      "  io.imsave(f'data/preprocessed/masks/{j}/{i:04d}.png', mask)\n"
     ]
    },
    {
     "name": "stdout",
     "output_type": "stream",
     "text": [
      "64/193\n",
      "Template white balancing\n"
     ]
    },
    {
     "name": "stderr",
     "output_type": "stream",
     "text": [
      "C:\\Users\\Billy\\AppData\\Local\\Temp\\ipykernel_23596\\2270396033.py:53: UserWarning: data/preprocessed/masks/0/0064.png is a low contrast image\n",
      "  io.imsave(f'data/preprocessed/masks/{j}/{i:04d}.png', mask)\n",
      "C:\\Users\\Billy\\AppData\\Local\\Temp\\ipykernel_23596\\2270396033.py:53: UserWarning: data/preprocessed/masks/1/0064.png is a low contrast image\n",
      "  io.imsave(f'data/preprocessed/masks/{j}/{i:04d}.png', mask)\n",
      "C:\\Users\\Billy\\AppData\\Local\\Temp\\ipykernel_23596\\2270396033.py:53: UserWarning: data/preprocessed/masks/2/0064.png is a low contrast image\n",
      "  io.imsave(f'data/preprocessed/masks/{j}/{i:04d}.png', mask)\n",
      "C:\\Users\\Billy\\AppData\\Local\\Temp\\ipykernel_23596\\2270396033.py:53: UserWarning: data/preprocessed/masks/3/0064.png is a low contrast image\n",
      "  io.imsave(f'data/preprocessed/masks/{j}/{i:04d}.png', mask)\n"
     ]
    },
    {
     "name": "stdout",
     "output_type": "stream",
     "text": [
      "65/193\n",
      "Template white balancing\n"
     ]
    },
    {
     "name": "stderr",
     "output_type": "stream",
     "text": [
      "C:\\Users\\Billy\\AppData\\Local\\Temp\\ipykernel_23596\\2270396033.py:53: UserWarning: data/preprocessed/masks/0/0065.png is a low contrast image\n",
      "  io.imsave(f'data/preprocessed/masks/{j}/{i:04d}.png', mask)\n",
      "C:\\Users\\Billy\\AppData\\Local\\Temp\\ipykernel_23596\\2270396033.py:53: UserWarning: data/preprocessed/masks/1/0065.png is a low contrast image\n",
      "  io.imsave(f'data/preprocessed/masks/{j}/{i:04d}.png', mask)\n",
      "C:\\Users\\Billy\\AppData\\Local\\Temp\\ipykernel_23596\\2270396033.py:53: UserWarning: data/preprocessed/masks/2/0065.png is a low contrast image\n",
      "  io.imsave(f'data/preprocessed/masks/{j}/{i:04d}.png', mask)\n",
      "C:\\Users\\Billy\\AppData\\Local\\Temp\\ipykernel_23596\\2270396033.py:53: UserWarning: data/preprocessed/masks/3/0065.png is a low contrast image\n",
      "  io.imsave(f'data/preprocessed/masks/{j}/{i:04d}.png', mask)\n"
     ]
    },
    {
     "name": "stdout",
     "output_type": "stream",
     "text": [
      "66/193\n",
      "Template white balancing\n"
     ]
    },
    {
     "name": "stderr",
     "output_type": "stream",
     "text": [
      "C:\\Users\\Billy\\AppData\\Local\\Temp\\ipykernel_23596\\2270396033.py:53: UserWarning: data/preprocessed/masks/0/0066.png is a low contrast image\n",
      "  io.imsave(f'data/preprocessed/masks/{j}/{i:04d}.png', mask)\n",
      "C:\\Users\\Billy\\AppData\\Local\\Temp\\ipykernel_23596\\2270396033.py:53: UserWarning: data/preprocessed/masks/1/0066.png is a low contrast image\n",
      "  io.imsave(f'data/preprocessed/masks/{j}/{i:04d}.png', mask)\n",
      "C:\\Users\\Billy\\AppData\\Local\\Temp\\ipykernel_23596\\2270396033.py:53: UserWarning: data/preprocessed/masks/2/0066.png is a low contrast image\n",
      "  io.imsave(f'data/preprocessed/masks/{j}/{i:04d}.png', mask)\n",
      "C:\\Users\\Billy\\AppData\\Local\\Temp\\ipykernel_23596\\2270396033.py:53: UserWarning: data/preprocessed/masks/3/0066.png is a low contrast image\n",
      "  io.imsave(f'data/preprocessed/masks/{j}/{i:04d}.png', mask)\n"
     ]
    },
    {
     "name": "stdout",
     "output_type": "stream",
     "text": [
      "67/193\n",
      "Template white balancing\n"
     ]
    },
    {
     "name": "stderr",
     "output_type": "stream",
     "text": [
      "C:\\Users\\Billy\\AppData\\Local\\Temp\\ipykernel_23596\\2270396033.py:53: UserWarning: data/preprocessed/masks/0/0067.png is a low contrast image\n",
      "  io.imsave(f'data/preprocessed/masks/{j}/{i:04d}.png', mask)\n",
      "C:\\Users\\Billy\\AppData\\Local\\Temp\\ipykernel_23596\\2270396033.py:53: UserWarning: data/preprocessed/masks/1/0067.png is a low contrast image\n",
      "  io.imsave(f'data/preprocessed/masks/{j}/{i:04d}.png', mask)\n",
      "C:\\Users\\Billy\\AppData\\Local\\Temp\\ipykernel_23596\\2270396033.py:53: UserWarning: data/preprocessed/masks/2/0067.png is a low contrast image\n",
      "  io.imsave(f'data/preprocessed/masks/{j}/{i:04d}.png', mask)\n",
      "C:\\Users\\Billy\\AppData\\Local\\Temp\\ipykernel_23596\\2270396033.py:53: UserWarning: data/preprocessed/masks/3/0067.png is a low contrast image\n",
      "  io.imsave(f'data/preprocessed/masks/{j}/{i:04d}.png', mask)\n"
     ]
    },
    {
     "name": "stdout",
     "output_type": "stream",
     "text": [
      "68/193\n",
      "Template white balancing\n"
     ]
    },
    {
     "name": "stderr",
     "output_type": "stream",
     "text": [
      "C:\\Users\\Billy\\AppData\\Local\\Temp\\ipykernel_23596\\2270396033.py:53: UserWarning: data/preprocessed/masks/0/0068.png is a low contrast image\n",
      "  io.imsave(f'data/preprocessed/masks/{j}/{i:04d}.png', mask)\n",
      "C:\\Users\\Billy\\AppData\\Local\\Temp\\ipykernel_23596\\2270396033.py:53: UserWarning: data/preprocessed/masks/1/0068.png is a low contrast image\n",
      "  io.imsave(f'data/preprocessed/masks/{j}/{i:04d}.png', mask)\n",
      "C:\\Users\\Billy\\AppData\\Local\\Temp\\ipykernel_23596\\2270396033.py:53: UserWarning: data/preprocessed/masks/2/0068.png is a low contrast image\n",
      "  io.imsave(f'data/preprocessed/masks/{j}/{i:04d}.png', mask)\n",
      "C:\\Users\\Billy\\AppData\\Local\\Temp\\ipykernel_23596\\2270396033.py:53: UserWarning: data/preprocessed/masks/3/0068.png is a low contrast image\n",
      "  io.imsave(f'data/preprocessed/masks/{j}/{i:04d}.png', mask)\n"
     ]
    },
    {
     "name": "stdout",
     "output_type": "stream",
     "text": [
      "69/193\n",
      "Template white balancing\n"
     ]
    },
    {
     "name": "stderr",
     "output_type": "stream",
     "text": [
      "C:\\Users\\Billy\\AppData\\Local\\Temp\\ipykernel_23596\\2270396033.py:53: UserWarning: data/preprocessed/masks/0/0069.png is a low contrast image\n",
      "  io.imsave(f'data/preprocessed/masks/{j}/{i:04d}.png', mask)\n",
      "C:\\Users\\Billy\\AppData\\Local\\Temp\\ipykernel_23596\\2270396033.py:53: UserWarning: data/preprocessed/masks/1/0069.png is a low contrast image\n",
      "  io.imsave(f'data/preprocessed/masks/{j}/{i:04d}.png', mask)\n",
      "C:\\Users\\Billy\\AppData\\Local\\Temp\\ipykernel_23596\\2270396033.py:53: UserWarning: data/preprocessed/masks/2/0069.png is a low contrast image\n",
      "  io.imsave(f'data/preprocessed/masks/{j}/{i:04d}.png', mask)\n",
      "C:\\Users\\Billy\\AppData\\Local\\Temp\\ipykernel_23596\\2270396033.py:53: UserWarning: data/preprocessed/masks/3/0069.png is a low contrast image\n",
      "  io.imsave(f'data/preprocessed/masks/{j}/{i:04d}.png', mask)\n"
     ]
    },
    {
     "name": "stdout",
     "output_type": "stream",
     "text": [
      "70/193\n",
      "Template white balancing\n"
     ]
    },
    {
     "name": "stderr",
     "output_type": "stream",
     "text": [
      "C:\\Users\\Billy\\AppData\\Local\\Temp\\ipykernel_23596\\2270396033.py:53: UserWarning: data/preprocessed/masks/0/0070.png is a low contrast image\n",
      "  io.imsave(f'data/preprocessed/masks/{j}/{i:04d}.png', mask)\n",
      "C:\\Users\\Billy\\AppData\\Local\\Temp\\ipykernel_23596\\2270396033.py:53: UserWarning: data/preprocessed/masks/1/0070.png is a low contrast image\n",
      "  io.imsave(f'data/preprocessed/masks/{j}/{i:04d}.png', mask)\n",
      "C:\\Users\\Billy\\AppData\\Local\\Temp\\ipykernel_23596\\2270396033.py:53: UserWarning: data/preprocessed/masks/2/0070.png is a low contrast image\n",
      "  io.imsave(f'data/preprocessed/masks/{j}/{i:04d}.png', mask)\n",
      "C:\\Users\\Billy\\AppData\\Local\\Temp\\ipykernel_23596\\2270396033.py:53: UserWarning: data/preprocessed/masks/3/0070.png is a low contrast image\n",
      "  io.imsave(f'data/preprocessed/masks/{j}/{i:04d}.png', mask)\n"
     ]
    },
    {
     "name": "stdout",
     "output_type": "stream",
     "text": [
      "71/193\n",
      "Template white balancing\n"
     ]
    },
    {
     "name": "stderr",
     "output_type": "stream",
     "text": [
      "C:\\Users\\Billy\\AppData\\Local\\Temp\\ipykernel_23596\\2270396033.py:53: UserWarning: data/preprocessed/masks/0/0071.png is a low contrast image\n",
      "  io.imsave(f'data/preprocessed/masks/{j}/{i:04d}.png', mask)\n",
      "C:\\Users\\Billy\\AppData\\Local\\Temp\\ipykernel_23596\\2270396033.py:53: UserWarning: data/preprocessed/masks/1/0071.png is a low contrast image\n",
      "  io.imsave(f'data/preprocessed/masks/{j}/{i:04d}.png', mask)\n",
      "C:\\Users\\Billy\\AppData\\Local\\Temp\\ipykernel_23596\\2270396033.py:53: UserWarning: data/preprocessed/masks/2/0071.png is a low contrast image\n",
      "  io.imsave(f'data/preprocessed/masks/{j}/{i:04d}.png', mask)\n",
      "C:\\Users\\Billy\\AppData\\Local\\Temp\\ipykernel_23596\\2270396033.py:53: UserWarning: data/preprocessed/masks/3/0071.png is a low contrast image\n",
      "  io.imsave(f'data/preprocessed/masks/{j}/{i:04d}.png', mask)\n"
     ]
    },
    {
     "name": "stdout",
     "output_type": "stream",
     "text": [
      "72/193\n",
      "Template white balancing\n"
     ]
    },
    {
     "name": "stderr",
     "output_type": "stream",
     "text": [
      "C:\\Users\\Billy\\AppData\\Local\\Temp\\ipykernel_23596\\2270396033.py:53: UserWarning: data/preprocessed/masks/0/0072.png is a low contrast image\n",
      "  io.imsave(f'data/preprocessed/masks/{j}/{i:04d}.png', mask)\n",
      "C:\\Users\\Billy\\AppData\\Local\\Temp\\ipykernel_23596\\2270396033.py:53: UserWarning: data/preprocessed/masks/1/0072.png is a low contrast image\n",
      "  io.imsave(f'data/preprocessed/masks/{j}/{i:04d}.png', mask)\n",
      "C:\\Users\\Billy\\AppData\\Local\\Temp\\ipykernel_23596\\2270396033.py:53: UserWarning: data/preprocessed/masks/2/0072.png is a low contrast image\n",
      "  io.imsave(f'data/preprocessed/masks/{j}/{i:04d}.png', mask)\n",
      "C:\\Users\\Billy\\AppData\\Local\\Temp\\ipykernel_23596\\2270396033.py:53: UserWarning: data/preprocessed/masks/3/0072.png is a low contrast image\n",
      "  io.imsave(f'data/preprocessed/masks/{j}/{i:04d}.png', mask)\n"
     ]
    },
    {
     "name": "stdout",
     "output_type": "stream",
     "text": [
      "73/193\n",
      "Template white balancing\n"
     ]
    },
    {
     "name": "stderr",
     "output_type": "stream",
     "text": [
      "C:\\Users\\Billy\\AppData\\Local\\Temp\\ipykernel_23596\\2270396033.py:53: UserWarning: data/preprocessed/masks/0/0073.png is a low contrast image\n",
      "  io.imsave(f'data/preprocessed/masks/{j}/{i:04d}.png', mask)\n",
      "C:\\Users\\Billy\\AppData\\Local\\Temp\\ipykernel_23596\\2270396033.py:53: UserWarning: data/preprocessed/masks/1/0073.png is a low contrast image\n",
      "  io.imsave(f'data/preprocessed/masks/{j}/{i:04d}.png', mask)\n",
      "C:\\Users\\Billy\\AppData\\Local\\Temp\\ipykernel_23596\\2270396033.py:53: UserWarning: data/preprocessed/masks/2/0073.png is a low contrast image\n",
      "  io.imsave(f'data/preprocessed/masks/{j}/{i:04d}.png', mask)\n",
      "C:\\Users\\Billy\\AppData\\Local\\Temp\\ipykernel_23596\\2270396033.py:53: UserWarning: data/preprocessed/masks/3/0073.png is a low contrast image\n",
      "  io.imsave(f'data/preprocessed/masks/{j}/{i:04d}.png', mask)\n"
     ]
    },
    {
     "name": "stdout",
     "output_type": "stream",
     "text": [
      "74/193\n",
      "Template white balancing\n"
     ]
    },
    {
     "name": "stderr",
     "output_type": "stream",
     "text": [
      "C:\\Users\\Billy\\AppData\\Local\\Temp\\ipykernel_23596\\2270396033.py:53: UserWarning: data/preprocessed/masks/0/0074.png is a low contrast image\n",
      "  io.imsave(f'data/preprocessed/masks/{j}/{i:04d}.png', mask)\n",
      "C:\\Users\\Billy\\AppData\\Local\\Temp\\ipykernel_23596\\2270396033.py:53: UserWarning: data/preprocessed/masks/1/0074.png is a low contrast image\n",
      "  io.imsave(f'data/preprocessed/masks/{j}/{i:04d}.png', mask)\n",
      "C:\\Users\\Billy\\AppData\\Local\\Temp\\ipykernel_23596\\2270396033.py:53: UserWarning: data/preprocessed/masks/2/0074.png is a low contrast image\n",
      "  io.imsave(f'data/preprocessed/masks/{j}/{i:04d}.png', mask)\n",
      "C:\\Users\\Billy\\AppData\\Local\\Temp\\ipykernel_23596\\2270396033.py:53: UserWarning: data/preprocessed/masks/3/0074.png is a low contrast image\n",
      "  io.imsave(f'data/preprocessed/masks/{j}/{i:04d}.png', mask)\n"
     ]
    },
    {
     "name": "stdout",
     "output_type": "stream",
     "text": [
      "75/193\n",
      "Template white balancing\n"
     ]
    },
    {
     "name": "stderr",
     "output_type": "stream",
     "text": [
      "C:\\Users\\Billy\\AppData\\Local\\Temp\\ipykernel_23596\\2270396033.py:53: UserWarning: data/preprocessed/masks/0/0075.png is a low contrast image\n",
      "  io.imsave(f'data/preprocessed/masks/{j}/{i:04d}.png', mask)\n",
      "C:\\Users\\Billy\\AppData\\Local\\Temp\\ipykernel_23596\\2270396033.py:53: UserWarning: data/preprocessed/masks/1/0075.png is a low contrast image\n",
      "  io.imsave(f'data/preprocessed/masks/{j}/{i:04d}.png', mask)\n",
      "C:\\Users\\Billy\\AppData\\Local\\Temp\\ipykernel_23596\\2270396033.py:53: UserWarning: data/preprocessed/masks/2/0075.png is a low contrast image\n",
      "  io.imsave(f'data/preprocessed/masks/{j}/{i:04d}.png', mask)\n",
      "C:\\Users\\Billy\\AppData\\Local\\Temp\\ipykernel_23596\\2270396033.py:53: UserWarning: data/preprocessed/masks/3/0075.png is a low contrast image\n",
      "  io.imsave(f'data/preprocessed/masks/{j}/{i:04d}.png', mask)\n"
     ]
    },
    {
     "name": "stdout",
     "output_type": "stream",
     "text": [
      "76/193\n",
      "Template white balancing\n"
     ]
    },
    {
     "name": "stderr",
     "output_type": "stream",
     "text": [
      "C:\\Users\\Billy\\AppData\\Local\\Temp\\ipykernel_23596\\2270396033.py:53: UserWarning: data/preprocessed/masks/0/0076.png is a low contrast image\n",
      "  io.imsave(f'data/preprocessed/masks/{j}/{i:04d}.png', mask)\n",
      "C:\\Users\\Billy\\AppData\\Local\\Temp\\ipykernel_23596\\2270396033.py:53: UserWarning: data/preprocessed/masks/1/0076.png is a low contrast image\n",
      "  io.imsave(f'data/preprocessed/masks/{j}/{i:04d}.png', mask)\n",
      "C:\\Users\\Billy\\AppData\\Local\\Temp\\ipykernel_23596\\2270396033.py:53: UserWarning: data/preprocessed/masks/2/0076.png is a low contrast image\n",
      "  io.imsave(f'data/preprocessed/masks/{j}/{i:04d}.png', mask)\n",
      "C:\\Users\\Billy\\AppData\\Local\\Temp\\ipykernel_23596\\2270396033.py:53: UserWarning: data/preprocessed/masks/3/0076.png is a low contrast image\n",
      "  io.imsave(f'data/preprocessed/masks/{j}/{i:04d}.png', mask)\n"
     ]
    },
    {
     "name": "stdout",
     "output_type": "stream",
     "text": [
      "77/193\n",
      "Template white balancing\n"
     ]
    },
    {
     "name": "stderr",
     "output_type": "stream",
     "text": [
      "C:\\Users\\Billy\\AppData\\Local\\Temp\\ipykernel_23596\\2270396033.py:53: UserWarning: data/preprocessed/masks/0/0077.png is a low contrast image\n",
      "  io.imsave(f'data/preprocessed/masks/{j}/{i:04d}.png', mask)\n",
      "C:\\Users\\Billy\\AppData\\Local\\Temp\\ipykernel_23596\\2270396033.py:53: UserWarning: data/preprocessed/masks/1/0077.png is a low contrast image\n",
      "  io.imsave(f'data/preprocessed/masks/{j}/{i:04d}.png', mask)\n",
      "C:\\Users\\Billy\\AppData\\Local\\Temp\\ipykernel_23596\\2270396033.py:53: UserWarning: data/preprocessed/masks/2/0077.png is a low contrast image\n",
      "  io.imsave(f'data/preprocessed/masks/{j}/{i:04d}.png', mask)\n",
      "C:\\Users\\Billy\\AppData\\Local\\Temp\\ipykernel_23596\\2270396033.py:53: UserWarning: data/preprocessed/masks/3/0077.png is a low contrast image\n",
      "  io.imsave(f'data/preprocessed/masks/{j}/{i:04d}.png', mask)\n"
     ]
    },
    {
     "name": "stdout",
     "output_type": "stream",
     "text": [
      "78/193\n",
      "Template white balancing\n"
     ]
    },
    {
     "name": "stderr",
     "output_type": "stream",
     "text": [
      "C:\\Users\\Billy\\AppData\\Local\\Temp\\ipykernel_23596\\2270396033.py:53: UserWarning: data/preprocessed/masks/0/0078.png is a low contrast image\n",
      "  io.imsave(f'data/preprocessed/masks/{j}/{i:04d}.png', mask)\n",
      "C:\\Users\\Billy\\AppData\\Local\\Temp\\ipykernel_23596\\2270396033.py:53: UserWarning: data/preprocessed/masks/1/0078.png is a low contrast image\n",
      "  io.imsave(f'data/preprocessed/masks/{j}/{i:04d}.png', mask)\n",
      "C:\\Users\\Billy\\AppData\\Local\\Temp\\ipykernel_23596\\2270396033.py:53: UserWarning: data/preprocessed/masks/2/0078.png is a low contrast image\n",
      "  io.imsave(f'data/preprocessed/masks/{j}/{i:04d}.png', mask)\n",
      "C:\\Users\\Billy\\AppData\\Local\\Temp\\ipykernel_23596\\2270396033.py:53: UserWarning: data/preprocessed/masks/3/0078.png is a low contrast image\n",
      "  io.imsave(f'data/preprocessed/masks/{j}/{i:04d}.png', mask)\n"
     ]
    },
    {
     "name": "stdout",
     "output_type": "stream",
     "text": [
      "79/193\n",
      "Template white balancing\n"
     ]
    },
    {
     "name": "stderr",
     "output_type": "stream",
     "text": [
      "C:\\Users\\Billy\\AppData\\Local\\Temp\\ipykernel_23596\\2270396033.py:53: UserWarning: data/preprocessed/masks/0/0079.png is a low contrast image\n",
      "  io.imsave(f'data/preprocessed/masks/{j}/{i:04d}.png', mask)\n",
      "C:\\Users\\Billy\\AppData\\Local\\Temp\\ipykernel_23596\\2270396033.py:53: UserWarning: data/preprocessed/masks/1/0079.png is a low contrast image\n",
      "  io.imsave(f'data/preprocessed/masks/{j}/{i:04d}.png', mask)\n",
      "C:\\Users\\Billy\\AppData\\Local\\Temp\\ipykernel_23596\\2270396033.py:53: UserWarning: data/preprocessed/masks/2/0079.png is a low contrast image\n",
      "  io.imsave(f'data/preprocessed/masks/{j}/{i:04d}.png', mask)\n",
      "C:\\Users\\Billy\\AppData\\Local\\Temp\\ipykernel_23596\\2270396033.py:53: UserWarning: data/preprocessed/masks/3/0079.png is a low contrast image\n",
      "  io.imsave(f'data/preprocessed/masks/{j}/{i:04d}.png', mask)\n"
     ]
    },
    {
     "name": "stdout",
     "output_type": "stream",
     "text": [
      "80/193\n",
      "Template white balancing\n"
     ]
    },
    {
     "name": "stderr",
     "output_type": "stream",
     "text": [
      "C:\\Users\\Billy\\AppData\\Local\\Temp\\ipykernel_23596\\2270396033.py:53: UserWarning: data/preprocessed/masks/0/0080.png is a low contrast image\n",
      "  io.imsave(f'data/preprocessed/masks/{j}/{i:04d}.png', mask)\n",
      "C:\\Users\\Billy\\AppData\\Local\\Temp\\ipykernel_23596\\2270396033.py:53: UserWarning: data/preprocessed/masks/1/0080.png is a low contrast image\n",
      "  io.imsave(f'data/preprocessed/masks/{j}/{i:04d}.png', mask)\n",
      "C:\\Users\\Billy\\AppData\\Local\\Temp\\ipykernel_23596\\2270396033.py:53: UserWarning: data/preprocessed/masks/2/0080.png is a low contrast image\n",
      "  io.imsave(f'data/preprocessed/masks/{j}/{i:04d}.png', mask)\n",
      "C:\\Users\\Billy\\AppData\\Local\\Temp\\ipykernel_23596\\2270396033.py:53: UserWarning: data/preprocessed/masks/3/0080.png is a low contrast image\n",
      "  io.imsave(f'data/preprocessed/masks/{j}/{i:04d}.png', mask)\n"
     ]
    },
    {
     "name": "stdout",
     "output_type": "stream",
     "text": [
      "81/193\n",
      "Template white balancing\n"
     ]
    },
    {
     "name": "stderr",
     "output_type": "stream",
     "text": [
      "C:\\Users\\Billy\\AppData\\Local\\Temp\\ipykernel_23596\\2270396033.py:53: UserWarning: data/preprocessed/masks/0/0081.png is a low contrast image\n",
      "  io.imsave(f'data/preprocessed/masks/{j}/{i:04d}.png', mask)\n",
      "C:\\Users\\Billy\\AppData\\Local\\Temp\\ipykernel_23596\\2270396033.py:53: UserWarning: data/preprocessed/masks/1/0081.png is a low contrast image\n",
      "  io.imsave(f'data/preprocessed/masks/{j}/{i:04d}.png', mask)\n",
      "C:\\Users\\Billy\\AppData\\Local\\Temp\\ipykernel_23596\\2270396033.py:53: UserWarning: data/preprocessed/masks/2/0081.png is a low contrast image\n",
      "  io.imsave(f'data/preprocessed/masks/{j}/{i:04d}.png', mask)\n",
      "C:\\Users\\Billy\\AppData\\Local\\Temp\\ipykernel_23596\\2270396033.py:53: UserWarning: data/preprocessed/masks/3/0081.png is a low contrast image\n",
      "  io.imsave(f'data/preprocessed/masks/{j}/{i:04d}.png', mask)\n"
     ]
    },
    {
     "name": "stdout",
     "output_type": "stream",
     "text": [
      "82/193\n",
      "Template white balancing\n"
     ]
    },
    {
     "name": "stderr",
     "output_type": "stream",
     "text": [
      "C:\\Users\\Billy\\AppData\\Local\\Temp\\ipykernel_23596\\2270396033.py:53: UserWarning: data/preprocessed/masks/0/0082.png is a low contrast image\n",
      "  io.imsave(f'data/preprocessed/masks/{j}/{i:04d}.png', mask)\n",
      "C:\\Users\\Billy\\AppData\\Local\\Temp\\ipykernel_23596\\2270396033.py:53: UserWarning: data/preprocessed/masks/1/0082.png is a low contrast image\n",
      "  io.imsave(f'data/preprocessed/masks/{j}/{i:04d}.png', mask)\n",
      "C:\\Users\\Billy\\AppData\\Local\\Temp\\ipykernel_23596\\2270396033.py:53: UserWarning: data/preprocessed/masks/2/0082.png is a low contrast image\n",
      "  io.imsave(f'data/preprocessed/masks/{j}/{i:04d}.png', mask)\n",
      "C:\\Users\\Billy\\AppData\\Local\\Temp\\ipykernel_23596\\2270396033.py:53: UserWarning: data/preprocessed/masks/3/0082.png is a low contrast image\n",
      "  io.imsave(f'data/preprocessed/masks/{j}/{i:04d}.png', mask)\n"
     ]
    },
    {
     "name": "stdout",
     "output_type": "stream",
     "text": [
      "83/193\n",
      "Template white balancing\n"
     ]
    },
    {
     "name": "stderr",
     "output_type": "stream",
     "text": [
      "C:\\Users\\Billy\\AppData\\Local\\Temp\\ipykernel_23596\\2270396033.py:53: UserWarning: data/preprocessed/masks/0/0083.png is a low contrast image\n",
      "  io.imsave(f'data/preprocessed/masks/{j}/{i:04d}.png', mask)\n",
      "C:\\Users\\Billy\\AppData\\Local\\Temp\\ipykernel_23596\\2270396033.py:53: UserWarning: data/preprocessed/masks/1/0083.png is a low contrast image\n",
      "  io.imsave(f'data/preprocessed/masks/{j}/{i:04d}.png', mask)\n",
      "C:\\Users\\Billy\\AppData\\Local\\Temp\\ipykernel_23596\\2270396033.py:53: UserWarning: data/preprocessed/masks/2/0083.png is a low contrast image\n",
      "  io.imsave(f'data/preprocessed/masks/{j}/{i:04d}.png', mask)\n",
      "C:\\Users\\Billy\\AppData\\Local\\Temp\\ipykernel_23596\\2270396033.py:53: UserWarning: data/preprocessed/masks/3/0083.png is a low contrast image\n",
      "  io.imsave(f'data/preprocessed/masks/{j}/{i:04d}.png', mask)\n"
     ]
    },
    {
     "name": "stdout",
     "output_type": "stream",
     "text": [
      "84/193\n",
      "Template white balancing\n"
     ]
    },
    {
     "name": "stderr",
     "output_type": "stream",
     "text": [
      "C:\\Users\\Billy\\AppData\\Local\\Temp\\ipykernel_23596\\2270396033.py:53: UserWarning: data/preprocessed/masks/0/0084.png is a low contrast image\n",
      "  io.imsave(f'data/preprocessed/masks/{j}/{i:04d}.png', mask)\n",
      "C:\\Users\\Billy\\AppData\\Local\\Temp\\ipykernel_23596\\2270396033.py:53: UserWarning: data/preprocessed/masks/1/0084.png is a low contrast image\n",
      "  io.imsave(f'data/preprocessed/masks/{j}/{i:04d}.png', mask)\n",
      "C:\\Users\\Billy\\AppData\\Local\\Temp\\ipykernel_23596\\2270396033.py:53: UserWarning: data/preprocessed/masks/2/0084.png is a low contrast image\n",
      "  io.imsave(f'data/preprocessed/masks/{j}/{i:04d}.png', mask)\n",
      "C:\\Users\\Billy\\AppData\\Local\\Temp\\ipykernel_23596\\2270396033.py:53: UserWarning: data/preprocessed/masks/3/0084.png is a low contrast image\n",
      "  io.imsave(f'data/preprocessed/masks/{j}/{i:04d}.png', mask)\n"
     ]
    },
    {
     "name": "stdout",
     "output_type": "stream",
     "text": [
      "85/193\n",
      "Template white balancing\n"
     ]
    },
    {
     "name": "stderr",
     "output_type": "stream",
     "text": [
      "C:\\Users\\Billy\\AppData\\Local\\Temp\\ipykernel_23596\\2270396033.py:53: UserWarning: data/preprocessed/masks/0/0085.png is a low contrast image\n",
      "  io.imsave(f'data/preprocessed/masks/{j}/{i:04d}.png', mask)\n",
      "C:\\Users\\Billy\\AppData\\Local\\Temp\\ipykernel_23596\\2270396033.py:53: UserWarning: data/preprocessed/masks/1/0085.png is a low contrast image\n",
      "  io.imsave(f'data/preprocessed/masks/{j}/{i:04d}.png', mask)\n",
      "C:\\Users\\Billy\\AppData\\Local\\Temp\\ipykernel_23596\\2270396033.py:53: UserWarning: data/preprocessed/masks/2/0085.png is a low contrast image\n",
      "  io.imsave(f'data/preprocessed/masks/{j}/{i:04d}.png', mask)\n",
      "C:\\Users\\Billy\\AppData\\Local\\Temp\\ipykernel_23596\\2270396033.py:53: UserWarning: data/preprocessed/masks/3/0085.png is a low contrast image\n",
      "  io.imsave(f'data/preprocessed/masks/{j}/{i:04d}.png', mask)\n"
     ]
    },
    {
     "name": "stdout",
     "output_type": "stream",
     "text": [
      "86/193\n",
      "Template white balancing\n"
     ]
    },
    {
     "name": "stderr",
     "output_type": "stream",
     "text": [
      "C:\\Users\\Billy\\AppData\\Local\\Temp\\ipykernel_23596\\2270396033.py:53: UserWarning: data/preprocessed/masks/0/0086.png is a low contrast image\n",
      "  io.imsave(f'data/preprocessed/masks/{j}/{i:04d}.png', mask)\n",
      "C:\\Users\\Billy\\AppData\\Local\\Temp\\ipykernel_23596\\2270396033.py:53: UserWarning: data/preprocessed/masks/1/0086.png is a low contrast image\n",
      "  io.imsave(f'data/preprocessed/masks/{j}/{i:04d}.png', mask)\n",
      "C:\\Users\\Billy\\AppData\\Local\\Temp\\ipykernel_23596\\2270396033.py:53: UserWarning: data/preprocessed/masks/2/0086.png is a low contrast image\n",
      "  io.imsave(f'data/preprocessed/masks/{j}/{i:04d}.png', mask)\n",
      "C:\\Users\\Billy\\AppData\\Local\\Temp\\ipykernel_23596\\2270396033.py:53: UserWarning: data/preprocessed/masks/3/0086.png is a low contrast image\n",
      "  io.imsave(f'data/preprocessed/masks/{j}/{i:04d}.png', mask)\n"
     ]
    },
    {
     "name": "stdout",
     "output_type": "stream",
     "text": [
      "87/193\n",
      "Template white balancing\n"
     ]
    },
    {
     "name": "stderr",
     "output_type": "stream",
     "text": [
      "C:\\Users\\Billy\\AppData\\Local\\Temp\\ipykernel_23596\\2270396033.py:53: UserWarning: data/preprocessed/masks/0/0087.png is a low contrast image\n",
      "  io.imsave(f'data/preprocessed/masks/{j}/{i:04d}.png', mask)\n",
      "C:\\Users\\Billy\\AppData\\Local\\Temp\\ipykernel_23596\\2270396033.py:53: UserWarning: data/preprocessed/masks/1/0087.png is a low contrast image\n",
      "  io.imsave(f'data/preprocessed/masks/{j}/{i:04d}.png', mask)\n",
      "C:\\Users\\Billy\\AppData\\Local\\Temp\\ipykernel_23596\\2270396033.py:53: UserWarning: data/preprocessed/masks/2/0087.png is a low contrast image\n",
      "  io.imsave(f'data/preprocessed/masks/{j}/{i:04d}.png', mask)\n",
      "C:\\Users\\Billy\\AppData\\Local\\Temp\\ipykernel_23596\\2270396033.py:53: UserWarning: data/preprocessed/masks/3/0087.png is a low contrast image\n",
      "  io.imsave(f'data/preprocessed/masks/{j}/{i:04d}.png', mask)\n"
     ]
    },
    {
     "name": "stdout",
     "output_type": "stream",
     "text": [
      "88/193\n",
      "Template white balancing\n"
     ]
    },
    {
     "name": "stderr",
     "output_type": "stream",
     "text": [
      "C:\\Users\\Billy\\AppData\\Local\\Temp\\ipykernel_23596\\2270396033.py:53: UserWarning: data/preprocessed/masks/0/0088.png is a low contrast image\n",
      "  io.imsave(f'data/preprocessed/masks/{j}/{i:04d}.png', mask)\n",
      "C:\\Users\\Billy\\AppData\\Local\\Temp\\ipykernel_23596\\2270396033.py:53: UserWarning: data/preprocessed/masks/1/0088.png is a low contrast image\n",
      "  io.imsave(f'data/preprocessed/masks/{j}/{i:04d}.png', mask)\n",
      "C:\\Users\\Billy\\AppData\\Local\\Temp\\ipykernel_23596\\2270396033.py:53: UserWarning: data/preprocessed/masks/2/0088.png is a low contrast image\n",
      "  io.imsave(f'data/preprocessed/masks/{j}/{i:04d}.png', mask)\n",
      "C:\\Users\\Billy\\AppData\\Local\\Temp\\ipykernel_23596\\2270396033.py:53: UserWarning: data/preprocessed/masks/3/0088.png is a low contrast image\n",
      "  io.imsave(f'data/preprocessed/masks/{j}/{i:04d}.png', mask)\n"
     ]
    },
    {
     "name": "stdout",
     "output_type": "stream",
     "text": [
      "89/193\n",
      "Template white balancing\n"
     ]
    },
    {
     "name": "stderr",
     "output_type": "stream",
     "text": [
      "C:\\Users\\Billy\\AppData\\Local\\Temp\\ipykernel_23596\\2270396033.py:53: UserWarning: data/preprocessed/masks/0/0089.png is a low contrast image\n",
      "  io.imsave(f'data/preprocessed/masks/{j}/{i:04d}.png', mask)\n",
      "C:\\Users\\Billy\\AppData\\Local\\Temp\\ipykernel_23596\\2270396033.py:53: UserWarning: data/preprocessed/masks/1/0089.png is a low contrast image\n",
      "  io.imsave(f'data/preprocessed/masks/{j}/{i:04d}.png', mask)\n",
      "C:\\Users\\Billy\\AppData\\Local\\Temp\\ipykernel_23596\\2270396033.py:53: UserWarning: data/preprocessed/masks/2/0089.png is a low contrast image\n",
      "  io.imsave(f'data/preprocessed/masks/{j}/{i:04d}.png', mask)\n",
      "C:\\Users\\Billy\\AppData\\Local\\Temp\\ipykernel_23596\\2270396033.py:53: UserWarning: data/preprocessed/masks/3/0089.png is a low contrast image\n",
      "  io.imsave(f'data/preprocessed/masks/{j}/{i:04d}.png', mask)\n"
     ]
    },
    {
     "name": "stdout",
     "output_type": "stream",
     "text": [
      "90/193\n",
      "Template white balancing\n"
     ]
    },
    {
     "name": "stderr",
     "output_type": "stream",
     "text": [
      "C:\\Users\\Billy\\AppData\\Local\\Temp\\ipykernel_23596\\2270396033.py:53: UserWarning: data/preprocessed/masks/0/0090.png is a low contrast image\n",
      "  io.imsave(f'data/preprocessed/masks/{j}/{i:04d}.png', mask)\n",
      "C:\\Users\\Billy\\AppData\\Local\\Temp\\ipykernel_23596\\2270396033.py:53: UserWarning: data/preprocessed/masks/1/0090.png is a low contrast image\n",
      "  io.imsave(f'data/preprocessed/masks/{j}/{i:04d}.png', mask)\n",
      "C:\\Users\\Billy\\AppData\\Local\\Temp\\ipykernel_23596\\2270396033.py:53: UserWarning: data/preprocessed/masks/2/0090.png is a low contrast image\n",
      "  io.imsave(f'data/preprocessed/masks/{j}/{i:04d}.png', mask)\n",
      "C:\\Users\\Billy\\AppData\\Local\\Temp\\ipykernel_23596\\2270396033.py:53: UserWarning: data/preprocessed/masks/3/0090.png is a low contrast image\n",
      "  io.imsave(f'data/preprocessed/masks/{j}/{i:04d}.png', mask)\n"
     ]
    },
    {
     "name": "stdout",
     "output_type": "stream",
     "text": [
      "91/193\n",
      "Template white balancing\n"
     ]
    },
    {
     "name": "stderr",
     "output_type": "stream",
     "text": [
      "C:\\Users\\Billy\\AppData\\Local\\Temp\\ipykernel_23596\\2270396033.py:53: UserWarning: data/preprocessed/masks/0/0091.png is a low contrast image\n",
      "  io.imsave(f'data/preprocessed/masks/{j}/{i:04d}.png', mask)\n",
      "C:\\Users\\Billy\\AppData\\Local\\Temp\\ipykernel_23596\\2270396033.py:53: UserWarning: data/preprocessed/masks/1/0091.png is a low contrast image\n",
      "  io.imsave(f'data/preprocessed/masks/{j}/{i:04d}.png', mask)\n",
      "C:\\Users\\Billy\\AppData\\Local\\Temp\\ipykernel_23596\\2270396033.py:53: UserWarning: data/preprocessed/masks/2/0091.png is a low contrast image\n",
      "  io.imsave(f'data/preprocessed/masks/{j}/{i:04d}.png', mask)\n",
      "C:\\Users\\Billy\\AppData\\Local\\Temp\\ipykernel_23596\\2270396033.py:53: UserWarning: data/preprocessed/masks/3/0091.png is a low contrast image\n",
      "  io.imsave(f'data/preprocessed/masks/{j}/{i:04d}.png', mask)\n"
     ]
    },
    {
     "name": "stdout",
     "output_type": "stream",
     "text": [
      "92/193\n",
      "Template white balancing\n"
     ]
    },
    {
     "name": "stderr",
     "output_type": "stream",
     "text": [
      "C:\\Users\\Billy\\AppData\\Local\\Temp\\ipykernel_23596\\2270396033.py:53: UserWarning: data/preprocessed/masks/0/0092.png is a low contrast image\n",
      "  io.imsave(f'data/preprocessed/masks/{j}/{i:04d}.png', mask)\n",
      "C:\\Users\\Billy\\AppData\\Local\\Temp\\ipykernel_23596\\2270396033.py:53: UserWarning: data/preprocessed/masks/1/0092.png is a low contrast image\n",
      "  io.imsave(f'data/preprocessed/masks/{j}/{i:04d}.png', mask)\n",
      "C:\\Users\\Billy\\AppData\\Local\\Temp\\ipykernel_23596\\2270396033.py:53: UserWarning: data/preprocessed/masks/2/0092.png is a low contrast image\n",
      "  io.imsave(f'data/preprocessed/masks/{j}/{i:04d}.png', mask)\n",
      "C:\\Users\\Billy\\AppData\\Local\\Temp\\ipykernel_23596\\2270396033.py:53: UserWarning: data/preprocessed/masks/3/0092.png is a low contrast image\n",
      "  io.imsave(f'data/preprocessed/masks/{j}/{i:04d}.png', mask)\n"
     ]
    },
    {
     "name": "stdout",
     "output_type": "stream",
     "text": [
      "93/193\n",
      "Template white balancing\n"
     ]
    },
    {
     "name": "stderr",
     "output_type": "stream",
     "text": [
      "C:\\Users\\Billy\\AppData\\Local\\Temp\\ipykernel_23596\\2270396033.py:53: UserWarning: data/preprocessed/masks/0/0093.png is a low contrast image\n",
      "  io.imsave(f'data/preprocessed/masks/{j}/{i:04d}.png', mask)\n",
      "C:\\Users\\Billy\\AppData\\Local\\Temp\\ipykernel_23596\\2270396033.py:53: UserWarning: data/preprocessed/masks/1/0093.png is a low contrast image\n",
      "  io.imsave(f'data/preprocessed/masks/{j}/{i:04d}.png', mask)\n",
      "C:\\Users\\Billy\\AppData\\Local\\Temp\\ipykernel_23596\\2270396033.py:53: UserWarning: data/preprocessed/masks/2/0093.png is a low contrast image\n",
      "  io.imsave(f'data/preprocessed/masks/{j}/{i:04d}.png', mask)\n",
      "C:\\Users\\Billy\\AppData\\Local\\Temp\\ipykernel_23596\\2270396033.py:53: UserWarning: data/preprocessed/masks/3/0093.png is a low contrast image\n",
      "  io.imsave(f'data/preprocessed/masks/{j}/{i:04d}.png', mask)\n"
     ]
    },
    {
     "name": "stdout",
     "output_type": "stream",
     "text": [
      "94/193\n",
      "Template white balancing\n"
     ]
    },
    {
     "name": "stderr",
     "output_type": "stream",
     "text": [
      "C:\\Users\\Billy\\AppData\\Local\\Temp\\ipykernel_23596\\2270396033.py:53: UserWarning: data/preprocessed/masks/0/0094.png is a low contrast image\n",
      "  io.imsave(f'data/preprocessed/masks/{j}/{i:04d}.png', mask)\n",
      "C:\\Users\\Billy\\AppData\\Local\\Temp\\ipykernel_23596\\2270396033.py:53: UserWarning: data/preprocessed/masks/1/0094.png is a low contrast image\n",
      "  io.imsave(f'data/preprocessed/masks/{j}/{i:04d}.png', mask)\n",
      "C:\\Users\\Billy\\AppData\\Local\\Temp\\ipykernel_23596\\2270396033.py:53: UserWarning: data/preprocessed/masks/2/0094.png is a low contrast image\n",
      "  io.imsave(f'data/preprocessed/masks/{j}/{i:04d}.png', mask)\n",
      "C:\\Users\\Billy\\AppData\\Local\\Temp\\ipykernel_23596\\2270396033.py:53: UserWarning: data/preprocessed/masks/3/0094.png is a low contrast image\n",
      "  io.imsave(f'data/preprocessed/masks/{j}/{i:04d}.png', mask)\n"
     ]
    },
    {
     "name": "stdout",
     "output_type": "stream",
     "text": [
      "95/193\n",
      "Template white balancing\n"
     ]
    },
    {
     "name": "stderr",
     "output_type": "stream",
     "text": [
      "C:\\Users\\Billy\\AppData\\Local\\Temp\\ipykernel_23596\\2270396033.py:53: UserWarning: data/preprocessed/masks/0/0095.png is a low contrast image\n",
      "  io.imsave(f'data/preprocessed/masks/{j}/{i:04d}.png', mask)\n",
      "C:\\Users\\Billy\\AppData\\Local\\Temp\\ipykernel_23596\\2270396033.py:53: UserWarning: data/preprocessed/masks/1/0095.png is a low contrast image\n",
      "  io.imsave(f'data/preprocessed/masks/{j}/{i:04d}.png', mask)\n",
      "C:\\Users\\Billy\\AppData\\Local\\Temp\\ipykernel_23596\\2270396033.py:53: UserWarning: data/preprocessed/masks/2/0095.png is a low contrast image\n",
      "  io.imsave(f'data/preprocessed/masks/{j}/{i:04d}.png', mask)\n",
      "C:\\Users\\Billy\\AppData\\Local\\Temp\\ipykernel_23596\\2270396033.py:53: UserWarning: data/preprocessed/masks/3/0095.png is a low contrast image\n",
      "  io.imsave(f'data/preprocessed/masks/{j}/{i:04d}.png', mask)\n"
     ]
    },
    {
     "name": "stdout",
     "output_type": "stream",
     "text": [
      "96/193\n",
      "Template white balancing\n"
     ]
    },
    {
     "name": "stderr",
     "output_type": "stream",
     "text": [
      "C:\\Users\\Billy\\AppData\\Local\\Temp\\ipykernel_23596\\2270396033.py:53: UserWarning: data/preprocessed/masks/0/0096.png is a low contrast image\n",
      "  io.imsave(f'data/preprocessed/masks/{j}/{i:04d}.png', mask)\n",
      "C:\\Users\\Billy\\AppData\\Local\\Temp\\ipykernel_23596\\2270396033.py:53: UserWarning: data/preprocessed/masks/1/0096.png is a low contrast image\n",
      "  io.imsave(f'data/preprocessed/masks/{j}/{i:04d}.png', mask)\n",
      "C:\\Users\\Billy\\AppData\\Local\\Temp\\ipykernel_23596\\2270396033.py:53: UserWarning: data/preprocessed/masks/2/0096.png is a low contrast image\n",
      "  io.imsave(f'data/preprocessed/masks/{j}/{i:04d}.png', mask)\n",
      "C:\\Users\\Billy\\AppData\\Local\\Temp\\ipykernel_23596\\2270396033.py:53: UserWarning: data/preprocessed/masks/3/0096.png is a low contrast image\n",
      "  io.imsave(f'data/preprocessed/masks/{j}/{i:04d}.png', mask)\n"
     ]
    },
    {
     "name": "stdout",
     "output_type": "stream",
     "text": [
      "97/193\n",
      "Template white balancing\n"
     ]
    },
    {
     "name": "stderr",
     "output_type": "stream",
     "text": [
      "C:\\Users\\Billy\\AppData\\Local\\Temp\\ipykernel_23596\\2270396033.py:53: UserWarning: data/preprocessed/masks/0/0097.png is a low contrast image\n",
      "  io.imsave(f'data/preprocessed/masks/{j}/{i:04d}.png', mask)\n",
      "C:\\Users\\Billy\\AppData\\Local\\Temp\\ipykernel_23596\\2270396033.py:53: UserWarning: data/preprocessed/masks/1/0097.png is a low contrast image\n",
      "  io.imsave(f'data/preprocessed/masks/{j}/{i:04d}.png', mask)\n",
      "C:\\Users\\Billy\\AppData\\Local\\Temp\\ipykernel_23596\\2270396033.py:53: UserWarning: data/preprocessed/masks/2/0097.png is a low contrast image\n",
      "  io.imsave(f'data/preprocessed/masks/{j}/{i:04d}.png', mask)\n",
      "C:\\Users\\Billy\\AppData\\Local\\Temp\\ipykernel_23596\\2270396033.py:53: UserWarning: data/preprocessed/masks/3/0097.png is a low contrast image\n",
      "  io.imsave(f'data/preprocessed/masks/{j}/{i:04d}.png', mask)\n"
     ]
    },
    {
     "name": "stdout",
     "output_type": "stream",
     "text": [
      "98/193\n",
      "Template white balancing\n"
     ]
    },
    {
     "name": "stderr",
     "output_type": "stream",
     "text": [
      "C:\\Users\\Billy\\AppData\\Local\\Temp\\ipykernel_23596\\2270396033.py:53: UserWarning: data/preprocessed/masks/0/0098.png is a low contrast image\n",
      "  io.imsave(f'data/preprocessed/masks/{j}/{i:04d}.png', mask)\n",
      "C:\\Users\\Billy\\AppData\\Local\\Temp\\ipykernel_23596\\2270396033.py:53: UserWarning: data/preprocessed/masks/1/0098.png is a low contrast image\n",
      "  io.imsave(f'data/preprocessed/masks/{j}/{i:04d}.png', mask)\n",
      "C:\\Users\\Billy\\AppData\\Local\\Temp\\ipykernel_23596\\2270396033.py:53: UserWarning: data/preprocessed/masks/2/0098.png is a low contrast image\n",
      "  io.imsave(f'data/preprocessed/masks/{j}/{i:04d}.png', mask)\n",
      "C:\\Users\\Billy\\AppData\\Local\\Temp\\ipykernel_23596\\2270396033.py:53: UserWarning: data/preprocessed/masks/3/0098.png is a low contrast image\n",
      "  io.imsave(f'data/preprocessed/masks/{j}/{i:04d}.png', mask)\n"
     ]
    },
    {
     "name": "stdout",
     "output_type": "stream",
     "text": [
      "99/193\n",
      "Template white balancing\n"
     ]
    },
    {
     "name": "stderr",
     "output_type": "stream",
     "text": [
      "C:\\Users\\Billy\\AppData\\Local\\Temp\\ipykernel_23596\\2270396033.py:53: UserWarning: data/preprocessed/masks/0/0099.png is a low contrast image\n",
      "  io.imsave(f'data/preprocessed/masks/{j}/{i:04d}.png', mask)\n",
      "C:\\Users\\Billy\\AppData\\Local\\Temp\\ipykernel_23596\\2270396033.py:53: UserWarning: data/preprocessed/masks/1/0099.png is a low contrast image\n",
      "  io.imsave(f'data/preprocessed/masks/{j}/{i:04d}.png', mask)\n",
      "C:\\Users\\Billy\\AppData\\Local\\Temp\\ipykernel_23596\\2270396033.py:53: UserWarning: data/preprocessed/masks/2/0099.png is a low contrast image\n",
      "  io.imsave(f'data/preprocessed/masks/{j}/{i:04d}.png', mask)\n",
      "C:\\Users\\Billy\\AppData\\Local\\Temp\\ipykernel_23596\\2270396033.py:53: UserWarning: data/preprocessed/masks/3/0099.png is a low contrast image\n",
      "  io.imsave(f'data/preprocessed/masks/{j}/{i:04d}.png', mask)\n"
     ]
    },
    {
     "name": "stdout",
     "output_type": "stream",
     "text": [
      "100/193\n",
      "Template white balancing\n"
     ]
    },
    {
     "name": "stderr",
     "output_type": "stream",
     "text": [
      "C:\\Users\\Billy\\AppData\\Local\\Temp\\ipykernel_23596\\2270396033.py:53: UserWarning: data/preprocessed/masks/0/0100.png is a low contrast image\n",
      "  io.imsave(f'data/preprocessed/masks/{j}/{i:04d}.png', mask)\n",
      "C:\\Users\\Billy\\AppData\\Local\\Temp\\ipykernel_23596\\2270396033.py:53: UserWarning: data/preprocessed/masks/1/0100.png is a low contrast image\n",
      "  io.imsave(f'data/preprocessed/masks/{j}/{i:04d}.png', mask)\n",
      "C:\\Users\\Billy\\AppData\\Local\\Temp\\ipykernel_23596\\2270396033.py:53: UserWarning: data/preprocessed/masks/2/0100.png is a low contrast image\n",
      "  io.imsave(f'data/preprocessed/masks/{j}/{i:04d}.png', mask)\n",
      "C:\\Users\\Billy\\AppData\\Local\\Temp\\ipykernel_23596\\2270396033.py:53: UserWarning: data/preprocessed/masks/3/0100.png is a low contrast image\n",
      "  io.imsave(f'data/preprocessed/masks/{j}/{i:04d}.png', mask)\n"
     ]
    },
    {
     "name": "stdout",
     "output_type": "stream",
     "text": [
      "101/193\n",
      "Template white balancing\n"
     ]
    },
    {
     "name": "stderr",
     "output_type": "stream",
     "text": [
      "C:\\Users\\Billy\\AppData\\Local\\Temp\\ipykernel_23596\\2270396033.py:53: UserWarning: data/preprocessed/masks/0/0101.png is a low contrast image\n",
      "  io.imsave(f'data/preprocessed/masks/{j}/{i:04d}.png', mask)\n",
      "C:\\Users\\Billy\\AppData\\Local\\Temp\\ipykernel_23596\\2270396033.py:53: UserWarning: data/preprocessed/masks/1/0101.png is a low contrast image\n",
      "  io.imsave(f'data/preprocessed/masks/{j}/{i:04d}.png', mask)\n",
      "C:\\Users\\Billy\\AppData\\Local\\Temp\\ipykernel_23596\\2270396033.py:53: UserWarning: data/preprocessed/masks/2/0101.png is a low contrast image\n",
      "  io.imsave(f'data/preprocessed/masks/{j}/{i:04d}.png', mask)\n",
      "C:\\Users\\Billy\\AppData\\Local\\Temp\\ipykernel_23596\\2270396033.py:53: UserWarning: data/preprocessed/masks/3/0101.png is a low contrast image\n",
      "  io.imsave(f'data/preprocessed/masks/{j}/{i:04d}.png', mask)\n"
     ]
    },
    {
     "name": "stdout",
     "output_type": "stream",
     "text": [
      "102/193\n",
      "Template white balancing\n"
     ]
    },
    {
     "name": "stderr",
     "output_type": "stream",
     "text": [
      "C:\\Users\\Billy\\AppData\\Local\\Temp\\ipykernel_23596\\2270396033.py:53: UserWarning: data/preprocessed/masks/0/0102.png is a low contrast image\n",
      "  io.imsave(f'data/preprocessed/masks/{j}/{i:04d}.png', mask)\n",
      "C:\\Users\\Billy\\AppData\\Local\\Temp\\ipykernel_23596\\2270396033.py:53: UserWarning: data/preprocessed/masks/1/0102.png is a low contrast image\n",
      "  io.imsave(f'data/preprocessed/masks/{j}/{i:04d}.png', mask)\n",
      "C:\\Users\\Billy\\AppData\\Local\\Temp\\ipykernel_23596\\2270396033.py:53: UserWarning: data/preprocessed/masks/2/0102.png is a low contrast image\n",
      "  io.imsave(f'data/preprocessed/masks/{j}/{i:04d}.png', mask)\n",
      "C:\\Users\\Billy\\AppData\\Local\\Temp\\ipykernel_23596\\2270396033.py:53: UserWarning: data/preprocessed/masks/3/0102.png is a low contrast image\n",
      "  io.imsave(f'data/preprocessed/masks/{j}/{i:04d}.png', mask)\n"
     ]
    },
    {
     "name": "stdout",
     "output_type": "stream",
     "text": [
      "103/193\n",
      "Template white balancing\n"
     ]
    },
    {
     "name": "stderr",
     "output_type": "stream",
     "text": [
      "C:\\Users\\Billy\\AppData\\Local\\Temp\\ipykernel_23596\\2270396033.py:53: UserWarning: data/preprocessed/masks/0/0103.png is a low contrast image\n",
      "  io.imsave(f'data/preprocessed/masks/{j}/{i:04d}.png', mask)\n",
      "C:\\Users\\Billy\\AppData\\Local\\Temp\\ipykernel_23596\\2270396033.py:53: UserWarning: data/preprocessed/masks/1/0103.png is a low contrast image\n",
      "  io.imsave(f'data/preprocessed/masks/{j}/{i:04d}.png', mask)\n",
      "C:\\Users\\Billy\\AppData\\Local\\Temp\\ipykernel_23596\\2270396033.py:53: UserWarning: data/preprocessed/masks/2/0103.png is a low contrast image\n",
      "  io.imsave(f'data/preprocessed/masks/{j}/{i:04d}.png', mask)\n",
      "C:\\Users\\Billy\\AppData\\Local\\Temp\\ipykernel_23596\\2270396033.py:53: UserWarning: data/preprocessed/masks/3/0103.png is a low contrast image\n",
      "  io.imsave(f'data/preprocessed/masks/{j}/{i:04d}.png', mask)\n"
     ]
    },
    {
     "name": "stdout",
     "output_type": "stream",
     "text": [
      "104/193\n",
      "Template white balancing\n"
     ]
    },
    {
     "name": "stderr",
     "output_type": "stream",
     "text": [
      "C:\\Users\\Billy\\AppData\\Local\\Temp\\ipykernel_23596\\2270396033.py:53: UserWarning: data/preprocessed/masks/0/0104.png is a low contrast image\n",
      "  io.imsave(f'data/preprocessed/masks/{j}/{i:04d}.png', mask)\n",
      "C:\\Users\\Billy\\AppData\\Local\\Temp\\ipykernel_23596\\2270396033.py:53: UserWarning: data/preprocessed/masks/1/0104.png is a low contrast image\n",
      "  io.imsave(f'data/preprocessed/masks/{j}/{i:04d}.png', mask)\n",
      "C:\\Users\\Billy\\AppData\\Local\\Temp\\ipykernel_23596\\2270396033.py:53: UserWarning: data/preprocessed/masks/2/0104.png is a low contrast image\n",
      "  io.imsave(f'data/preprocessed/masks/{j}/{i:04d}.png', mask)\n",
      "C:\\Users\\Billy\\AppData\\Local\\Temp\\ipykernel_23596\\2270396033.py:53: UserWarning: data/preprocessed/masks/3/0104.png is a low contrast image\n",
      "  io.imsave(f'data/preprocessed/masks/{j}/{i:04d}.png', mask)\n"
     ]
    },
    {
     "name": "stdout",
     "output_type": "stream",
     "text": [
      "105/193\n",
      "Template white balancing\n"
     ]
    },
    {
     "name": "stderr",
     "output_type": "stream",
     "text": [
      "C:\\Users\\Billy\\AppData\\Local\\Temp\\ipykernel_23596\\2270396033.py:53: UserWarning: data/preprocessed/masks/0/0105.png is a low contrast image\n",
      "  io.imsave(f'data/preprocessed/masks/{j}/{i:04d}.png', mask)\n",
      "C:\\Users\\Billy\\AppData\\Local\\Temp\\ipykernel_23596\\2270396033.py:53: UserWarning: data/preprocessed/masks/1/0105.png is a low contrast image\n",
      "  io.imsave(f'data/preprocessed/masks/{j}/{i:04d}.png', mask)\n",
      "C:\\Users\\Billy\\AppData\\Local\\Temp\\ipykernel_23596\\2270396033.py:53: UserWarning: data/preprocessed/masks/2/0105.png is a low contrast image\n",
      "  io.imsave(f'data/preprocessed/masks/{j}/{i:04d}.png', mask)\n",
      "C:\\Users\\Billy\\AppData\\Local\\Temp\\ipykernel_23596\\2270396033.py:53: UserWarning: data/preprocessed/masks/3/0105.png is a low contrast image\n",
      "  io.imsave(f'data/preprocessed/masks/{j}/{i:04d}.png', mask)\n"
     ]
    },
    {
     "name": "stdout",
     "output_type": "stream",
     "text": [
      "106/193\n",
      "Template white balancing\n"
     ]
    },
    {
     "name": "stderr",
     "output_type": "stream",
     "text": [
      "C:\\Users\\Billy\\AppData\\Local\\Temp\\ipykernel_23596\\2270396033.py:53: UserWarning: data/preprocessed/masks/0/0106.png is a low contrast image\n",
      "  io.imsave(f'data/preprocessed/masks/{j}/{i:04d}.png', mask)\n",
      "C:\\Users\\Billy\\AppData\\Local\\Temp\\ipykernel_23596\\2270396033.py:53: UserWarning: data/preprocessed/masks/1/0106.png is a low contrast image\n",
      "  io.imsave(f'data/preprocessed/masks/{j}/{i:04d}.png', mask)\n",
      "C:\\Users\\Billy\\AppData\\Local\\Temp\\ipykernel_23596\\2270396033.py:53: UserWarning: data/preprocessed/masks/2/0106.png is a low contrast image\n",
      "  io.imsave(f'data/preprocessed/masks/{j}/{i:04d}.png', mask)\n",
      "C:\\Users\\Billy\\AppData\\Local\\Temp\\ipykernel_23596\\2270396033.py:53: UserWarning: data/preprocessed/masks/3/0106.png is a low contrast image\n",
      "  io.imsave(f'data/preprocessed/masks/{j}/{i:04d}.png', mask)\n"
     ]
    },
    {
     "name": "stdout",
     "output_type": "stream",
     "text": [
      "107/193\n",
      "Template white balancing\n"
     ]
    },
    {
     "name": "stderr",
     "output_type": "stream",
     "text": [
      "C:\\Users\\Billy\\AppData\\Local\\Temp\\ipykernel_23596\\2270396033.py:53: UserWarning: data/preprocessed/masks/0/0107.png is a low contrast image\n",
      "  io.imsave(f'data/preprocessed/masks/{j}/{i:04d}.png', mask)\n",
      "C:\\Users\\Billy\\AppData\\Local\\Temp\\ipykernel_23596\\2270396033.py:53: UserWarning: data/preprocessed/masks/1/0107.png is a low contrast image\n",
      "  io.imsave(f'data/preprocessed/masks/{j}/{i:04d}.png', mask)\n",
      "C:\\Users\\Billy\\AppData\\Local\\Temp\\ipykernel_23596\\2270396033.py:53: UserWarning: data/preprocessed/masks/2/0107.png is a low contrast image\n",
      "  io.imsave(f'data/preprocessed/masks/{j}/{i:04d}.png', mask)\n",
      "C:\\Users\\Billy\\AppData\\Local\\Temp\\ipykernel_23596\\2270396033.py:53: UserWarning: data/preprocessed/masks/3/0107.png is a low contrast image\n",
      "  io.imsave(f'data/preprocessed/masks/{j}/{i:04d}.png', mask)\n"
     ]
    },
    {
     "name": "stdout",
     "output_type": "stream",
     "text": [
      "108/193\n",
      "Template white balancing\n"
     ]
    },
    {
     "name": "stderr",
     "output_type": "stream",
     "text": [
      "C:\\Users\\Billy\\AppData\\Local\\Temp\\ipykernel_23596\\2270396033.py:53: UserWarning: data/preprocessed/masks/0/0108.png is a low contrast image\n",
      "  io.imsave(f'data/preprocessed/masks/{j}/{i:04d}.png', mask)\n",
      "C:\\Users\\Billy\\AppData\\Local\\Temp\\ipykernel_23596\\2270396033.py:53: UserWarning: data/preprocessed/masks/1/0108.png is a low contrast image\n",
      "  io.imsave(f'data/preprocessed/masks/{j}/{i:04d}.png', mask)\n",
      "C:\\Users\\Billy\\AppData\\Local\\Temp\\ipykernel_23596\\2270396033.py:53: UserWarning: data/preprocessed/masks/2/0108.png is a low contrast image\n",
      "  io.imsave(f'data/preprocessed/masks/{j}/{i:04d}.png', mask)\n",
      "C:\\Users\\Billy\\AppData\\Local\\Temp\\ipykernel_23596\\2270396033.py:53: UserWarning: data/preprocessed/masks/3/0108.png is a low contrast image\n",
      "  io.imsave(f'data/preprocessed/masks/{j}/{i:04d}.png', mask)\n"
     ]
    },
    {
     "name": "stdout",
     "output_type": "stream",
     "text": [
      "109/193\n",
      "Template white balancing\n"
     ]
    },
    {
     "name": "stderr",
     "output_type": "stream",
     "text": [
      "C:\\Users\\Billy\\AppData\\Local\\Temp\\ipykernel_23596\\2270396033.py:53: UserWarning: data/preprocessed/masks/0/0109.png is a low contrast image\n",
      "  io.imsave(f'data/preprocessed/masks/{j}/{i:04d}.png', mask)\n",
      "C:\\Users\\Billy\\AppData\\Local\\Temp\\ipykernel_23596\\2270396033.py:53: UserWarning: data/preprocessed/masks/1/0109.png is a low contrast image\n",
      "  io.imsave(f'data/preprocessed/masks/{j}/{i:04d}.png', mask)\n",
      "C:\\Users\\Billy\\AppData\\Local\\Temp\\ipykernel_23596\\2270396033.py:53: UserWarning: data/preprocessed/masks/2/0109.png is a low contrast image\n",
      "  io.imsave(f'data/preprocessed/masks/{j}/{i:04d}.png', mask)\n",
      "C:\\Users\\Billy\\AppData\\Local\\Temp\\ipykernel_23596\\2270396033.py:53: UserWarning: data/preprocessed/masks/3/0109.png is a low contrast image\n",
      "  io.imsave(f'data/preprocessed/masks/{j}/{i:04d}.png', mask)\n"
     ]
    },
    {
     "name": "stdout",
     "output_type": "stream",
     "text": [
      "110/193\n",
      "Template white balancing\n"
     ]
    },
    {
     "name": "stderr",
     "output_type": "stream",
     "text": [
      "C:\\Users\\Billy\\AppData\\Local\\Temp\\ipykernel_23596\\2270396033.py:53: UserWarning: data/preprocessed/masks/0/0110.png is a low contrast image\n",
      "  io.imsave(f'data/preprocessed/masks/{j}/{i:04d}.png', mask)\n",
      "C:\\Users\\Billy\\AppData\\Local\\Temp\\ipykernel_23596\\2270396033.py:53: UserWarning: data/preprocessed/masks/1/0110.png is a low contrast image\n",
      "  io.imsave(f'data/preprocessed/masks/{j}/{i:04d}.png', mask)\n",
      "C:\\Users\\Billy\\AppData\\Local\\Temp\\ipykernel_23596\\2270396033.py:53: UserWarning: data/preprocessed/masks/2/0110.png is a low contrast image\n",
      "  io.imsave(f'data/preprocessed/masks/{j}/{i:04d}.png', mask)\n",
      "C:\\Users\\Billy\\AppData\\Local\\Temp\\ipykernel_23596\\2270396033.py:53: UserWarning: data/preprocessed/masks/3/0110.png is a low contrast image\n",
      "  io.imsave(f'data/preprocessed/masks/{j}/{i:04d}.png', mask)\n"
     ]
    },
    {
     "name": "stdout",
     "output_type": "stream",
     "text": [
      "111/193\n",
      "Template white balancing\n"
     ]
    },
    {
     "name": "stderr",
     "output_type": "stream",
     "text": [
      "C:\\Users\\Billy\\AppData\\Local\\Temp\\ipykernel_23596\\2270396033.py:53: UserWarning: data/preprocessed/masks/0/0111.png is a low contrast image\n",
      "  io.imsave(f'data/preprocessed/masks/{j}/{i:04d}.png', mask)\n",
      "C:\\Users\\Billy\\AppData\\Local\\Temp\\ipykernel_23596\\2270396033.py:53: UserWarning: data/preprocessed/masks/1/0111.png is a low contrast image\n",
      "  io.imsave(f'data/preprocessed/masks/{j}/{i:04d}.png', mask)\n",
      "C:\\Users\\Billy\\AppData\\Local\\Temp\\ipykernel_23596\\2270396033.py:53: UserWarning: data/preprocessed/masks/2/0111.png is a low contrast image\n",
      "  io.imsave(f'data/preprocessed/masks/{j}/{i:04d}.png', mask)\n",
      "C:\\Users\\Billy\\AppData\\Local\\Temp\\ipykernel_23596\\2270396033.py:53: UserWarning: data/preprocessed/masks/3/0111.png is a low contrast image\n",
      "  io.imsave(f'data/preprocessed/masks/{j}/{i:04d}.png', mask)\n"
     ]
    },
    {
     "name": "stdout",
     "output_type": "stream",
     "text": [
      "112/193\n",
      "Template white balancing\n"
     ]
    },
    {
     "name": "stderr",
     "output_type": "stream",
     "text": [
      "C:\\Users\\Billy\\AppData\\Local\\Temp\\ipykernel_23596\\2270396033.py:53: UserWarning: data/preprocessed/masks/0/0112.png is a low contrast image\n",
      "  io.imsave(f'data/preprocessed/masks/{j}/{i:04d}.png', mask)\n",
      "C:\\Users\\Billy\\AppData\\Local\\Temp\\ipykernel_23596\\2270396033.py:53: UserWarning: data/preprocessed/masks/1/0112.png is a low contrast image\n",
      "  io.imsave(f'data/preprocessed/masks/{j}/{i:04d}.png', mask)\n",
      "C:\\Users\\Billy\\AppData\\Local\\Temp\\ipykernel_23596\\2270396033.py:53: UserWarning: data/preprocessed/masks/2/0112.png is a low contrast image\n",
      "  io.imsave(f'data/preprocessed/masks/{j}/{i:04d}.png', mask)\n",
      "C:\\Users\\Billy\\AppData\\Local\\Temp\\ipykernel_23596\\2270396033.py:53: UserWarning: data/preprocessed/masks/3/0112.png is a low contrast image\n",
      "  io.imsave(f'data/preprocessed/masks/{j}/{i:04d}.png', mask)\n"
     ]
    },
    {
     "name": "stdout",
     "output_type": "stream",
     "text": [
      "113/193\n",
      "Template white balancing\n"
     ]
    },
    {
     "name": "stderr",
     "output_type": "stream",
     "text": [
      "C:\\Users\\Billy\\AppData\\Local\\Temp\\ipykernel_23596\\2270396033.py:53: UserWarning: data/preprocessed/masks/0/0113.png is a low contrast image\n",
      "  io.imsave(f'data/preprocessed/masks/{j}/{i:04d}.png', mask)\n",
      "C:\\Users\\Billy\\AppData\\Local\\Temp\\ipykernel_23596\\2270396033.py:53: UserWarning: data/preprocessed/masks/1/0113.png is a low contrast image\n",
      "  io.imsave(f'data/preprocessed/masks/{j}/{i:04d}.png', mask)\n",
      "C:\\Users\\Billy\\AppData\\Local\\Temp\\ipykernel_23596\\2270396033.py:53: UserWarning: data/preprocessed/masks/2/0113.png is a low contrast image\n",
      "  io.imsave(f'data/preprocessed/masks/{j}/{i:04d}.png', mask)\n",
      "C:\\Users\\Billy\\AppData\\Local\\Temp\\ipykernel_23596\\2270396033.py:53: UserWarning: data/preprocessed/masks/3/0113.png is a low contrast image\n",
      "  io.imsave(f'data/preprocessed/masks/{j}/{i:04d}.png', mask)\n"
     ]
    },
    {
     "name": "stdout",
     "output_type": "stream",
     "text": [
      "114/193\n",
      "Template white balancing\n"
     ]
    },
    {
     "name": "stderr",
     "output_type": "stream",
     "text": [
      "C:\\Users\\Billy\\AppData\\Local\\Temp\\ipykernel_23596\\2270396033.py:53: UserWarning: data/preprocessed/masks/0/0114.png is a low contrast image\n",
      "  io.imsave(f'data/preprocessed/masks/{j}/{i:04d}.png', mask)\n",
      "C:\\Users\\Billy\\AppData\\Local\\Temp\\ipykernel_23596\\2270396033.py:53: UserWarning: data/preprocessed/masks/1/0114.png is a low contrast image\n",
      "  io.imsave(f'data/preprocessed/masks/{j}/{i:04d}.png', mask)\n",
      "C:\\Users\\Billy\\AppData\\Local\\Temp\\ipykernel_23596\\2270396033.py:53: UserWarning: data/preprocessed/masks/2/0114.png is a low contrast image\n",
      "  io.imsave(f'data/preprocessed/masks/{j}/{i:04d}.png', mask)\n",
      "C:\\Users\\Billy\\AppData\\Local\\Temp\\ipykernel_23596\\2270396033.py:53: UserWarning: data/preprocessed/masks/3/0114.png is a low contrast image\n",
      "  io.imsave(f'data/preprocessed/masks/{j}/{i:04d}.png', mask)\n"
     ]
    },
    {
     "name": "stdout",
     "output_type": "stream",
     "text": [
      "115/193\n",
      "Template white balancing\n"
     ]
    },
    {
     "name": "stderr",
     "output_type": "stream",
     "text": [
      "C:\\Users\\Billy\\AppData\\Local\\Temp\\ipykernel_23596\\2270396033.py:53: UserWarning: data/preprocessed/masks/0/0115.png is a low contrast image\n",
      "  io.imsave(f'data/preprocessed/masks/{j}/{i:04d}.png', mask)\n",
      "C:\\Users\\Billy\\AppData\\Local\\Temp\\ipykernel_23596\\2270396033.py:53: UserWarning: data/preprocessed/masks/1/0115.png is a low contrast image\n",
      "  io.imsave(f'data/preprocessed/masks/{j}/{i:04d}.png', mask)\n",
      "C:\\Users\\Billy\\AppData\\Local\\Temp\\ipykernel_23596\\2270396033.py:53: UserWarning: data/preprocessed/masks/2/0115.png is a low contrast image\n",
      "  io.imsave(f'data/preprocessed/masks/{j}/{i:04d}.png', mask)\n",
      "C:\\Users\\Billy\\AppData\\Local\\Temp\\ipykernel_23596\\2270396033.py:53: UserWarning: data/preprocessed/masks/3/0115.png is a low contrast image\n",
      "  io.imsave(f'data/preprocessed/masks/{j}/{i:04d}.png', mask)\n"
     ]
    },
    {
     "name": "stdout",
     "output_type": "stream",
     "text": [
      "116/193\n",
      "Template white balancing\n"
     ]
    },
    {
     "name": "stderr",
     "output_type": "stream",
     "text": [
      "C:\\Users\\Billy\\AppData\\Local\\Temp\\ipykernel_23596\\2270396033.py:53: UserWarning: data/preprocessed/masks/0/0116.png is a low contrast image\n",
      "  io.imsave(f'data/preprocessed/masks/{j}/{i:04d}.png', mask)\n",
      "C:\\Users\\Billy\\AppData\\Local\\Temp\\ipykernel_23596\\2270396033.py:53: UserWarning: data/preprocessed/masks/1/0116.png is a low contrast image\n",
      "  io.imsave(f'data/preprocessed/masks/{j}/{i:04d}.png', mask)\n",
      "C:\\Users\\Billy\\AppData\\Local\\Temp\\ipykernel_23596\\2270396033.py:53: UserWarning: data/preprocessed/masks/2/0116.png is a low contrast image\n",
      "  io.imsave(f'data/preprocessed/masks/{j}/{i:04d}.png', mask)\n",
      "C:\\Users\\Billy\\AppData\\Local\\Temp\\ipykernel_23596\\2270396033.py:53: UserWarning: data/preprocessed/masks/3/0116.png is a low contrast image\n",
      "  io.imsave(f'data/preprocessed/masks/{j}/{i:04d}.png', mask)\n"
     ]
    },
    {
     "name": "stdout",
     "output_type": "stream",
     "text": [
      "117/193\n",
      "Template white balancing\n"
     ]
    },
    {
     "name": "stderr",
     "output_type": "stream",
     "text": [
      "C:\\Users\\Billy\\AppData\\Local\\Temp\\ipykernel_23596\\2270396033.py:53: UserWarning: data/preprocessed/masks/0/0117.png is a low contrast image\n",
      "  io.imsave(f'data/preprocessed/masks/{j}/{i:04d}.png', mask)\n",
      "C:\\Users\\Billy\\AppData\\Local\\Temp\\ipykernel_23596\\2270396033.py:53: UserWarning: data/preprocessed/masks/1/0117.png is a low contrast image\n",
      "  io.imsave(f'data/preprocessed/masks/{j}/{i:04d}.png', mask)\n",
      "C:\\Users\\Billy\\AppData\\Local\\Temp\\ipykernel_23596\\2270396033.py:53: UserWarning: data/preprocessed/masks/2/0117.png is a low contrast image\n",
      "  io.imsave(f'data/preprocessed/masks/{j}/{i:04d}.png', mask)\n",
      "C:\\Users\\Billy\\AppData\\Local\\Temp\\ipykernel_23596\\2270396033.py:53: UserWarning: data/preprocessed/masks/3/0117.png is a low contrast image\n",
      "  io.imsave(f'data/preprocessed/masks/{j}/{i:04d}.png', mask)\n"
     ]
    },
    {
     "name": "stdout",
     "output_type": "stream",
     "text": [
      "118/193\n",
      "Template white balancing\n"
     ]
    },
    {
     "name": "stderr",
     "output_type": "stream",
     "text": [
      "C:\\Users\\Billy\\AppData\\Local\\Temp\\ipykernel_23596\\2270396033.py:53: UserWarning: data/preprocessed/masks/0/0118.png is a low contrast image\n",
      "  io.imsave(f'data/preprocessed/masks/{j}/{i:04d}.png', mask)\n",
      "C:\\Users\\Billy\\AppData\\Local\\Temp\\ipykernel_23596\\2270396033.py:53: UserWarning: data/preprocessed/masks/1/0118.png is a low contrast image\n",
      "  io.imsave(f'data/preprocessed/masks/{j}/{i:04d}.png', mask)\n",
      "C:\\Users\\Billy\\AppData\\Local\\Temp\\ipykernel_23596\\2270396033.py:53: UserWarning: data/preprocessed/masks/2/0118.png is a low contrast image\n",
      "  io.imsave(f'data/preprocessed/masks/{j}/{i:04d}.png', mask)\n",
      "C:\\Users\\Billy\\AppData\\Local\\Temp\\ipykernel_23596\\2270396033.py:53: UserWarning: data/preprocessed/masks/3/0118.png is a low contrast image\n",
      "  io.imsave(f'data/preprocessed/masks/{j}/{i:04d}.png', mask)\n"
     ]
    },
    {
     "name": "stdout",
     "output_type": "stream",
     "text": [
      "119/193\n",
      "Template white balancing\n"
     ]
    },
    {
     "name": "stderr",
     "output_type": "stream",
     "text": [
      "C:\\Users\\Billy\\AppData\\Local\\Temp\\ipykernel_23596\\2270396033.py:53: UserWarning: data/preprocessed/masks/0/0119.png is a low contrast image\n",
      "  io.imsave(f'data/preprocessed/masks/{j}/{i:04d}.png', mask)\n",
      "C:\\Users\\Billy\\AppData\\Local\\Temp\\ipykernel_23596\\2270396033.py:53: UserWarning: data/preprocessed/masks/1/0119.png is a low contrast image\n",
      "  io.imsave(f'data/preprocessed/masks/{j}/{i:04d}.png', mask)\n",
      "C:\\Users\\Billy\\AppData\\Local\\Temp\\ipykernel_23596\\2270396033.py:53: UserWarning: data/preprocessed/masks/2/0119.png is a low contrast image\n",
      "  io.imsave(f'data/preprocessed/masks/{j}/{i:04d}.png', mask)\n",
      "C:\\Users\\Billy\\AppData\\Local\\Temp\\ipykernel_23596\\2270396033.py:53: UserWarning: data/preprocessed/masks/3/0119.png is a low contrast image\n",
      "  io.imsave(f'data/preprocessed/masks/{j}/{i:04d}.png', mask)\n"
     ]
    },
    {
     "name": "stdout",
     "output_type": "stream",
     "text": [
      "120/193\n",
      "Template white balancing\n"
     ]
    },
    {
     "name": "stderr",
     "output_type": "stream",
     "text": [
      "C:\\Users\\Billy\\AppData\\Local\\Temp\\ipykernel_23596\\2270396033.py:53: UserWarning: data/preprocessed/masks/0/0120.png is a low contrast image\n",
      "  io.imsave(f'data/preprocessed/masks/{j}/{i:04d}.png', mask)\n",
      "C:\\Users\\Billy\\AppData\\Local\\Temp\\ipykernel_23596\\2270396033.py:53: UserWarning: data/preprocessed/masks/1/0120.png is a low contrast image\n",
      "  io.imsave(f'data/preprocessed/masks/{j}/{i:04d}.png', mask)\n",
      "C:\\Users\\Billy\\AppData\\Local\\Temp\\ipykernel_23596\\2270396033.py:53: UserWarning: data/preprocessed/masks/2/0120.png is a low contrast image\n",
      "  io.imsave(f'data/preprocessed/masks/{j}/{i:04d}.png', mask)\n",
      "C:\\Users\\Billy\\AppData\\Local\\Temp\\ipykernel_23596\\2270396033.py:53: UserWarning: data/preprocessed/masks/3/0120.png is a low contrast image\n",
      "  io.imsave(f'data/preprocessed/masks/{j}/{i:04d}.png', mask)\n"
     ]
    },
    {
     "name": "stdout",
     "output_type": "stream",
     "text": [
      "121/193\n",
      "Template white balancing\n"
     ]
    },
    {
     "name": "stderr",
     "output_type": "stream",
     "text": [
      "C:\\Users\\Billy\\AppData\\Local\\Temp\\ipykernel_23596\\2270396033.py:53: UserWarning: data/preprocessed/masks/0/0121.png is a low contrast image\n",
      "  io.imsave(f'data/preprocessed/masks/{j}/{i:04d}.png', mask)\n",
      "C:\\Users\\Billy\\AppData\\Local\\Temp\\ipykernel_23596\\2270396033.py:53: UserWarning: data/preprocessed/masks/1/0121.png is a low contrast image\n",
      "  io.imsave(f'data/preprocessed/masks/{j}/{i:04d}.png', mask)\n",
      "C:\\Users\\Billy\\AppData\\Local\\Temp\\ipykernel_23596\\2270396033.py:53: UserWarning: data/preprocessed/masks/2/0121.png is a low contrast image\n",
      "  io.imsave(f'data/preprocessed/masks/{j}/{i:04d}.png', mask)\n",
      "C:\\Users\\Billy\\AppData\\Local\\Temp\\ipykernel_23596\\2270396033.py:53: UserWarning: data/preprocessed/masks/3/0121.png is a low contrast image\n",
      "  io.imsave(f'data/preprocessed/masks/{j}/{i:04d}.png', mask)\n"
     ]
    },
    {
     "name": "stdout",
     "output_type": "stream",
     "text": [
      "122/193\n",
      "Template white balancing\n"
     ]
    },
    {
     "name": "stderr",
     "output_type": "stream",
     "text": [
      "C:\\Users\\Billy\\AppData\\Local\\Temp\\ipykernel_23596\\2270396033.py:53: UserWarning: data/preprocessed/masks/0/0122.png is a low contrast image\n",
      "  io.imsave(f'data/preprocessed/masks/{j}/{i:04d}.png', mask)\n",
      "C:\\Users\\Billy\\AppData\\Local\\Temp\\ipykernel_23596\\2270396033.py:53: UserWarning: data/preprocessed/masks/1/0122.png is a low contrast image\n",
      "  io.imsave(f'data/preprocessed/masks/{j}/{i:04d}.png', mask)\n",
      "C:\\Users\\Billy\\AppData\\Local\\Temp\\ipykernel_23596\\2270396033.py:53: UserWarning: data/preprocessed/masks/2/0122.png is a low contrast image\n",
      "  io.imsave(f'data/preprocessed/masks/{j}/{i:04d}.png', mask)\n",
      "C:\\Users\\Billy\\AppData\\Local\\Temp\\ipykernel_23596\\2270396033.py:53: UserWarning: data/preprocessed/masks/3/0122.png is a low contrast image\n",
      "  io.imsave(f'data/preprocessed/masks/{j}/{i:04d}.png', mask)\n"
     ]
    },
    {
     "name": "stdout",
     "output_type": "stream",
     "text": [
      "123/193\n",
      "Template white balancing\n"
     ]
    },
    {
     "name": "stderr",
     "output_type": "stream",
     "text": [
      "C:\\Users\\Billy\\AppData\\Local\\Temp\\ipykernel_23596\\2270396033.py:53: UserWarning: data/preprocessed/masks/0/0123.png is a low contrast image\n",
      "  io.imsave(f'data/preprocessed/masks/{j}/{i:04d}.png', mask)\n",
      "C:\\Users\\Billy\\AppData\\Local\\Temp\\ipykernel_23596\\2270396033.py:53: UserWarning: data/preprocessed/masks/1/0123.png is a low contrast image\n",
      "  io.imsave(f'data/preprocessed/masks/{j}/{i:04d}.png', mask)\n",
      "C:\\Users\\Billy\\AppData\\Local\\Temp\\ipykernel_23596\\2270396033.py:53: UserWarning: data/preprocessed/masks/2/0123.png is a low contrast image\n",
      "  io.imsave(f'data/preprocessed/masks/{j}/{i:04d}.png', mask)\n",
      "C:\\Users\\Billy\\AppData\\Local\\Temp\\ipykernel_23596\\2270396033.py:53: UserWarning: data/preprocessed/masks/3/0123.png is a low contrast image\n",
      "  io.imsave(f'data/preprocessed/masks/{j}/{i:04d}.png', mask)\n"
     ]
    },
    {
     "name": "stdout",
     "output_type": "stream",
     "text": [
      "124/193\n",
      "Template white balancing\n"
     ]
    },
    {
     "name": "stderr",
     "output_type": "stream",
     "text": [
      "C:\\Users\\Billy\\AppData\\Local\\Temp\\ipykernel_23596\\2270396033.py:53: UserWarning: data/preprocessed/masks/0/0124.png is a low contrast image\n",
      "  io.imsave(f'data/preprocessed/masks/{j}/{i:04d}.png', mask)\n",
      "C:\\Users\\Billy\\AppData\\Local\\Temp\\ipykernel_23596\\2270396033.py:53: UserWarning: data/preprocessed/masks/1/0124.png is a low contrast image\n",
      "  io.imsave(f'data/preprocessed/masks/{j}/{i:04d}.png', mask)\n",
      "C:\\Users\\Billy\\AppData\\Local\\Temp\\ipykernel_23596\\2270396033.py:53: UserWarning: data/preprocessed/masks/2/0124.png is a low contrast image\n",
      "  io.imsave(f'data/preprocessed/masks/{j}/{i:04d}.png', mask)\n",
      "C:\\Users\\Billy\\AppData\\Local\\Temp\\ipykernel_23596\\2270396033.py:53: UserWarning: data/preprocessed/masks/3/0124.png is a low contrast image\n",
      "  io.imsave(f'data/preprocessed/masks/{j}/{i:04d}.png', mask)\n"
     ]
    },
    {
     "name": "stdout",
     "output_type": "stream",
     "text": [
      "125/193\n",
      "Template white balancing\n"
     ]
    },
    {
     "name": "stderr",
     "output_type": "stream",
     "text": [
      "C:\\Users\\Billy\\AppData\\Local\\Temp\\ipykernel_23596\\2270396033.py:53: UserWarning: data/preprocessed/masks/0/0125.png is a low contrast image\n",
      "  io.imsave(f'data/preprocessed/masks/{j}/{i:04d}.png', mask)\n",
      "C:\\Users\\Billy\\AppData\\Local\\Temp\\ipykernel_23596\\2270396033.py:53: UserWarning: data/preprocessed/masks/1/0125.png is a low contrast image\n",
      "  io.imsave(f'data/preprocessed/masks/{j}/{i:04d}.png', mask)\n",
      "C:\\Users\\Billy\\AppData\\Local\\Temp\\ipykernel_23596\\2270396033.py:53: UserWarning: data/preprocessed/masks/2/0125.png is a low contrast image\n",
      "  io.imsave(f'data/preprocessed/masks/{j}/{i:04d}.png', mask)\n",
      "C:\\Users\\Billy\\AppData\\Local\\Temp\\ipykernel_23596\\2270396033.py:53: UserWarning: data/preprocessed/masks/3/0125.png is a low contrast image\n",
      "  io.imsave(f'data/preprocessed/masks/{j}/{i:04d}.png', mask)\n"
     ]
    },
    {
     "name": "stdout",
     "output_type": "stream",
     "text": [
      "126/193\n",
      "Template white balancing\n"
     ]
    },
    {
     "name": "stderr",
     "output_type": "stream",
     "text": [
      "C:\\Users\\Billy\\AppData\\Local\\Temp\\ipykernel_23596\\2270396033.py:53: UserWarning: data/preprocessed/masks/0/0126.png is a low contrast image\n",
      "  io.imsave(f'data/preprocessed/masks/{j}/{i:04d}.png', mask)\n",
      "C:\\Users\\Billy\\AppData\\Local\\Temp\\ipykernel_23596\\2270396033.py:53: UserWarning: data/preprocessed/masks/1/0126.png is a low contrast image\n",
      "  io.imsave(f'data/preprocessed/masks/{j}/{i:04d}.png', mask)\n",
      "C:\\Users\\Billy\\AppData\\Local\\Temp\\ipykernel_23596\\2270396033.py:53: UserWarning: data/preprocessed/masks/2/0126.png is a low contrast image\n",
      "  io.imsave(f'data/preprocessed/masks/{j}/{i:04d}.png', mask)\n",
      "C:\\Users\\Billy\\AppData\\Local\\Temp\\ipykernel_23596\\2270396033.py:53: UserWarning: data/preprocessed/masks/3/0126.png is a low contrast image\n",
      "  io.imsave(f'data/preprocessed/masks/{j}/{i:04d}.png', mask)\n"
     ]
    },
    {
     "name": "stdout",
     "output_type": "stream",
     "text": [
      "127/193\n",
      "Template white balancing\n"
     ]
    },
    {
     "name": "stderr",
     "output_type": "stream",
     "text": [
      "C:\\Users\\Billy\\AppData\\Local\\Temp\\ipykernel_23596\\2270396033.py:53: UserWarning: data/preprocessed/masks/0/0127.png is a low contrast image\n",
      "  io.imsave(f'data/preprocessed/masks/{j}/{i:04d}.png', mask)\n",
      "C:\\Users\\Billy\\AppData\\Local\\Temp\\ipykernel_23596\\2270396033.py:53: UserWarning: data/preprocessed/masks/1/0127.png is a low contrast image\n",
      "  io.imsave(f'data/preprocessed/masks/{j}/{i:04d}.png', mask)\n",
      "C:\\Users\\Billy\\AppData\\Local\\Temp\\ipykernel_23596\\2270396033.py:53: UserWarning: data/preprocessed/masks/2/0127.png is a low contrast image\n",
      "  io.imsave(f'data/preprocessed/masks/{j}/{i:04d}.png', mask)\n",
      "C:\\Users\\Billy\\AppData\\Local\\Temp\\ipykernel_23596\\2270396033.py:53: UserWarning: data/preprocessed/masks/3/0127.png is a low contrast image\n",
      "  io.imsave(f'data/preprocessed/masks/{j}/{i:04d}.png', mask)\n"
     ]
    },
    {
     "name": "stdout",
     "output_type": "stream",
     "text": [
      "128/193\n",
      "Template white balancing\n"
     ]
    },
    {
     "name": "stderr",
     "output_type": "stream",
     "text": [
      "C:\\Users\\Billy\\AppData\\Local\\Temp\\ipykernel_23596\\2270396033.py:53: UserWarning: data/preprocessed/masks/0/0128.png is a low contrast image\n",
      "  io.imsave(f'data/preprocessed/masks/{j}/{i:04d}.png', mask)\n",
      "C:\\Users\\Billy\\AppData\\Local\\Temp\\ipykernel_23596\\2270396033.py:53: UserWarning: data/preprocessed/masks/1/0128.png is a low contrast image\n",
      "  io.imsave(f'data/preprocessed/masks/{j}/{i:04d}.png', mask)\n",
      "C:\\Users\\Billy\\AppData\\Local\\Temp\\ipykernel_23596\\2270396033.py:53: UserWarning: data/preprocessed/masks/2/0128.png is a low contrast image\n",
      "  io.imsave(f'data/preprocessed/masks/{j}/{i:04d}.png', mask)\n",
      "C:\\Users\\Billy\\AppData\\Local\\Temp\\ipykernel_23596\\2270396033.py:53: UserWarning: data/preprocessed/masks/3/0128.png is a low contrast image\n",
      "  io.imsave(f'data/preprocessed/masks/{j}/{i:04d}.png', mask)\n"
     ]
    },
    {
     "name": "stdout",
     "output_type": "stream",
     "text": [
      "129/193\n",
      "Template white balancing\n"
     ]
    },
    {
     "name": "stderr",
     "output_type": "stream",
     "text": [
      "C:\\Users\\Billy\\AppData\\Local\\Temp\\ipykernel_23596\\2270396033.py:53: UserWarning: data/preprocessed/masks/0/0129.png is a low contrast image\n",
      "  io.imsave(f'data/preprocessed/masks/{j}/{i:04d}.png', mask)\n",
      "C:\\Users\\Billy\\AppData\\Local\\Temp\\ipykernel_23596\\2270396033.py:53: UserWarning: data/preprocessed/masks/1/0129.png is a low contrast image\n",
      "  io.imsave(f'data/preprocessed/masks/{j}/{i:04d}.png', mask)\n",
      "C:\\Users\\Billy\\AppData\\Local\\Temp\\ipykernel_23596\\2270396033.py:53: UserWarning: data/preprocessed/masks/2/0129.png is a low contrast image\n",
      "  io.imsave(f'data/preprocessed/masks/{j}/{i:04d}.png', mask)\n",
      "C:\\Users\\Billy\\AppData\\Local\\Temp\\ipykernel_23596\\2270396033.py:53: UserWarning: data/preprocessed/masks/3/0129.png is a low contrast image\n",
      "  io.imsave(f'data/preprocessed/masks/{j}/{i:04d}.png', mask)\n"
     ]
    },
    {
     "name": "stdout",
     "output_type": "stream",
     "text": [
      "130/193\n",
      "Template white balancing\n"
     ]
    },
    {
     "name": "stderr",
     "output_type": "stream",
     "text": [
      "C:\\Users\\Billy\\AppData\\Local\\Temp\\ipykernel_23596\\2270396033.py:53: UserWarning: data/preprocessed/masks/0/0130.png is a low contrast image\n",
      "  io.imsave(f'data/preprocessed/masks/{j}/{i:04d}.png', mask)\n",
      "C:\\Users\\Billy\\AppData\\Local\\Temp\\ipykernel_23596\\2270396033.py:53: UserWarning: data/preprocessed/masks/1/0130.png is a low contrast image\n",
      "  io.imsave(f'data/preprocessed/masks/{j}/{i:04d}.png', mask)\n",
      "C:\\Users\\Billy\\AppData\\Local\\Temp\\ipykernel_23596\\2270396033.py:53: UserWarning: data/preprocessed/masks/2/0130.png is a low contrast image\n",
      "  io.imsave(f'data/preprocessed/masks/{j}/{i:04d}.png', mask)\n",
      "C:\\Users\\Billy\\AppData\\Local\\Temp\\ipykernel_23596\\2270396033.py:53: UserWarning: data/preprocessed/masks/3/0130.png is a low contrast image\n",
      "  io.imsave(f'data/preprocessed/masks/{j}/{i:04d}.png', mask)\n"
     ]
    },
    {
     "name": "stdout",
     "output_type": "stream",
     "text": [
      "131/193\n",
      "Template white balancing\n"
     ]
    },
    {
     "name": "stderr",
     "output_type": "stream",
     "text": [
      "C:\\Users\\Billy\\AppData\\Local\\Temp\\ipykernel_23596\\2270396033.py:53: UserWarning: data/preprocessed/masks/0/0131.png is a low contrast image\n",
      "  io.imsave(f'data/preprocessed/masks/{j}/{i:04d}.png', mask)\n",
      "C:\\Users\\Billy\\AppData\\Local\\Temp\\ipykernel_23596\\2270396033.py:53: UserWarning: data/preprocessed/masks/1/0131.png is a low contrast image\n",
      "  io.imsave(f'data/preprocessed/masks/{j}/{i:04d}.png', mask)\n",
      "C:\\Users\\Billy\\AppData\\Local\\Temp\\ipykernel_23596\\2270396033.py:53: UserWarning: data/preprocessed/masks/2/0131.png is a low contrast image\n",
      "  io.imsave(f'data/preprocessed/masks/{j}/{i:04d}.png', mask)\n",
      "C:\\Users\\Billy\\AppData\\Local\\Temp\\ipykernel_23596\\2270396033.py:53: UserWarning: data/preprocessed/masks/3/0131.png is a low contrast image\n",
      "  io.imsave(f'data/preprocessed/masks/{j}/{i:04d}.png', mask)\n"
     ]
    },
    {
     "name": "stdout",
     "output_type": "stream",
     "text": [
      "132/193\n",
      "Template white balancing\n"
     ]
    },
    {
     "name": "stderr",
     "output_type": "stream",
     "text": [
      "C:\\Users\\Billy\\AppData\\Local\\Temp\\ipykernel_23596\\2270396033.py:53: UserWarning: data/preprocessed/masks/0/0132.png is a low contrast image\n",
      "  io.imsave(f'data/preprocessed/masks/{j}/{i:04d}.png', mask)\n",
      "C:\\Users\\Billy\\AppData\\Local\\Temp\\ipykernel_23596\\2270396033.py:53: UserWarning: data/preprocessed/masks/1/0132.png is a low contrast image\n",
      "  io.imsave(f'data/preprocessed/masks/{j}/{i:04d}.png', mask)\n",
      "C:\\Users\\Billy\\AppData\\Local\\Temp\\ipykernel_23596\\2270396033.py:53: UserWarning: data/preprocessed/masks/2/0132.png is a low contrast image\n",
      "  io.imsave(f'data/preprocessed/masks/{j}/{i:04d}.png', mask)\n",
      "C:\\Users\\Billy\\AppData\\Local\\Temp\\ipykernel_23596\\2270396033.py:53: UserWarning: data/preprocessed/masks/3/0132.png is a low contrast image\n",
      "  io.imsave(f'data/preprocessed/masks/{j}/{i:04d}.png', mask)\n"
     ]
    },
    {
     "name": "stdout",
     "output_type": "stream",
     "text": [
      "133/193\n",
      "Template white balancing\n"
     ]
    },
    {
     "name": "stderr",
     "output_type": "stream",
     "text": [
      "C:\\Users\\Billy\\AppData\\Local\\Temp\\ipykernel_23596\\2270396033.py:53: UserWarning: data/preprocessed/masks/0/0133.png is a low contrast image\n",
      "  io.imsave(f'data/preprocessed/masks/{j}/{i:04d}.png', mask)\n",
      "C:\\Users\\Billy\\AppData\\Local\\Temp\\ipykernel_23596\\2270396033.py:53: UserWarning: data/preprocessed/masks/1/0133.png is a low contrast image\n",
      "  io.imsave(f'data/preprocessed/masks/{j}/{i:04d}.png', mask)\n",
      "C:\\Users\\Billy\\AppData\\Local\\Temp\\ipykernel_23596\\2270396033.py:53: UserWarning: data/preprocessed/masks/2/0133.png is a low contrast image\n",
      "  io.imsave(f'data/preprocessed/masks/{j}/{i:04d}.png', mask)\n",
      "C:\\Users\\Billy\\AppData\\Local\\Temp\\ipykernel_23596\\2270396033.py:53: UserWarning: data/preprocessed/masks/3/0133.png is a low contrast image\n",
      "  io.imsave(f'data/preprocessed/masks/{j}/{i:04d}.png', mask)\n"
     ]
    },
    {
     "name": "stdout",
     "output_type": "stream",
     "text": [
      "134/193\n",
      "Template white balancing\n"
     ]
    },
    {
     "name": "stderr",
     "output_type": "stream",
     "text": [
      "C:\\Users\\Billy\\AppData\\Local\\Temp\\ipykernel_23596\\2270396033.py:53: UserWarning: data/preprocessed/masks/0/0134.png is a low contrast image\n",
      "  io.imsave(f'data/preprocessed/masks/{j}/{i:04d}.png', mask)\n",
      "C:\\Users\\Billy\\AppData\\Local\\Temp\\ipykernel_23596\\2270396033.py:53: UserWarning: data/preprocessed/masks/1/0134.png is a low contrast image\n",
      "  io.imsave(f'data/preprocessed/masks/{j}/{i:04d}.png', mask)\n",
      "C:\\Users\\Billy\\AppData\\Local\\Temp\\ipykernel_23596\\2270396033.py:53: UserWarning: data/preprocessed/masks/2/0134.png is a low contrast image\n",
      "  io.imsave(f'data/preprocessed/masks/{j}/{i:04d}.png', mask)\n",
      "C:\\Users\\Billy\\AppData\\Local\\Temp\\ipykernel_23596\\2270396033.py:53: UserWarning: data/preprocessed/masks/3/0134.png is a low contrast image\n",
      "  io.imsave(f'data/preprocessed/masks/{j}/{i:04d}.png', mask)\n"
     ]
    },
    {
     "name": "stdout",
     "output_type": "stream",
     "text": [
      "135/193\n",
      "Template white balancing\n"
     ]
    },
    {
     "name": "stderr",
     "output_type": "stream",
     "text": [
      "C:\\Users\\Billy\\AppData\\Local\\Temp\\ipykernel_23596\\2270396033.py:53: UserWarning: data/preprocessed/masks/0/0135.png is a low contrast image\n",
      "  io.imsave(f'data/preprocessed/masks/{j}/{i:04d}.png', mask)\n",
      "C:\\Users\\Billy\\AppData\\Local\\Temp\\ipykernel_23596\\2270396033.py:53: UserWarning: data/preprocessed/masks/1/0135.png is a low contrast image\n",
      "  io.imsave(f'data/preprocessed/masks/{j}/{i:04d}.png', mask)\n",
      "C:\\Users\\Billy\\AppData\\Local\\Temp\\ipykernel_23596\\2270396033.py:53: UserWarning: data/preprocessed/masks/2/0135.png is a low contrast image\n",
      "  io.imsave(f'data/preprocessed/masks/{j}/{i:04d}.png', mask)\n",
      "C:\\Users\\Billy\\AppData\\Local\\Temp\\ipykernel_23596\\2270396033.py:53: UserWarning: data/preprocessed/masks/3/0135.png is a low contrast image\n",
      "  io.imsave(f'data/preprocessed/masks/{j}/{i:04d}.png', mask)\n"
     ]
    },
    {
     "name": "stdout",
     "output_type": "stream",
     "text": [
      "136/193\n",
      "Template white balancing\n"
     ]
    },
    {
     "name": "stderr",
     "output_type": "stream",
     "text": [
      "C:\\Users\\Billy\\AppData\\Local\\Temp\\ipykernel_23596\\2270396033.py:53: UserWarning: data/preprocessed/masks/0/0136.png is a low contrast image\n",
      "  io.imsave(f'data/preprocessed/masks/{j}/{i:04d}.png', mask)\n",
      "C:\\Users\\Billy\\AppData\\Local\\Temp\\ipykernel_23596\\2270396033.py:53: UserWarning: data/preprocessed/masks/1/0136.png is a low contrast image\n",
      "  io.imsave(f'data/preprocessed/masks/{j}/{i:04d}.png', mask)\n",
      "C:\\Users\\Billy\\AppData\\Local\\Temp\\ipykernel_23596\\2270396033.py:53: UserWarning: data/preprocessed/masks/2/0136.png is a low contrast image\n",
      "  io.imsave(f'data/preprocessed/masks/{j}/{i:04d}.png', mask)\n",
      "C:\\Users\\Billy\\AppData\\Local\\Temp\\ipykernel_23596\\2270396033.py:53: UserWarning: data/preprocessed/masks/3/0136.png is a low contrast image\n",
      "  io.imsave(f'data/preprocessed/masks/{j}/{i:04d}.png', mask)\n"
     ]
    },
    {
     "name": "stdout",
     "output_type": "stream",
     "text": [
      "137/193\n",
      "Template white balancing\n"
     ]
    },
    {
     "name": "stderr",
     "output_type": "stream",
     "text": [
      "C:\\Users\\Billy\\AppData\\Local\\Temp\\ipykernel_23596\\2270396033.py:53: UserWarning: data/preprocessed/masks/0/0137.png is a low contrast image\n",
      "  io.imsave(f'data/preprocessed/masks/{j}/{i:04d}.png', mask)\n",
      "C:\\Users\\Billy\\AppData\\Local\\Temp\\ipykernel_23596\\2270396033.py:53: UserWarning: data/preprocessed/masks/1/0137.png is a low contrast image\n",
      "  io.imsave(f'data/preprocessed/masks/{j}/{i:04d}.png', mask)\n",
      "C:\\Users\\Billy\\AppData\\Local\\Temp\\ipykernel_23596\\2270396033.py:53: UserWarning: data/preprocessed/masks/2/0137.png is a low contrast image\n",
      "  io.imsave(f'data/preprocessed/masks/{j}/{i:04d}.png', mask)\n",
      "C:\\Users\\Billy\\AppData\\Local\\Temp\\ipykernel_23596\\2270396033.py:53: UserWarning: data/preprocessed/masks/3/0137.png is a low contrast image\n",
      "  io.imsave(f'data/preprocessed/masks/{j}/{i:04d}.png', mask)\n"
     ]
    },
    {
     "name": "stdout",
     "output_type": "stream",
     "text": [
      "138/193\n",
      "Template white balancing\n"
     ]
    },
    {
     "name": "stderr",
     "output_type": "stream",
     "text": [
      "C:\\Users\\Billy\\AppData\\Local\\Temp\\ipykernel_23596\\2270396033.py:53: UserWarning: data/preprocessed/masks/0/0138.png is a low contrast image\n",
      "  io.imsave(f'data/preprocessed/masks/{j}/{i:04d}.png', mask)\n",
      "C:\\Users\\Billy\\AppData\\Local\\Temp\\ipykernel_23596\\2270396033.py:53: UserWarning: data/preprocessed/masks/1/0138.png is a low contrast image\n",
      "  io.imsave(f'data/preprocessed/masks/{j}/{i:04d}.png', mask)\n",
      "C:\\Users\\Billy\\AppData\\Local\\Temp\\ipykernel_23596\\2270396033.py:53: UserWarning: data/preprocessed/masks/2/0138.png is a low contrast image\n",
      "  io.imsave(f'data/preprocessed/masks/{j}/{i:04d}.png', mask)\n",
      "C:\\Users\\Billy\\AppData\\Local\\Temp\\ipykernel_23596\\2270396033.py:53: UserWarning: data/preprocessed/masks/3/0138.png is a low contrast image\n",
      "  io.imsave(f'data/preprocessed/masks/{j}/{i:04d}.png', mask)\n"
     ]
    },
    {
     "name": "stdout",
     "output_type": "stream",
     "text": [
      "139/193\n",
      "Template white balancing\n"
     ]
    },
    {
     "name": "stderr",
     "output_type": "stream",
     "text": [
      "C:\\Users\\Billy\\AppData\\Local\\Temp\\ipykernel_23596\\2270396033.py:53: UserWarning: data/preprocessed/masks/0/0139.png is a low contrast image\n",
      "  io.imsave(f'data/preprocessed/masks/{j}/{i:04d}.png', mask)\n",
      "C:\\Users\\Billy\\AppData\\Local\\Temp\\ipykernel_23596\\2270396033.py:53: UserWarning: data/preprocessed/masks/1/0139.png is a low contrast image\n",
      "  io.imsave(f'data/preprocessed/masks/{j}/{i:04d}.png', mask)\n",
      "C:\\Users\\Billy\\AppData\\Local\\Temp\\ipykernel_23596\\2270396033.py:53: UserWarning: data/preprocessed/masks/2/0139.png is a low contrast image\n",
      "  io.imsave(f'data/preprocessed/masks/{j}/{i:04d}.png', mask)\n",
      "C:\\Users\\Billy\\AppData\\Local\\Temp\\ipykernel_23596\\2270396033.py:53: UserWarning: data/preprocessed/masks/3/0139.png is a low contrast image\n",
      "  io.imsave(f'data/preprocessed/masks/{j}/{i:04d}.png', mask)\n"
     ]
    },
    {
     "name": "stdout",
     "output_type": "stream",
     "text": [
      "140/193\n",
      "Template white balancing\n"
     ]
    },
    {
     "name": "stderr",
     "output_type": "stream",
     "text": [
      "C:\\Users\\Billy\\AppData\\Local\\Temp\\ipykernel_23596\\2270396033.py:53: UserWarning: data/preprocessed/masks/0/0140.png is a low contrast image\n",
      "  io.imsave(f'data/preprocessed/masks/{j}/{i:04d}.png', mask)\n",
      "C:\\Users\\Billy\\AppData\\Local\\Temp\\ipykernel_23596\\2270396033.py:53: UserWarning: data/preprocessed/masks/1/0140.png is a low contrast image\n",
      "  io.imsave(f'data/preprocessed/masks/{j}/{i:04d}.png', mask)\n",
      "C:\\Users\\Billy\\AppData\\Local\\Temp\\ipykernel_23596\\2270396033.py:53: UserWarning: data/preprocessed/masks/2/0140.png is a low contrast image\n",
      "  io.imsave(f'data/preprocessed/masks/{j}/{i:04d}.png', mask)\n",
      "C:\\Users\\Billy\\AppData\\Local\\Temp\\ipykernel_23596\\2270396033.py:53: UserWarning: data/preprocessed/masks/3/0140.png is a low contrast image\n",
      "  io.imsave(f'data/preprocessed/masks/{j}/{i:04d}.png', mask)\n"
     ]
    },
    {
     "name": "stdout",
     "output_type": "stream",
     "text": [
      "141/193\n",
      "Template white balancing\n"
     ]
    },
    {
     "name": "stderr",
     "output_type": "stream",
     "text": [
      "C:\\Users\\Billy\\AppData\\Local\\Temp\\ipykernel_23596\\2270396033.py:53: UserWarning: data/preprocessed/masks/0/0141.png is a low contrast image\n",
      "  io.imsave(f'data/preprocessed/masks/{j}/{i:04d}.png', mask)\n",
      "C:\\Users\\Billy\\AppData\\Local\\Temp\\ipykernel_23596\\2270396033.py:53: UserWarning: data/preprocessed/masks/1/0141.png is a low contrast image\n",
      "  io.imsave(f'data/preprocessed/masks/{j}/{i:04d}.png', mask)\n",
      "C:\\Users\\Billy\\AppData\\Local\\Temp\\ipykernel_23596\\2270396033.py:53: UserWarning: data/preprocessed/masks/2/0141.png is a low contrast image\n",
      "  io.imsave(f'data/preprocessed/masks/{j}/{i:04d}.png', mask)\n",
      "C:\\Users\\Billy\\AppData\\Local\\Temp\\ipykernel_23596\\2270396033.py:53: UserWarning: data/preprocessed/masks/3/0141.png is a low contrast image\n",
      "  io.imsave(f'data/preprocessed/masks/{j}/{i:04d}.png', mask)\n"
     ]
    },
    {
     "name": "stdout",
     "output_type": "stream",
     "text": [
      "142/193\n",
      "Template white balancing\n"
     ]
    },
    {
     "name": "stderr",
     "output_type": "stream",
     "text": [
      "C:\\Users\\Billy\\AppData\\Local\\Temp\\ipykernel_23596\\2270396033.py:53: UserWarning: data/preprocessed/masks/0/0142.png is a low contrast image\n",
      "  io.imsave(f'data/preprocessed/masks/{j}/{i:04d}.png', mask)\n",
      "C:\\Users\\Billy\\AppData\\Local\\Temp\\ipykernel_23596\\2270396033.py:53: UserWarning: data/preprocessed/masks/1/0142.png is a low contrast image\n",
      "  io.imsave(f'data/preprocessed/masks/{j}/{i:04d}.png', mask)\n",
      "C:\\Users\\Billy\\AppData\\Local\\Temp\\ipykernel_23596\\2270396033.py:53: UserWarning: data/preprocessed/masks/2/0142.png is a low contrast image\n",
      "  io.imsave(f'data/preprocessed/masks/{j}/{i:04d}.png', mask)\n",
      "C:\\Users\\Billy\\AppData\\Local\\Temp\\ipykernel_23596\\2270396033.py:53: UserWarning: data/preprocessed/masks/3/0142.png is a low contrast image\n",
      "  io.imsave(f'data/preprocessed/masks/{j}/{i:04d}.png', mask)\n"
     ]
    },
    {
     "name": "stdout",
     "output_type": "stream",
     "text": [
      "143/193\n",
      "Template white balancing\n"
     ]
    },
    {
     "name": "stderr",
     "output_type": "stream",
     "text": [
      "C:\\Users\\Billy\\AppData\\Local\\Temp\\ipykernel_23596\\2270396033.py:53: UserWarning: data/preprocessed/masks/0/0143.png is a low contrast image\n",
      "  io.imsave(f'data/preprocessed/masks/{j}/{i:04d}.png', mask)\n",
      "C:\\Users\\Billy\\AppData\\Local\\Temp\\ipykernel_23596\\2270396033.py:53: UserWarning: data/preprocessed/masks/1/0143.png is a low contrast image\n",
      "  io.imsave(f'data/preprocessed/masks/{j}/{i:04d}.png', mask)\n",
      "C:\\Users\\Billy\\AppData\\Local\\Temp\\ipykernel_23596\\2270396033.py:53: UserWarning: data/preprocessed/masks/2/0143.png is a low contrast image\n",
      "  io.imsave(f'data/preprocessed/masks/{j}/{i:04d}.png', mask)\n",
      "C:\\Users\\Billy\\AppData\\Local\\Temp\\ipykernel_23596\\2270396033.py:53: UserWarning: data/preprocessed/masks/3/0143.png is a low contrast image\n",
      "  io.imsave(f'data/preprocessed/masks/{j}/{i:04d}.png', mask)\n"
     ]
    },
    {
     "name": "stdout",
     "output_type": "stream",
     "text": [
      "144/193\n",
      "Template white balancing\n"
     ]
    },
    {
     "name": "stderr",
     "output_type": "stream",
     "text": [
      "C:\\Users\\Billy\\AppData\\Local\\Temp\\ipykernel_23596\\2270396033.py:53: UserWarning: data/preprocessed/masks/0/0144.png is a low contrast image\n",
      "  io.imsave(f'data/preprocessed/masks/{j}/{i:04d}.png', mask)\n",
      "C:\\Users\\Billy\\AppData\\Local\\Temp\\ipykernel_23596\\2270396033.py:53: UserWarning: data/preprocessed/masks/1/0144.png is a low contrast image\n",
      "  io.imsave(f'data/preprocessed/masks/{j}/{i:04d}.png', mask)\n",
      "C:\\Users\\Billy\\AppData\\Local\\Temp\\ipykernel_23596\\2270396033.py:53: UserWarning: data/preprocessed/masks/2/0144.png is a low contrast image\n",
      "  io.imsave(f'data/preprocessed/masks/{j}/{i:04d}.png', mask)\n",
      "C:\\Users\\Billy\\AppData\\Local\\Temp\\ipykernel_23596\\2270396033.py:53: UserWarning: data/preprocessed/masks/3/0144.png is a low contrast image\n",
      "  io.imsave(f'data/preprocessed/masks/{j}/{i:04d}.png', mask)\n"
     ]
    },
    {
     "name": "stdout",
     "output_type": "stream",
     "text": [
      "145/193\n",
      "Template white balancing\n"
     ]
    },
    {
     "name": "stderr",
     "output_type": "stream",
     "text": [
      "C:\\Users\\Billy\\AppData\\Local\\Temp\\ipykernel_23596\\2270396033.py:53: UserWarning: data/preprocessed/masks/0/0145.png is a low contrast image\n",
      "  io.imsave(f'data/preprocessed/masks/{j}/{i:04d}.png', mask)\n",
      "C:\\Users\\Billy\\AppData\\Local\\Temp\\ipykernel_23596\\2270396033.py:53: UserWarning: data/preprocessed/masks/1/0145.png is a low contrast image\n",
      "  io.imsave(f'data/preprocessed/masks/{j}/{i:04d}.png', mask)\n",
      "C:\\Users\\Billy\\AppData\\Local\\Temp\\ipykernel_23596\\2270396033.py:53: UserWarning: data/preprocessed/masks/2/0145.png is a low contrast image\n",
      "  io.imsave(f'data/preprocessed/masks/{j}/{i:04d}.png', mask)\n",
      "C:\\Users\\Billy\\AppData\\Local\\Temp\\ipykernel_23596\\2270396033.py:53: UserWarning: data/preprocessed/masks/3/0145.png is a low contrast image\n",
      "  io.imsave(f'data/preprocessed/masks/{j}/{i:04d}.png', mask)\n"
     ]
    },
    {
     "name": "stdout",
     "output_type": "stream",
     "text": [
      "146/193\n",
      "Template white balancing\n"
     ]
    },
    {
     "name": "stderr",
     "output_type": "stream",
     "text": [
      "C:\\Users\\Billy\\AppData\\Local\\Temp\\ipykernel_23596\\2270396033.py:53: UserWarning: data/preprocessed/masks/0/0146.png is a low contrast image\n",
      "  io.imsave(f'data/preprocessed/masks/{j}/{i:04d}.png', mask)\n",
      "C:\\Users\\Billy\\AppData\\Local\\Temp\\ipykernel_23596\\2270396033.py:53: UserWarning: data/preprocessed/masks/1/0146.png is a low contrast image\n",
      "  io.imsave(f'data/preprocessed/masks/{j}/{i:04d}.png', mask)\n",
      "C:\\Users\\Billy\\AppData\\Local\\Temp\\ipykernel_23596\\2270396033.py:53: UserWarning: data/preprocessed/masks/2/0146.png is a low contrast image\n",
      "  io.imsave(f'data/preprocessed/masks/{j}/{i:04d}.png', mask)\n",
      "C:\\Users\\Billy\\AppData\\Local\\Temp\\ipykernel_23596\\2270396033.py:53: UserWarning: data/preprocessed/masks/3/0146.png is a low contrast image\n",
      "  io.imsave(f'data/preprocessed/masks/{j}/{i:04d}.png', mask)\n"
     ]
    },
    {
     "name": "stdout",
     "output_type": "stream",
     "text": [
      "147/193\n",
      "Template white balancing\n"
     ]
    },
    {
     "name": "stderr",
     "output_type": "stream",
     "text": [
      "C:\\Users\\Billy\\AppData\\Local\\Temp\\ipykernel_23596\\2270396033.py:53: UserWarning: data/preprocessed/masks/0/0147.png is a low contrast image\n",
      "  io.imsave(f'data/preprocessed/masks/{j}/{i:04d}.png', mask)\n",
      "C:\\Users\\Billy\\AppData\\Local\\Temp\\ipykernel_23596\\2270396033.py:53: UserWarning: data/preprocessed/masks/1/0147.png is a low contrast image\n",
      "  io.imsave(f'data/preprocessed/masks/{j}/{i:04d}.png', mask)\n",
      "C:\\Users\\Billy\\AppData\\Local\\Temp\\ipykernel_23596\\2270396033.py:53: UserWarning: data/preprocessed/masks/2/0147.png is a low contrast image\n",
      "  io.imsave(f'data/preprocessed/masks/{j}/{i:04d}.png', mask)\n",
      "C:\\Users\\Billy\\AppData\\Local\\Temp\\ipykernel_23596\\2270396033.py:53: UserWarning: data/preprocessed/masks/3/0147.png is a low contrast image\n",
      "  io.imsave(f'data/preprocessed/masks/{j}/{i:04d}.png', mask)\n"
     ]
    },
    {
     "name": "stdout",
     "output_type": "stream",
     "text": [
      "148/193\n",
      "Template white balancing\n"
     ]
    },
    {
     "name": "stderr",
     "output_type": "stream",
     "text": [
      "C:\\Users\\Billy\\AppData\\Local\\Temp\\ipykernel_23596\\2270396033.py:53: UserWarning: data/preprocessed/masks/0/0148.png is a low contrast image\n",
      "  io.imsave(f'data/preprocessed/masks/{j}/{i:04d}.png', mask)\n",
      "C:\\Users\\Billy\\AppData\\Local\\Temp\\ipykernel_23596\\2270396033.py:53: UserWarning: data/preprocessed/masks/1/0148.png is a low contrast image\n",
      "  io.imsave(f'data/preprocessed/masks/{j}/{i:04d}.png', mask)\n",
      "C:\\Users\\Billy\\AppData\\Local\\Temp\\ipykernel_23596\\2270396033.py:53: UserWarning: data/preprocessed/masks/2/0148.png is a low contrast image\n",
      "  io.imsave(f'data/preprocessed/masks/{j}/{i:04d}.png', mask)\n",
      "C:\\Users\\Billy\\AppData\\Local\\Temp\\ipykernel_23596\\2270396033.py:53: UserWarning: data/preprocessed/masks/3/0148.png is a low contrast image\n",
      "  io.imsave(f'data/preprocessed/masks/{j}/{i:04d}.png', mask)\n"
     ]
    },
    {
     "name": "stdout",
     "output_type": "stream",
     "text": [
      "149/193\n",
      "Template white balancing\n"
     ]
    },
    {
     "name": "stderr",
     "output_type": "stream",
     "text": [
      "C:\\Users\\Billy\\AppData\\Local\\Temp\\ipykernel_23596\\2270396033.py:53: UserWarning: data/preprocessed/masks/0/0149.png is a low contrast image\n",
      "  io.imsave(f'data/preprocessed/masks/{j}/{i:04d}.png', mask)\n",
      "C:\\Users\\Billy\\AppData\\Local\\Temp\\ipykernel_23596\\2270396033.py:53: UserWarning: data/preprocessed/masks/1/0149.png is a low contrast image\n",
      "  io.imsave(f'data/preprocessed/masks/{j}/{i:04d}.png', mask)\n",
      "C:\\Users\\Billy\\AppData\\Local\\Temp\\ipykernel_23596\\2270396033.py:53: UserWarning: data/preprocessed/masks/2/0149.png is a low contrast image\n",
      "  io.imsave(f'data/preprocessed/masks/{j}/{i:04d}.png', mask)\n",
      "C:\\Users\\Billy\\AppData\\Local\\Temp\\ipykernel_23596\\2270396033.py:53: UserWarning: data/preprocessed/masks/3/0149.png is a low contrast image\n",
      "  io.imsave(f'data/preprocessed/masks/{j}/{i:04d}.png', mask)\n"
     ]
    },
    {
     "name": "stdout",
     "output_type": "stream",
     "text": [
      "150/193\n",
      "Template white balancing\n"
     ]
    },
    {
     "name": "stderr",
     "output_type": "stream",
     "text": [
      "C:\\Users\\Billy\\AppData\\Local\\Temp\\ipykernel_23596\\2270396033.py:53: UserWarning: data/preprocessed/masks/0/0150.png is a low contrast image\n",
      "  io.imsave(f'data/preprocessed/masks/{j}/{i:04d}.png', mask)\n",
      "C:\\Users\\Billy\\AppData\\Local\\Temp\\ipykernel_23596\\2270396033.py:53: UserWarning: data/preprocessed/masks/1/0150.png is a low contrast image\n",
      "  io.imsave(f'data/preprocessed/masks/{j}/{i:04d}.png', mask)\n",
      "C:\\Users\\Billy\\AppData\\Local\\Temp\\ipykernel_23596\\2270396033.py:53: UserWarning: data/preprocessed/masks/2/0150.png is a low contrast image\n",
      "  io.imsave(f'data/preprocessed/masks/{j}/{i:04d}.png', mask)\n",
      "C:\\Users\\Billy\\AppData\\Local\\Temp\\ipykernel_23596\\2270396033.py:53: UserWarning: data/preprocessed/masks/3/0150.png is a low contrast image\n",
      "  io.imsave(f'data/preprocessed/masks/{j}/{i:04d}.png', mask)\n"
     ]
    },
    {
     "name": "stdout",
     "output_type": "stream",
     "text": [
      "151/193\n",
      "Template white balancing\n"
     ]
    },
    {
     "name": "stderr",
     "output_type": "stream",
     "text": [
      "C:\\Users\\Billy\\AppData\\Local\\Temp\\ipykernel_23596\\2270396033.py:53: UserWarning: data/preprocessed/masks/0/0151.png is a low contrast image\n",
      "  io.imsave(f'data/preprocessed/masks/{j}/{i:04d}.png', mask)\n",
      "C:\\Users\\Billy\\AppData\\Local\\Temp\\ipykernel_23596\\2270396033.py:53: UserWarning: data/preprocessed/masks/1/0151.png is a low contrast image\n",
      "  io.imsave(f'data/preprocessed/masks/{j}/{i:04d}.png', mask)\n",
      "C:\\Users\\Billy\\AppData\\Local\\Temp\\ipykernel_23596\\2270396033.py:53: UserWarning: data/preprocessed/masks/2/0151.png is a low contrast image\n",
      "  io.imsave(f'data/preprocessed/masks/{j}/{i:04d}.png', mask)\n",
      "C:\\Users\\Billy\\AppData\\Local\\Temp\\ipykernel_23596\\2270396033.py:53: UserWarning: data/preprocessed/masks/3/0151.png is a low contrast image\n",
      "  io.imsave(f'data/preprocessed/masks/{j}/{i:04d}.png', mask)\n"
     ]
    },
    {
     "name": "stdout",
     "output_type": "stream",
     "text": [
      "152/193\n",
      "Template white balancing\n"
     ]
    },
    {
     "name": "stderr",
     "output_type": "stream",
     "text": [
      "C:\\Users\\Billy\\AppData\\Local\\Temp\\ipykernel_23596\\2270396033.py:53: UserWarning: data/preprocessed/masks/0/0152.png is a low contrast image\n",
      "  io.imsave(f'data/preprocessed/masks/{j}/{i:04d}.png', mask)\n",
      "C:\\Users\\Billy\\AppData\\Local\\Temp\\ipykernel_23596\\2270396033.py:53: UserWarning: data/preprocessed/masks/1/0152.png is a low contrast image\n",
      "  io.imsave(f'data/preprocessed/masks/{j}/{i:04d}.png', mask)\n",
      "C:\\Users\\Billy\\AppData\\Local\\Temp\\ipykernel_23596\\2270396033.py:53: UserWarning: data/preprocessed/masks/2/0152.png is a low contrast image\n",
      "  io.imsave(f'data/preprocessed/masks/{j}/{i:04d}.png', mask)\n",
      "C:\\Users\\Billy\\AppData\\Local\\Temp\\ipykernel_23596\\2270396033.py:53: UserWarning: data/preprocessed/masks/3/0152.png is a low contrast image\n",
      "  io.imsave(f'data/preprocessed/masks/{j}/{i:04d}.png', mask)\n"
     ]
    },
    {
     "name": "stdout",
     "output_type": "stream",
     "text": [
      "153/193\n",
      "Template white balancing\n"
     ]
    },
    {
     "name": "stderr",
     "output_type": "stream",
     "text": [
      "C:\\Users\\Billy\\AppData\\Local\\Temp\\ipykernel_23596\\2270396033.py:53: UserWarning: data/preprocessed/masks/0/0153.png is a low contrast image\n",
      "  io.imsave(f'data/preprocessed/masks/{j}/{i:04d}.png', mask)\n",
      "C:\\Users\\Billy\\AppData\\Local\\Temp\\ipykernel_23596\\2270396033.py:53: UserWarning: data/preprocessed/masks/1/0153.png is a low contrast image\n",
      "  io.imsave(f'data/preprocessed/masks/{j}/{i:04d}.png', mask)\n",
      "C:\\Users\\Billy\\AppData\\Local\\Temp\\ipykernel_23596\\2270396033.py:53: UserWarning: data/preprocessed/masks/2/0153.png is a low contrast image\n",
      "  io.imsave(f'data/preprocessed/masks/{j}/{i:04d}.png', mask)\n",
      "C:\\Users\\Billy\\AppData\\Local\\Temp\\ipykernel_23596\\2270396033.py:53: UserWarning: data/preprocessed/masks/3/0153.png is a low contrast image\n",
      "  io.imsave(f'data/preprocessed/masks/{j}/{i:04d}.png', mask)\n"
     ]
    },
    {
     "name": "stdout",
     "output_type": "stream",
     "text": [
      "154/193\n",
      "Template white balancing\n"
     ]
    },
    {
     "name": "stderr",
     "output_type": "stream",
     "text": [
      "C:\\Users\\Billy\\AppData\\Local\\Temp\\ipykernel_23596\\2270396033.py:53: UserWarning: data/preprocessed/masks/0/0154.png is a low contrast image\n",
      "  io.imsave(f'data/preprocessed/masks/{j}/{i:04d}.png', mask)\n",
      "C:\\Users\\Billy\\AppData\\Local\\Temp\\ipykernel_23596\\2270396033.py:53: UserWarning: data/preprocessed/masks/1/0154.png is a low contrast image\n",
      "  io.imsave(f'data/preprocessed/masks/{j}/{i:04d}.png', mask)\n",
      "C:\\Users\\Billy\\AppData\\Local\\Temp\\ipykernel_23596\\2270396033.py:53: UserWarning: data/preprocessed/masks/2/0154.png is a low contrast image\n",
      "  io.imsave(f'data/preprocessed/masks/{j}/{i:04d}.png', mask)\n",
      "C:\\Users\\Billy\\AppData\\Local\\Temp\\ipykernel_23596\\2270396033.py:53: UserWarning: data/preprocessed/masks/3/0154.png is a low contrast image\n",
      "  io.imsave(f'data/preprocessed/masks/{j}/{i:04d}.png', mask)\n"
     ]
    },
    {
     "name": "stdout",
     "output_type": "stream",
     "text": [
      "155/193\n",
      "Template white balancing\n"
     ]
    },
    {
     "name": "stderr",
     "output_type": "stream",
     "text": [
      "C:\\Users\\Billy\\AppData\\Local\\Temp\\ipykernel_23596\\2270396033.py:53: UserWarning: data/preprocessed/masks/0/0155.png is a low contrast image\n",
      "  io.imsave(f'data/preprocessed/masks/{j}/{i:04d}.png', mask)\n",
      "C:\\Users\\Billy\\AppData\\Local\\Temp\\ipykernel_23596\\2270396033.py:53: UserWarning: data/preprocessed/masks/1/0155.png is a low contrast image\n",
      "  io.imsave(f'data/preprocessed/masks/{j}/{i:04d}.png', mask)\n",
      "C:\\Users\\Billy\\AppData\\Local\\Temp\\ipykernel_23596\\2270396033.py:53: UserWarning: data/preprocessed/masks/2/0155.png is a low contrast image\n",
      "  io.imsave(f'data/preprocessed/masks/{j}/{i:04d}.png', mask)\n",
      "C:\\Users\\Billy\\AppData\\Local\\Temp\\ipykernel_23596\\2270396033.py:53: UserWarning: data/preprocessed/masks/3/0155.png is a low contrast image\n",
      "  io.imsave(f'data/preprocessed/masks/{j}/{i:04d}.png', mask)\n"
     ]
    },
    {
     "name": "stdout",
     "output_type": "stream",
     "text": [
      "156/193\n",
      "Template white balancing\n"
     ]
    },
    {
     "name": "stderr",
     "output_type": "stream",
     "text": [
      "C:\\Users\\Billy\\AppData\\Local\\Temp\\ipykernel_23596\\2270396033.py:53: UserWarning: data/preprocessed/masks/0/0156.png is a low contrast image\n",
      "  io.imsave(f'data/preprocessed/masks/{j}/{i:04d}.png', mask)\n",
      "C:\\Users\\Billy\\AppData\\Local\\Temp\\ipykernel_23596\\2270396033.py:53: UserWarning: data/preprocessed/masks/1/0156.png is a low contrast image\n",
      "  io.imsave(f'data/preprocessed/masks/{j}/{i:04d}.png', mask)\n",
      "C:\\Users\\Billy\\AppData\\Local\\Temp\\ipykernel_23596\\2270396033.py:53: UserWarning: data/preprocessed/masks/2/0156.png is a low contrast image\n",
      "  io.imsave(f'data/preprocessed/masks/{j}/{i:04d}.png', mask)\n",
      "C:\\Users\\Billy\\AppData\\Local\\Temp\\ipykernel_23596\\2270396033.py:53: UserWarning: data/preprocessed/masks/3/0156.png is a low contrast image\n",
      "  io.imsave(f'data/preprocessed/masks/{j}/{i:04d}.png', mask)\n"
     ]
    },
    {
     "name": "stdout",
     "output_type": "stream",
     "text": [
      "157/193\n",
      "Template white balancing\n"
     ]
    },
    {
     "name": "stderr",
     "output_type": "stream",
     "text": [
      "C:\\Users\\Billy\\AppData\\Local\\Temp\\ipykernel_23596\\2270396033.py:53: UserWarning: data/preprocessed/masks/0/0157.png is a low contrast image\n",
      "  io.imsave(f'data/preprocessed/masks/{j}/{i:04d}.png', mask)\n",
      "C:\\Users\\Billy\\AppData\\Local\\Temp\\ipykernel_23596\\2270396033.py:53: UserWarning: data/preprocessed/masks/1/0157.png is a low contrast image\n",
      "  io.imsave(f'data/preprocessed/masks/{j}/{i:04d}.png', mask)\n",
      "C:\\Users\\Billy\\AppData\\Local\\Temp\\ipykernel_23596\\2270396033.py:53: UserWarning: data/preprocessed/masks/2/0157.png is a low contrast image\n",
      "  io.imsave(f'data/preprocessed/masks/{j}/{i:04d}.png', mask)\n",
      "C:\\Users\\Billy\\AppData\\Local\\Temp\\ipykernel_23596\\2270396033.py:53: UserWarning: data/preprocessed/masks/3/0157.png is a low contrast image\n",
      "  io.imsave(f'data/preprocessed/masks/{j}/{i:04d}.png', mask)\n"
     ]
    },
    {
     "name": "stdout",
     "output_type": "stream",
     "text": [
      "158/193\n",
      "Template white balancing\n"
     ]
    },
    {
     "name": "stderr",
     "output_type": "stream",
     "text": [
      "C:\\Users\\Billy\\AppData\\Local\\Temp\\ipykernel_23596\\2270396033.py:53: UserWarning: data/preprocessed/masks/0/0158.png is a low contrast image\n",
      "  io.imsave(f'data/preprocessed/masks/{j}/{i:04d}.png', mask)\n",
      "C:\\Users\\Billy\\AppData\\Local\\Temp\\ipykernel_23596\\2270396033.py:53: UserWarning: data/preprocessed/masks/1/0158.png is a low contrast image\n",
      "  io.imsave(f'data/preprocessed/masks/{j}/{i:04d}.png', mask)\n",
      "C:\\Users\\Billy\\AppData\\Local\\Temp\\ipykernel_23596\\2270396033.py:53: UserWarning: data/preprocessed/masks/2/0158.png is a low contrast image\n",
      "  io.imsave(f'data/preprocessed/masks/{j}/{i:04d}.png', mask)\n",
      "C:\\Users\\Billy\\AppData\\Local\\Temp\\ipykernel_23596\\2270396033.py:53: UserWarning: data/preprocessed/masks/3/0158.png is a low contrast image\n",
      "  io.imsave(f'data/preprocessed/masks/{j}/{i:04d}.png', mask)\n"
     ]
    },
    {
     "name": "stdout",
     "output_type": "stream",
     "text": [
      "159/193\n",
      "Template white balancing\n"
     ]
    },
    {
     "name": "stderr",
     "output_type": "stream",
     "text": [
      "C:\\Users\\Billy\\AppData\\Local\\Temp\\ipykernel_23596\\2270396033.py:53: UserWarning: data/preprocessed/masks/0/0159.png is a low contrast image\n",
      "  io.imsave(f'data/preprocessed/masks/{j}/{i:04d}.png', mask)\n",
      "C:\\Users\\Billy\\AppData\\Local\\Temp\\ipykernel_23596\\2270396033.py:53: UserWarning: data/preprocessed/masks/1/0159.png is a low contrast image\n",
      "  io.imsave(f'data/preprocessed/masks/{j}/{i:04d}.png', mask)\n",
      "C:\\Users\\Billy\\AppData\\Local\\Temp\\ipykernel_23596\\2270396033.py:53: UserWarning: data/preprocessed/masks/2/0159.png is a low contrast image\n",
      "  io.imsave(f'data/preprocessed/masks/{j}/{i:04d}.png', mask)\n",
      "C:\\Users\\Billy\\AppData\\Local\\Temp\\ipykernel_23596\\2270396033.py:53: UserWarning: data/preprocessed/masks/3/0159.png is a low contrast image\n",
      "  io.imsave(f'data/preprocessed/masks/{j}/{i:04d}.png', mask)\n"
     ]
    },
    {
     "name": "stdout",
     "output_type": "stream",
     "text": [
      "160/193\n",
      "Template white balancing\n"
     ]
    },
    {
     "name": "stderr",
     "output_type": "stream",
     "text": [
      "C:\\Users\\Billy\\AppData\\Local\\Temp\\ipykernel_23596\\2270396033.py:53: UserWarning: data/preprocessed/masks/0/0160.png is a low contrast image\n",
      "  io.imsave(f'data/preprocessed/masks/{j}/{i:04d}.png', mask)\n",
      "C:\\Users\\Billy\\AppData\\Local\\Temp\\ipykernel_23596\\2270396033.py:53: UserWarning: data/preprocessed/masks/1/0160.png is a low contrast image\n",
      "  io.imsave(f'data/preprocessed/masks/{j}/{i:04d}.png', mask)\n",
      "C:\\Users\\Billy\\AppData\\Local\\Temp\\ipykernel_23596\\2270396033.py:53: UserWarning: data/preprocessed/masks/2/0160.png is a low contrast image\n",
      "  io.imsave(f'data/preprocessed/masks/{j}/{i:04d}.png', mask)\n",
      "C:\\Users\\Billy\\AppData\\Local\\Temp\\ipykernel_23596\\2270396033.py:53: UserWarning: data/preprocessed/masks/3/0160.png is a low contrast image\n",
      "  io.imsave(f'data/preprocessed/masks/{j}/{i:04d}.png', mask)\n"
     ]
    },
    {
     "name": "stdout",
     "output_type": "stream",
     "text": [
      "161/193\n",
      "Template white balancing\n"
     ]
    },
    {
     "name": "stderr",
     "output_type": "stream",
     "text": [
      "C:\\Users\\Billy\\AppData\\Local\\Temp\\ipykernel_23596\\2270396033.py:53: UserWarning: data/preprocessed/masks/0/0161.png is a low contrast image\n",
      "  io.imsave(f'data/preprocessed/masks/{j}/{i:04d}.png', mask)\n",
      "C:\\Users\\Billy\\AppData\\Local\\Temp\\ipykernel_23596\\2270396033.py:53: UserWarning: data/preprocessed/masks/1/0161.png is a low contrast image\n",
      "  io.imsave(f'data/preprocessed/masks/{j}/{i:04d}.png', mask)\n",
      "C:\\Users\\Billy\\AppData\\Local\\Temp\\ipykernel_23596\\2270396033.py:53: UserWarning: data/preprocessed/masks/2/0161.png is a low contrast image\n",
      "  io.imsave(f'data/preprocessed/masks/{j}/{i:04d}.png', mask)\n",
      "C:\\Users\\Billy\\AppData\\Local\\Temp\\ipykernel_23596\\2270396033.py:53: UserWarning: data/preprocessed/masks/3/0161.png is a low contrast image\n",
      "  io.imsave(f'data/preprocessed/masks/{j}/{i:04d}.png', mask)\n"
     ]
    },
    {
     "name": "stdout",
     "output_type": "stream",
     "text": [
      "162/193\n",
      "Template white balancing\n"
     ]
    },
    {
     "name": "stderr",
     "output_type": "stream",
     "text": [
      "C:\\Users\\Billy\\AppData\\Local\\Temp\\ipykernel_23596\\2270396033.py:53: UserWarning: data/preprocessed/masks/0/0162.png is a low contrast image\n",
      "  io.imsave(f'data/preprocessed/masks/{j}/{i:04d}.png', mask)\n",
      "C:\\Users\\Billy\\AppData\\Local\\Temp\\ipykernel_23596\\2270396033.py:53: UserWarning: data/preprocessed/masks/1/0162.png is a low contrast image\n",
      "  io.imsave(f'data/preprocessed/masks/{j}/{i:04d}.png', mask)\n",
      "C:\\Users\\Billy\\AppData\\Local\\Temp\\ipykernel_23596\\2270396033.py:53: UserWarning: data/preprocessed/masks/2/0162.png is a low contrast image\n",
      "  io.imsave(f'data/preprocessed/masks/{j}/{i:04d}.png', mask)\n",
      "C:\\Users\\Billy\\AppData\\Local\\Temp\\ipykernel_23596\\2270396033.py:53: UserWarning: data/preprocessed/masks/3/0162.png is a low contrast image\n",
      "  io.imsave(f'data/preprocessed/masks/{j}/{i:04d}.png', mask)\n"
     ]
    },
    {
     "name": "stdout",
     "output_type": "stream",
     "text": [
      "163/193\n",
      "Template white balancing\n"
     ]
    },
    {
     "name": "stderr",
     "output_type": "stream",
     "text": [
      "C:\\Users\\Billy\\AppData\\Local\\Temp\\ipykernel_23596\\2270396033.py:53: UserWarning: data/preprocessed/masks/0/0163.png is a low contrast image\n",
      "  io.imsave(f'data/preprocessed/masks/{j}/{i:04d}.png', mask)\n",
      "C:\\Users\\Billy\\AppData\\Local\\Temp\\ipykernel_23596\\2270396033.py:53: UserWarning: data/preprocessed/masks/1/0163.png is a low contrast image\n",
      "  io.imsave(f'data/preprocessed/masks/{j}/{i:04d}.png', mask)\n",
      "C:\\Users\\Billy\\AppData\\Local\\Temp\\ipykernel_23596\\2270396033.py:53: UserWarning: data/preprocessed/masks/2/0163.png is a low contrast image\n",
      "  io.imsave(f'data/preprocessed/masks/{j}/{i:04d}.png', mask)\n",
      "C:\\Users\\Billy\\AppData\\Local\\Temp\\ipykernel_23596\\2270396033.py:53: UserWarning: data/preprocessed/masks/3/0163.png is a low contrast image\n",
      "  io.imsave(f'data/preprocessed/masks/{j}/{i:04d}.png', mask)\n"
     ]
    },
    {
     "name": "stdout",
     "output_type": "stream",
     "text": [
      "164/193\n",
      "Template white balancing\n"
     ]
    },
    {
     "name": "stderr",
     "output_type": "stream",
     "text": [
      "C:\\Users\\Billy\\AppData\\Local\\Temp\\ipykernel_23596\\2270396033.py:53: UserWarning: data/preprocessed/masks/0/0164.png is a low contrast image\n",
      "  io.imsave(f'data/preprocessed/masks/{j}/{i:04d}.png', mask)\n",
      "C:\\Users\\Billy\\AppData\\Local\\Temp\\ipykernel_23596\\2270396033.py:53: UserWarning: data/preprocessed/masks/1/0164.png is a low contrast image\n",
      "  io.imsave(f'data/preprocessed/masks/{j}/{i:04d}.png', mask)\n",
      "C:\\Users\\Billy\\AppData\\Local\\Temp\\ipykernel_23596\\2270396033.py:53: UserWarning: data/preprocessed/masks/2/0164.png is a low contrast image\n",
      "  io.imsave(f'data/preprocessed/masks/{j}/{i:04d}.png', mask)\n",
      "C:\\Users\\Billy\\AppData\\Local\\Temp\\ipykernel_23596\\2270396033.py:53: UserWarning: data/preprocessed/masks/3/0164.png is a low contrast image\n",
      "  io.imsave(f'data/preprocessed/masks/{j}/{i:04d}.png', mask)\n"
     ]
    },
    {
     "name": "stdout",
     "output_type": "stream",
     "text": [
      "165/193\n",
      "Template white balancing\n"
     ]
    },
    {
     "name": "stderr",
     "output_type": "stream",
     "text": [
      "C:\\Users\\Billy\\AppData\\Local\\Temp\\ipykernel_23596\\2270396033.py:53: UserWarning: data/preprocessed/masks/0/0165.png is a low contrast image\n",
      "  io.imsave(f'data/preprocessed/masks/{j}/{i:04d}.png', mask)\n",
      "C:\\Users\\Billy\\AppData\\Local\\Temp\\ipykernel_23596\\2270396033.py:53: UserWarning: data/preprocessed/masks/1/0165.png is a low contrast image\n",
      "  io.imsave(f'data/preprocessed/masks/{j}/{i:04d}.png', mask)\n",
      "C:\\Users\\Billy\\AppData\\Local\\Temp\\ipykernel_23596\\2270396033.py:53: UserWarning: data/preprocessed/masks/2/0165.png is a low contrast image\n",
      "  io.imsave(f'data/preprocessed/masks/{j}/{i:04d}.png', mask)\n",
      "C:\\Users\\Billy\\AppData\\Local\\Temp\\ipykernel_23596\\2270396033.py:53: UserWarning: data/preprocessed/masks/3/0165.png is a low contrast image\n",
      "  io.imsave(f'data/preprocessed/masks/{j}/{i:04d}.png', mask)\n"
     ]
    },
    {
     "name": "stdout",
     "output_type": "stream",
     "text": [
      "166/193\n",
      "Template white balancing\n"
     ]
    },
    {
     "name": "stderr",
     "output_type": "stream",
     "text": [
      "C:\\Users\\Billy\\AppData\\Local\\Temp\\ipykernel_23596\\2270396033.py:53: UserWarning: data/preprocessed/masks/0/0166.png is a low contrast image\n",
      "  io.imsave(f'data/preprocessed/masks/{j}/{i:04d}.png', mask)\n",
      "C:\\Users\\Billy\\AppData\\Local\\Temp\\ipykernel_23596\\2270396033.py:53: UserWarning: data/preprocessed/masks/1/0166.png is a low contrast image\n",
      "  io.imsave(f'data/preprocessed/masks/{j}/{i:04d}.png', mask)\n",
      "C:\\Users\\Billy\\AppData\\Local\\Temp\\ipykernel_23596\\2270396033.py:53: UserWarning: data/preprocessed/masks/2/0166.png is a low contrast image\n",
      "  io.imsave(f'data/preprocessed/masks/{j}/{i:04d}.png', mask)\n",
      "C:\\Users\\Billy\\AppData\\Local\\Temp\\ipykernel_23596\\2270396033.py:53: UserWarning: data/preprocessed/masks/3/0166.png is a low contrast image\n",
      "  io.imsave(f'data/preprocessed/masks/{j}/{i:04d}.png', mask)\n"
     ]
    },
    {
     "name": "stdout",
     "output_type": "stream",
     "text": [
      "167/193\n",
      "Template white balancing\n"
     ]
    },
    {
     "name": "stderr",
     "output_type": "stream",
     "text": [
      "C:\\Users\\Billy\\AppData\\Local\\Temp\\ipykernel_23596\\2270396033.py:53: UserWarning: data/preprocessed/masks/0/0167.png is a low contrast image\n",
      "  io.imsave(f'data/preprocessed/masks/{j}/{i:04d}.png', mask)\n",
      "C:\\Users\\Billy\\AppData\\Local\\Temp\\ipykernel_23596\\2270396033.py:53: UserWarning: data/preprocessed/masks/1/0167.png is a low contrast image\n",
      "  io.imsave(f'data/preprocessed/masks/{j}/{i:04d}.png', mask)\n",
      "C:\\Users\\Billy\\AppData\\Local\\Temp\\ipykernel_23596\\2270396033.py:53: UserWarning: data/preprocessed/masks/2/0167.png is a low contrast image\n",
      "  io.imsave(f'data/preprocessed/masks/{j}/{i:04d}.png', mask)\n",
      "C:\\Users\\Billy\\AppData\\Local\\Temp\\ipykernel_23596\\2270396033.py:53: UserWarning: data/preprocessed/masks/3/0167.png is a low contrast image\n",
      "  io.imsave(f'data/preprocessed/masks/{j}/{i:04d}.png', mask)\n"
     ]
    },
    {
     "name": "stdout",
     "output_type": "stream",
     "text": [
      "168/193\n",
      "Template white balancing\n"
     ]
    },
    {
     "name": "stderr",
     "output_type": "stream",
     "text": [
      "C:\\Users\\Billy\\AppData\\Local\\Temp\\ipykernel_23596\\2270396033.py:53: UserWarning: data/preprocessed/masks/0/0168.png is a low contrast image\n",
      "  io.imsave(f'data/preprocessed/masks/{j}/{i:04d}.png', mask)\n",
      "C:\\Users\\Billy\\AppData\\Local\\Temp\\ipykernel_23596\\2270396033.py:53: UserWarning: data/preprocessed/masks/1/0168.png is a low contrast image\n",
      "  io.imsave(f'data/preprocessed/masks/{j}/{i:04d}.png', mask)\n",
      "C:\\Users\\Billy\\AppData\\Local\\Temp\\ipykernel_23596\\2270396033.py:53: UserWarning: data/preprocessed/masks/2/0168.png is a low contrast image\n",
      "  io.imsave(f'data/preprocessed/masks/{j}/{i:04d}.png', mask)\n",
      "C:\\Users\\Billy\\AppData\\Local\\Temp\\ipykernel_23596\\2270396033.py:53: UserWarning: data/preprocessed/masks/3/0168.png is a low contrast image\n",
      "  io.imsave(f'data/preprocessed/masks/{j}/{i:04d}.png', mask)\n"
     ]
    },
    {
     "name": "stdout",
     "output_type": "stream",
     "text": [
      "169/193\n",
      "Template white balancing\n"
     ]
    },
    {
     "name": "stderr",
     "output_type": "stream",
     "text": [
      "C:\\Users\\Billy\\AppData\\Local\\Temp\\ipykernel_23596\\2270396033.py:53: UserWarning: data/preprocessed/masks/0/0169.png is a low contrast image\n",
      "  io.imsave(f'data/preprocessed/masks/{j}/{i:04d}.png', mask)\n",
      "C:\\Users\\Billy\\AppData\\Local\\Temp\\ipykernel_23596\\2270396033.py:53: UserWarning: data/preprocessed/masks/1/0169.png is a low contrast image\n",
      "  io.imsave(f'data/preprocessed/masks/{j}/{i:04d}.png', mask)\n",
      "C:\\Users\\Billy\\AppData\\Local\\Temp\\ipykernel_23596\\2270396033.py:53: UserWarning: data/preprocessed/masks/2/0169.png is a low contrast image\n",
      "  io.imsave(f'data/preprocessed/masks/{j}/{i:04d}.png', mask)\n",
      "C:\\Users\\Billy\\AppData\\Local\\Temp\\ipykernel_23596\\2270396033.py:53: UserWarning: data/preprocessed/masks/3/0169.png is a low contrast image\n",
      "  io.imsave(f'data/preprocessed/masks/{j}/{i:04d}.png', mask)\n"
     ]
    },
    {
     "name": "stdout",
     "output_type": "stream",
     "text": [
      "170/193\n",
      "Template white balancing\n"
     ]
    },
    {
     "name": "stderr",
     "output_type": "stream",
     "text": [
      "C:\\Users\\Billy\\AppData\\Local\\Temp\\ipykernel_23596\\2270396033.py:53: UserWarning: data/preprocessed/masks/0/0170.png is a low contrast image\n",
      "  io.imsave(f'data/preprocessed/masks/{j}/{i:04d}.png', mask)\n",
      "C:\\Users\\Billy\\AppData\\Local\\Temp\\ipykernel_23596\\2270396033.py:53: UserWarning: data/preprocessed/masks/1/0170.png is a low contrast image\n",
      "  io.imsave(f'data/preprocessed/masks/{j}/{i:04d}.png', mask)\n",
      "C:\\Users\\Billy\\AppData\\Local\\Temp\\ipykernel_23596\\2270396033.py:53: UserWarning: data/preprocessed/masks/2/0170.png is a low contrast image\n",
      "  io.imsave(f'data/preprocessed/masks/{j}/{i:04d}.png', mask)\n",
      "C:\\Users\\Billy\\AppData\\Local\\Temp\\ipykernel_23596\\2270396033.py:53: UserWarning: data/preprocessed/masks/3/0170.png is a low contrast image\n",
      "  io.imsave(f'data/preprocessed/masks/{j}/{i:04d}.png', mask)\n"
     ]
    },
    {
     "name": "stdout",
     "output_type": "stream",
     "text": [
      "171/193\n",
      "Template white balancing\n"
     ]
    },
    {
     "name": "stderr",
     "output_type": "stream",
     "text": [
      "C:\\Users\\Billy\\AppData\\Local\\Temp\\ipykernel_23596\\2270396033.py:53: UserWarning: data/preprocessed/masks/0/0171.png is a low contrast image\n",
      "  io.imsave(f'data/preprocessed/masks/{j}/{i:04d}.png', mask)\n",
      "C:\\Users\\Billy\\AppData\\Local\\Temp\\ipykernel_23596\\2270396033.py:53: UserWarning: data/preprocessed/masks/1/0171.png is a low contrast image\n",
      "  io.imsave(f'data/preprocessed/masks/{j}/{i:04d}.png', mask)\n",
      "C:\\Users\\Billy\\AppData\\Local\\Temp\\ipykernel_23596\\2270396033.py:53: UserWarning: data/preprocessed/masks/2/0171.png is a low contrast image\n",
      "  io.imsave(f'data/preprocessed/masks/{j}/{i:04d}.png', mask)\n",
      "C:\\Users\\Billy\\AppData\\Local\\Temp\\ipykernel_23596\\2270396033.py:53: UserWarning: data/preprocessed/masks/3/0171.png is a low contrast image\n",
      "  io.imsave(f'data/preprocessed/masks/{j}/{i:04d}.png', mask)\n"
     ]
    },
    {
     "name": "stdout",
     "output_type": "stream",
     "text": [
      "172/193\n",
      "Template white balancing\n"
     ]
    },
    {
     "name": "stderr",
     "output_type": "stream",
     "text": [
      "C:\\Users\\Billy\\AppData\\Local\\Temp\\ipykernel_23596\\2270396033.py:53: UserWarning: data/preprocessed/masks/0/0172.png is a low contrast image\n",
      "  io.imsave(f'data/preprocessed/masks/{j}/{i:04d}.png', mask)\n",
      "C:\\Users\\Billy\\AppData\\Local\\Temp\\ipykernel_23596\\2270396033.py:53: UserWarning: data/preprocessed/masks/1/0172.png is a low contrast image\n",
      "  io.imsave(f'data/preprocessed/masks/{j}/{i:04d}.png', mask)\n",
      "C:\\Users\\Billy\\AppData\\Local\\Temp\\ipykernel_23596\\2270396033.py:53: UserWarning: data/preprocessed/masks/2/0172.png is a low contrast image\n",
      "  io.imsave(f'data/preprocessed/masks/{j}/{i:04d}.png', mask)\n",
      "C:\\Users\\Billy\\AppData\\Local\\Temp\\ipykernel_23596\\2270396033.py:53: UserWarning: data/preprocessed/masks/3/0172.png is a low contrast image\n",
      "  io.imsave(f'data/preprocessed/masks/{j}/{i:04d}.png', mask)\n"
     ]
    },
    {
     "name": "stdout",
     "output_type": "stream",
     "text": [
      "173/193\n",
      "Template white balancing\n"
     ]
    },
    {
     "name": "stderr",
     "output_type": "stream",
     "text": [
      "C:\\Users\\Billy\\AppData\\Local\\Temp\\ipykernel_23596\\2270396033.py:53: UserWarning: data/preprocessed/masks/0/0173.png is a low contrast image\n",
      "  io.imsave(f'data/preprocessed/masks/{j}/{i:04d}.png', mask)\n",
      "C:\\Users\\Billy\\AppData\\Local\\Temp\\ipykernel_23596\\2270396033.py:53: UserWarning: data/preprocessed/masks/1/0173.png is a low contrast image\n",
      "  io.imsave(f'data/preprocessed/masks/{j}/{i:04d}.png', mask)\n",
      "C:\\Users\\Billy\\AppData\\Local\\Temp\\ipykernel_23596\\2270396033.py:53: UserWarning: data/preprocessed/masks/2/0173.png is a low contrast image\n",
      "  io.imsave(f'data/preprocessed/masks/{j}/{i:04d}.png', mask)\n",
      "C:\\Users\\Billy\\AppData\\Local\\Temp\\ipykernel_23596\\2270396033.py:53: UserWarning: data/preprocessed/masks/3/0173.png is a low contrast image\n",
      "  io.imsave(f'data/preprocessed/masks/{j}/{i:04d}.png', mask)\n"
     ]
    },
    {
     "name": "stdout",
     "output_type": "stream",
     "text": [
      "174/193\n",
      "Template white balancing\n"
     ]
    },
    {
     "name": "stderr",
     "output_type": "stream",
     "text": [
      "C:\\Users\\Billy\\AppData\\Local\\Temp\\ipykernel_23596\\2270396033.py:53: UserWarning: data/preprocessed/masks/0/0174.png is a low contrast image\n",
      "  io.imsave(f'data/preprocessed/masks/{j}/{i:04d}.png', mask)\n",
      "C:\\Users\\Billy\\AppData\\Local\\Temp\\ipykernel_23596\\2270396033.py:53: UserWarning: data/preprocessed/masks/1/0174.png is a low contrast image\n",
      "  io.imsave(f'data/preprocessed/masks/{j}/{i:04d}.png', mask)\n",
      "C:\\Users\\Billy\\AppData\\Local\\Temp\\ipykernel_23596\\2270396033.py:53: UserWarning: data/preprocessed/masks/2/0174.png is a low contrast image\n",
      "  io.imsave(f'data/preprocessed/masks/{j}/{i:04d}.png', mask)\n",
      "C:\\Users\\Billy\\AppData\\Local\\Temp\\ipykernel_23596\\2270396033.py:53: UserWarning: data/preprocessed/masks/3/0174.png is a low contrast image\n",
      "  io.imsave(f'data/preprocessed/masks/{j}/{i:04d}.png', mask)\n"
     ]
    },
    {
     "name": "stdout",
     "output_type": "stream",
     "text": [
      "175/193\n",
      "Template white balancing\n"
     ]
    },
    {
     "name": "stderr",
     "output_type": "stream",
     "text": [
      "C:\\Users\\Billy\\AppData\\Local\\Temp\\ipykernel_23596\\2270396033.py:53: UserWarning: data/preprocessed/masks/0/0175.png is a low contrast image\n",
      "  io.imsave(f'data/preprocessed/masks/{j}/{i:04d}.png', mask)\n",
      "C:\\Users\\Billy\\AppData\\Local\\Temp\\ipykernel_23596\\2270396033.py:53: UserWarning: data/preprocessed/masks/1/0175.png is a low contrast image\n",
      "  io.imsave(f'data/preprocessed/masks/{j}/{i:04d}.png', mask)\n",
      "C:\\Users\\Billy\\AppData\\Local\\Temp\\ipykernel_23596\\2270396033.py:53: UserWarning: data/preprocessed/masks/2/0175.png is a low contrast image\n",
      "  io.imsave(f'data/preprocessed/masks/{j}/{i:04d}.png', mask)\n",
      "C:\\Users\\Billy\\AppData\\Local\\Temp\\ipykernel_23596\\2270396033.py:53: UserWarning: data/preprocessed/masks/3/0175.png is a low contrast image\n",
      "  io.imsave(f'data/preprocessed/masks/{j}/{i:04d}.png', mask)\n"
     ]
    },
    {
     "name": "stdout",
     "output_type": "stream",
     "text": [
      "176/193\n",
      "Template white balancing\n"
     ]
    },
    {
     "name": "stderr",
     "output_type": "stream",
     "text": [
      "C:\\Users\\Billy\\AppData\\Local\\Temp\\ipykernel_23596\\2270396033.py:53: UserWarning: data/preprocessed/masks/0/0176.png is a low contrast image\n",
      "  io.imsave(f'data/preprocessed/masks/{j}/{i:04d}.png', mask)\n",
      "C:\\Users\\Billy\\AppData\\Local\\Temp\\ipykernel_23596\\2270396033.py:53: UserWarning: data/preprocessed/masks/1/0176.png is a low contrast image\n",
      "  io.imsave(f'data/preprocessed/masks/{j}/{i:04d}.png', mask)\n",
      "C:\\Users\\Billy\\AppData\\Local\\Temp\\ipykernel_23596\\2270396033.py:53: UserWarning: data/preprocessed/masks/2/0176.png is a low contrast image\n",
      "  io.imsave(f'data/preprocessed/masks/{j}/{i:04d}.png', mask)\n",
      "C:\\Users\\Billy\\AppData\\Local\\Temp\\ipykernel_23596\\2270396033.py:53: UserWarning: data/preprocessed/masks/3/0176.png is a low contrast image\n",
      "  io.imsave(f'data/preprocessed/masks/{j}/{i:04d}.png', mask)\n"
     ]
    },
    {
     "name": "stdout",
     "output_type": "stream",
     "text": [
      "177/193\n",
      "Template white balancing\n"
     ]
    },
    {
     "name": "stderr",
     "output_type": "stream",
     "text": [
      "C:\\Users\\Billy\\AppData\\Local\\Temp\\ipykernel_23596\\2270396033.py:53: UserWarning: data/preprocessed/masks/0/0177.png is a low contrast image\n",
      "  io.imsave(f'data/preprocessed/masks/{j}/{i:04d}.png', mask)\n",
      "C:\\Users\\Billy\\AppData\\Local\\Temp\\ipykernel_23596\\2270396033.py:53: UserWarning: data/preprocessed/masks/1/0177.png is a low contrast image\n",
      "  io.imsave(f'data/preprocessed/masks/{j}/{i:04d}.png', mask)\n",
      "C:\\Users\\Billy\\AppData\\Local\\Temp\\ipykernel_23596\\2270396033.py:53: UserWarning: data/preprocessed/masks/2/0177.png is a low contrast image\n",
      "  io.imsave(f'data/preprocessed/masks/{j}/{i:04d}.png', mask)\n",
      "C:\\Users\\Billy\\AppData\\Local\\Temp\\ipykernel_23596\\2270396033.py:53: UserWarning: data/preprocessed/masks/3/0177.png is a low contrast image\n",
      "  io.imsave(f'data/preprocessed/masks/{j}/{i:04d}.png', mask)\n"
     ]
    },
    {
     "name": "stdout",
     "output_type": "stream",
     "text": [
      "178/193\n",
      "Template white balancing\n"
     ]
    },
    {
     "name": "stderr",
     "output_type": "stream",
     "text": [
      "C:\\Users\\Billy\\AppData\\Local\\Temp\\ipykernel_23596\\2270396033.py:53: UserWarning: data/preprocessed/masks/0/0178.png is a low contrast image\n",
      "  io.imsave(f'data/preprocessed/masks/{j}/{i:04d}.png', mask)\n",
      "C:\\Users\\Billy\\AppData\\Local\\Temp\\ipykernel_23596\\2270396033.py:53: UserWarning: data/preprocessed/masks/1/0178.png is a low contrast image\n",
      "  io.imsave(f'data/preprocessed/masks/{j}/{i:04d}.png', mask)\n",
      "C:\\Users\\Billy\\AppData\\Local\\Temp\\ipykernel_23596\\2270396033.py:53: UserWarning: data/preprocessed/masks/2/0178.png is a low contrast image\n",
      "  io.imsave(f'data/preprocessed/masks/{j}/{i:04d}.png', mask)\n",
      "C:\\Users\\Billy\\AppData\\Local\\Temp\\ipykernel_23596\\2270396033.py:53: UserWarning: data/preprocessed/masks/3/0178.png is a low contrast image\n",
      "  io.imsave(f'data/preprocessed/masks/{j}/{i:04d}.png', mask)\n"
     ]
    },
    {
     "name": "stdout",
     "output_type": "stream",
     "text": [
      "179/193\n",
      "Template white balancing\n"
     ]
    },
    {
     "name": "stderr",
     "output_type": "stream",
     "text": [
      "C:\\Users\\Billy\\AppData\\Local\\Temp\\ipykernel_23596\\2270396033.py:53: UserWarning: data/preprocessed/masks/0/0179.png is a low contrast image\n",
      "  io.imsave(f'data/preprocessed/masks/{j}/{i:04d}.png', mask)\n",
      "C:\\Users\\Billy\\AppData\\Local\\Temp\\ipykernel_23596\\2270396033.py:53: UserWarning: data/preprocessed/masks/1/0179.png is a low contrast image\n",
      "  io.imsave(f'data/preprocessed/masks/{j}/{i:04d}.png', mask)\n",
      "C:\\Users\\Billy\\AppData\\Local\\Temp\\ipykernel_23596\\2270396033.py:53: UserWarning: data/preprocessed/masks/2/0179.png is a low contrast image\n",
      "  io.imsave(f'data/preprocessed/masks/{j}/{i:04d}.png', mask)\n",
      "C:\\Users\\Billy\\AppData\\Local\\Temp\\ipykernel_23596\\2270396033.py:53: UserWarning: data/preprocessed/masks/3/0179.png is a low contrast image\n",
      "  io.imsave(f'data/preprocessed/masks/{j}/{i:04d}.png', mask)\n"
     ]
    },
    {
     "name": "stdout",
     "output_type": "stream",
     "text": [
      "180/193\n",
      "Template white balancing\n"
     ]
    },
    {
     "name": "stderr",
     "output_type": "stream",
     "text": [
      "C:\\Users\\Billy\\AppData\\Local\\Temp\\ipykernel_23596\\2270396033.py:53: UserWarning: data/preprocessed/masks/0/0180.png is a low contrast image\n",
      "  io.imsave(f'data/preprocessed/masks/{j}/{i:04d}.png', mask)\n",
      "C:\\Users\\Billy\\AppData\\Local\\Temp\\ipykernel_23596\\2270396033.py:53: UserWarning: data/preprocessed/masks/1/0180.png is a low contrast image\n",
      "  io.imsave(f'data/preprocessed/masks/{j}/{i:04d}.png', mask)\n",
      "C:\\Users\\Billy\\AppData\\Local\\Temp\\ipykernel_23596\\2270396033.py:53: UserWarning: data/preprocessed/masks/2/0180.png is a low contrast image\n",
      "  io.imsave(f'data/preprocessed/masks/{j}/{i:04d}.png', mask)\n",
      "C:\\Users\\Billy\\AppData\\Local\\Temp\\ipykernel_23596\\2270396033.py:53: UserWarning: data/preprocessed/masks/3/0180.png is a low contrast image\n",
      "  io.imsave(f'data/preprocessed/masks/{j}/{i:04d}.png', mask)\n"
     ]
    },
    {
     "name": "stdout",
     "output_type": "stream",
     "text": [
      "181/193\n",
      "Template white balancing\n"
     ]
    },
    {
     "name": "stderr",
     "output_type": "stream",
     "text": [
      "C:\\Users\\Billy\\AppData\\Local\\Temp\\ipykernel_23596\\2270396033.py:53: UserWarning: data/preprocessed/masks/0/0181.png is a low contrast image\n",
      "  io.imsave(f'data/preprocessed/masks/{j}/{i:04d}.png', mask)\n",
      "C:\\Users\\Billy\\AppData\\Local\\Temp\\ipykernel_23596\\2270396033.py:53: UserWarning: data/preprocessed/masks/1/0181.png is a low contrast image\n",
      "  io.imsave(f'data/preprocessed/masks/{j}/{i:04d}.png', mask)\n",
      "C:\\Users\\Billy\\AppData\\Local\\Temp\\ipykernel_23596\\2270396033.py:53: UserWarning: data/preprocessed/masks/2/0181.png is a low contrast image\n",
      "  io.imsave(f'data/preprocessed/masks/{j}/{i:04d}.png', mask)\n",
      "C:\\Users\\Billy\\AppData\\Local\\Temp\\ipykernel_23596\\2270396033.py:53: UserWarning: data/preprocessed/masks/3/0181.png is a low contrast image\n",
      "  io.imsave(f'data/preprocessed/masks/{j}/{i:04d}.png', mask)\n"
     ]
    },
    {
     "name": "stdout",
     "output_type": "stream",
     "text": [
      "182/193\n",
      "Template white balancing\n"
     ]
    },
    {
     "name": "stderr",
     "output_type": "stream",
     "text": [
      "C:\\Users\\Billy\\AppData\\Local\\Temp\\ipykernel_23596\\2270396033.py:53: UserWarning: data/preprocessed/masks/0/0182.png is a low contrast image\n",
      "  io.imsave(f'data/preprocessed/masks/{j}/{i:04d}.png', mask)\n",
      "C:\\Users\\Billy\\AppData\\Local\\Temp\\ipykernel_23596\\2270396033.py:53: UserWarning: data/preprocessed/masks/1/0182.png is a low contrast image\n",
      "  io.imsave(f'data/preprocessed/masks/{j}/{i:04d}.png', mask)\n",
      "C:\\Users\\Billy\\AppData\\Local\\Temp\\ipykernel_23596\\2270396033.py:53: UserWarning: data/preprocessed/masks/2/0182.png is a low contrast image\n",
      "  io.imsave(f'data/preprocessed/masks/{j}/{i:04d}.png', mask)\n",
      "C:\\Users\\Billy\\AppData\\Local\\Temp\\ipykernel_23596\\2270396033.py:53: UserWarning: data/preprocessed/masks/3/0182.png is a low contrast image\n",
      "  io.imsave(f'data/preprocessed/masks/{j}/{i:04d}.png', mask)\n"
     ]
    },
    {
     "name": "stdout",
     "output_type": "stream",
     "text": [
      "183/193\n",
      "Template white balancing\n"
     ]
    },
    {
     "name": "stderr",
     "output_type": "stream",
     "text": [
      "C:\\Users\\Billy\\AppData\\Local\\Temp\\ipykernel_23596\\2270396033.py:53: UserWarning: data/preprocessed/masks/0/0183.png is a low contrast image\n",
      "  io.imsave(f'data/preprocessed/masks/{j}/{i:04d}.png', mask)\n",
      "C:\\Users\\Billy\\AppData\\Local\\Temp\\ipykernel_23596\\2270396033.py:53: UserWarning: data/preprocessed/masks/1/0183.png is a low contrast image\n",
      "  io.imsave(f'data/preprocessed/masks/{j}/{i:04d}.png', mask)\n",
      "C:\\Users\\Billy\\AppData\\Local\\Temp\\ipykernel_23596\\2270396033.py:53: UserWarning: data/preprocessed/masks/2/0183.png is a low contrast image\n",
      "  io.imsave(f'data/preprocessed/masks/{j}/{i:04d}.png', mask)\n",
      "C:\\Users\\Billy\\AppData\\Local\\Temp\\ipykernel_23596\\2270396033.py:53: UserWarning: data/preprocessed/masks/3/0183.png is a low contrast image\n",
      "  io.imsave(f'data/preprocessed/masks/{j}/{i:04d}.png', mask)\n"
     ]
    },
    {
     "name": "stdout",
     "output_type": "stream",
     "text": [
      "184/193\n",
      "Template white balancing\n"
     ]
    },
    {
     "name": "stderr",
     "output_type": "stream",
     "text": [
      "C:\\Users\\Billy\\AppData\\Local\\Temp\\ipykernel_23596\\2270396033.py:53: UserWarning: data/preprocessed/masks/0/0184.png is a low contrast image\n",
      "  io.imsave(f'data/preprocessed/masks/{j}/{i:04d}.png', mask)\n",
      "C:\\Users\\Billy\\AppData\\Local\\Temp\\ipykernel_23596\\2270396033.py:53: UserWarning: data/preprocessed/masks/1/0184.png is a low contrast image\n",
      "  io.imsave(f'data/preprocessed/masks/{j}/{i:04d}.png', mask)\n",
      "C:\\Users\\Billy\\AppData\\Local\\Temp\\ipykernel_23596\\2270396033.py:53: UserWarning: data/preprocessed/masks/2/0184.png is a low contrast image\n",
      "  io.imsave(f'data/preprocessed/masks/{j}/{i:04d}.png', mask)\n",
      "C:\\Users\\Billy\\AppData\\Local\\Temp\\ipykernel_23596\\2270396033.py:53: UserWarning: data/preprocessed/masks/3/0184.png is a low contrast image\n",
      "  io.imsave(f'data/preprocessed/masks/{j}/{i:04d}.png', mask)\n"
     ]
    },
    {
     "name": "stdout",
     "output_type": "stream",
     "text": [
      "185/193\n",
      "Template white balancing\n"
     ]
    },
    {
     "name": "stderr",
     "output_type": "stream",
     "text": [
      "C:\\Users\\Billy\\AppData\\Local\\Temp\\ipykernel_23596\\2270396033.py:53: UserWarning: data/preprocessed/masks/0/0185.png is a low contrast image\n",
      "  io.imsave(f'data/preprocessed/masks/{j}/{i:04d}.png', mask)\n",
      "C:\\Users\\Billy\\AppData\\Local\\Temp\\ipykernel_23596\\2270396033.py:53: UserWarning: data/preprocessed/masks/1/0185.png is a low contrast image\n",
      "  io.imsave(f'data/preprocessed/masks/{j}/{i:04d}.png', mask)\n",
      "C:\\Users\\Billy\\AppData\\Local\\Temp\\ipykernel_23596\\2270396033.py:53: UserWarning: data/preprocessed/masks/2/0185.png is a low contrast image\n",
      "  io.imsave(f'data/preprocessed/masks/{j}/{i:04d}.png', mask)\n",
      "C:\\Users\\Billy\\AppData\\Local\\Temp\\ipykernel_23596\\2270396033.py:53: UserWarning: data/preprocessed/masks/3/0185.png is a low contrast image\n",
      "  io.imsave(f'data/preprocessed/masks/{j}/{i:04d}.png', mask)\n"
     ]
    },
    {
     "name": "stdout",
     "output_type": "stream",
     "text": [
      "186/193\n",
      "Template white balancing\n"
     ]
    },
    {
     "name": "stderr",
     "output_type": "stream",
     "text": [
      "C:\\Users\\Billy\\AppData\\Local\\Temp\\ipykernel_23596\\2270396033.py:53: UserWarning: data/preprocessed/masks/0/0186.png is a low contrast image\n",
      "  io.imsave(f'data/preprocessed/masks/{j}/{i:04d}.png', mask)\n",
      "C:\\Users\\Billy\\AppData\\Local\\Temp\\ipykernel_23596\\2270396033.py:53: UserWarning: data/preprocessed/masks/1/0186.png is a low contrast image\n",
      "  io.imsave(f'data/preprocessed/masks/{j}/{i:04d}.png', mask)\n",
      "C:\\Users\\Billy\\AppData\\Local\\Temp\\ipykernel_23596\\2270396033.py:53: UserWarning: data/preprocessed/masks/2/0186.png is a low contrast image\n",
      "  io.imsave(f'data/preprocessed/masks/{j}/{i:04d}.png', mask)\n",
      "C:\\Users\\Billy\\AppData\\Local\\Temp\\ipykernel_23596\\2270396033.py:53: UserWarning: data/preprocessed/masks/3/0186.png is a low contrast image\n",
      "  io.imsave(f'data/preprocessed/masks/{j}/{i:04d}.png', mask)\n"
     ]
    },
    {
     "name": "stdout",
     "output_type": "stream",
     "text": [
      "187/193\n",
      "Template white balancing\n"
     ]
    },
    {
     "name": "stderr",
     "output_type": "stream",
     "text": [
      "C:\\Users\\Billy\\AppData\\Local\\Temp\\ipykernel_23596\\2270396033.py:53: UserWarning: data/preprocessed/masks/0/0187.png is a low contrast image\n",
      "  io.imsave(f'data/preprocessed/masks/{j}/{i:04d}.png', mask)\n",
      "C:\\Users\\Billy\\AppData\\Local\\Temp\\ipykernel_23596\\2270396033.py:53: UserWarning: data/preprocessed/masks/1/0187.png is a low contrast image\n",
      "  io.imsave(f'data/preprocessed/masks/{j}/{i:04d}.png', mask)\n",
      "C:\\Users\\Billy\\AppData\\Local\\Temp\\ipykernel_23596\\2270396033.py:53: UserWarning: data/preprocessed/masks/2/0187.png is a low contrast image\n",
      "  io.imsave(f'data/preprocessed/masks/{j}/{i:04d}.png', mask)\n",
      "C:\\Users\\Billy\\AppData\\Local\\Temp\\ipykernel_23596\\2270396033.py:53: UserWarning: data/preprocessed/masks/3/0187.png is a low contrast image\n",
      "  io.imsave(f'data/preprocessed/masks/{j}/{i:04d}.png', mask)\n"
     ]
    },
    {
     "name": "stdout",
     "output_type": "stream",
     "text": [
      "188/193\n",
      "Template white balancing\n"
     ]
    },
    {
     "name": "stderr",
     "output_type": "stream",
     "text": [
      "C:\\Users\\Billy\\AppData\\Local\\Temp\\ipykernel_23596\\2270396033.py:53: UserWarning: data/preprocessed/masks/0/0188.png is a low contrast image\n",
      "  io.imsave(f'data/preprocessed/masks/{j}/{i:04d}.png', mask)\n",
      "C:\\Users\\Billy\\AppData\\Local\\Temp\\ipykernel_23596\\2270396033.py:53: UserWarning: data/preprocessed/masks/1/0188.png is a low contrast image\n",
      "  io.imsave(f'data/preprocessed/masks/{j}/{i:04d}.png', mask)\n",
      "C:\\Users\\Billy\\AppData\\Local\\Temp\\ipykernel_23596\\2270396033.py:53: UserWarning: data/preprocessed/masks/2/0188.png is a low contrast image\n",
      "  io.imsave(f'data/preprocessed/masks/{j}/{i:04d}.png', mask)\n",
      "C:\\Users\\Billy\\AppData\\Local\\Temp\\ipykernel_23596\\2270396033.py:53: UserWarning: data/preprocessed/masks/3/0188.png is a low contrast image\n",
      "  io.imsave(f'data/preprocessed/masks/{j}/{i:04d}.png', mask)\n"
     ]
    },
    {
     "name": "stdout",
     "output_type": "stream",
     "text": [
      "189/193\n",
      "Template white balancing\n"
     ]
    },
    {
     "name": "stderr",
     "output_type": "stream",
     "text": [
      "C:\\Users\\Billy\\AppData\\Local\\Temp\\ipykernel_23596\\2270396033.py:53: UserWarning: data/preprocessed/masks/0/0189.png is a low contrast image\n",
      "  io.imsave(f'data/preprocessed/masks/{j}/{i:04d}.png', mask)\n",
      "C:\\Users\\Billy\\AppData\\Local\\Temp\\ipykernel_23596\\2270396033.py:53: UserWarning: data/preprocessed/masks/1/0189.png is a low contrast image\n",
      "  io.imsave(f'data/preprocessed/masks/{j}/{i:04d}.png', mask)\n",
      "C:\\Users\\Billy\\AppData\\Local\\Temp\\ipykernel_23596\\2270396033.py:53: UserWarning: data/preprocessed/masks/2/0189.png is a low contrast image\n",
      "  io.imsave(f'data/preprocessed/masks/{j}/{i:04d}.png', mask)\n",
      "C:\\Users\\Billy\\AppData\\Local\\Temp\\ipykernel_23596\\2270396033.py:53: UserWarning: data/preprocessed/masks/3/0189.png is a low contrast image\n",
      "  io.imsave(f'data/preprocessed/masks/{j}/{i:04d}.png', mask)\n"
     ]
    },
    {
     "name": "stdout",
     "output_type": "stream",
     "text": [
      "190/193\n",
      "Template white balancing\n"
     ]
    },
    {
     "name": "stderr",
     "output_type": "stream",
     "text": [
      "C:\\Users\\Billy\\AppData\\Local\\Temp\\ipykernel_23596\\2270396033.py:53: UserWarning: data/preprocessed/masks/0/0190.png is a low contrast image\n",
      "  io.imsave(f'data/preprocessed/masks/{j}/{i:04d}.png', mask)\n",
      "C:\\Users\\Billy\\AppData\\Local\\Temp\\ipykernel_23596\\2270396033.py:53: UserWarning: data/preprocessed/masks/1/0190.png is a low contrast image\n",
      "  io.imsave(f'data/preprocessed/masks/{j}/{i:04d}.png', mask)\n",
      "C:\\Users\\Billy\\AppData\\Local\\Temp\\ipykernel_23596\\2270396033.py:53: UserWarning: data/preprocessed/masks/2/0190.png is a low contrast image\n",
      "  io.imsave(f'data/preprocessed/masks/{j}/{i:04d}.png', mask)\n",
      "C:\\Users\\Billy\\AppData\\Local\\Temp\\ipykernel_23596\\2270396033.py:53: UserWarning: data/preprocessed/masks/3/0190.png is a low contrast image\n",
      "  io.imsave(f'data/preprocessed/masks/{j}/{i:04d}.png', mask)\n"
     ]
    },
    {
     "name": "stdout",
     "output_type": "stream",
     "text": [
      "191/193\n",
      "Template white balancing\n"
     ]
    },
    {
     "name": "stderr",
     "output_type": "stream",
     "text": [
      "C:\\Users\\Billy\\AppData\\Local\\Temp\\ipykernel_23596\\2270396033.py:53: UserWarning: data/preprocessed/masks/0/0191.png is a low contrast image\n",
      "  io.imsave(f'data/preprocessed/masks/{j}/{i:04d}.png', mask)\n",
      "C:\\Users\\Billy\\AppData\\Local\\Temp\\ipykernel_23596\\2270396033.py:53: UserWarning: data/preprocessed/masks/1/0191.png is a low contrast image\n",
      "  io.imsave(f'data/preprocessed/masks/{j}/{i:04d}.png', mask)\n",
      "C:\\Users\\Billy\\AppData\\Local\\Temp\\ipykernel_23596\\2270396033.py:53: UserWarning: data/preprocessed/masks/2/0191.png is a low contrast image\n",
      "  io.imsave(f'data/preprocessed/masks/{j}/{i:04d}.png', mask)\n",
      "C:\\Users\\Billy\\AppData\\Local\\Temp\\ipykernel_23596\\2270396033.py:53: UserWarning: data/preprocessed/masks/3/0191.png is a low contrast image\n",
      "  io.imsave(f'data/preprocessed/masks/{j}/{i:04d}.png', mask)\n"
     ]
    },
    {
     "name": "stdout",
     "output_type": "stream",
     "text": [
      "192/193\n",
      "Template white balancing\n"
     ]
    },
    {
     "name": "stderr",
     "output_type": "stream",
     "text": [
      "C:\\Users\\Billy\\AppData\\Local\\Temp\\ipykernel_23596\\2270396033.py:53: UserWarning: data/preprocessed/masks/0/0192.png is a low contrast image\n",
      "  io.imsave(f'data/preprocessed/masks/{j}/{i:04d}.png', mask)\n",
      "C:\\Users\\Billy\\AppData\\Local\\Temp\\ipykernel_23596\\2270396033.py:53: UserWarning: data/preprocessed/masks/1/0192.png is a low contrast image\n",
      "  io.imsave(f'data/preprocessed/masks/{j}/{i:04d}.png', mask)\n",
      "C:\\Users\\Billy\\AppData\\Local\\Temp\\ipykernel_23596\\2270396033.py:53: UserWarning: data/preprocessed/masks/2/0192.png is a low contrast image\n",
      "  io.imsave(f'data/preprocessed/masks/{j}/{i:04d}.png', mask)\n",
      "C:\\Users\\Billy\\AppData\\Local\\Temp\\ipykernel_23596\\2270396033.py:53: UserWarning: data/preprocessed/masks/3/0192.png is a low contrast image\n",
      "  io.imsave(f'data/preprocessed/masks/{j}/{i:04d}.png', mask)\n"
     ]
    }
   ],
   "source": [
    "image_files = np.sort(glob.glob('data/raw/images/*.jpg'))\n",
    "num_annotators = len(glob.glob('data/raw/masks/*'))\n",
    "\n",
    "images = []\n",
    "masks = []\n",
    "\n",
    "resolutions = []\n",
    "scaled_resolutions = []\n",
    "pixel_resolutions = [] \n",
    "\n",
    "for i in range(len(image_files)):\n",
    "    \n",
    "    print(f'{i}/{len(image_files)}')\n",
    "    \n",
    "    # Load original image\n",
    "    image = io.imread(image_files[i])\n",
    "    \n",
    "    \n",
    "    # Convert to linear RGB color space\n",
    "    image = preprocess.srgb_to_linear(image)\n",
    "    \n",
    "    # Apply automatic white balancing\n",
    "    image = preprocess.auto_white_balance(image)\n",
    "    \n",
    "    # Apply template white balancing\n",
    "    print('Template white balancing')\n",
    "    inner_area=10**2\n",
    "    black_square = preprocess.find_black_square(image[int(image.shape[0]/2):,:,:])\n",
    "    white_point, black_point, pixel_resolution = preprocess.compute_square_info([black_square], inner_area=inner_area)\n",
    "    \n",
    "    image = preprocess.white_balance(image, white_point, black_point)\n",
    "    \n",
    "    # Convert back to gamma RGB color space\n",
    "    image = preprocess.linear_to_srgb(image)\n",
    "    \n",
    "    resolutions.append(image.shape)\n",
    "    \n",
    "    # Rescale image to have the specified resolution\n",
    "    image = preprocess.rescale_image(image, pixel_resolution, target_res=target_res, interpolation=cv2.INTER_CUBIC)\n",
    "    \n",
    "    pixel_resolutions.append(pixel_resolution)\n",
    "    scaled_resolutions.append(image.shape)\n",
    "    \n",
    "    # Save preprocessed image and mask\n",
    "    io.imsave(f'data/preprocessed/images/{i:04d}.png', image)\n",
    "    \n",
    "    for j in range(num_annotators):\n",
    "    \n",
    "        mask = io.imread(f'data/raw/masks/{j}/{i:04d}.png')\n",
    "        mask = preprocess.rescale_image(mask, pixel_resolution, target_res=target_res, interpolation=cv2.INTER_NEAREST)\n",
    "        mask = (np.round(mask / 255) * 255).astype('uint8')\n",
    "\n",
    "        io.imsave(f'data/preprocessed/masks/{j}/{i:04d}.png', mask)\n",
    "        \n",
    "resolutions = np.array(resolutions)\n",
    "scaled_resolutions = np.array(scaled_resolutions)\n",
    "pixel_resolutions = np.array(pixel_resolutions)\n",
    "\n",
    "# np.save('scaling_resolutions.npy', resolutions)\n",
    "# np.save('scaling_scaled_resolutions.npy', scaled_resolutions)\n",
    "# np.save('scaling_pixel_resolutions.npy', pixel_resolutions)"
   ]
  },
  {
   "cell_type": "code",
   "execution_count": 3,
   "id": "abb4e088",
   "metadata": {
    "scrolled": false
   },
   "outputs": [
    {
     "name": "stdout",
     "output_type": "stream",
     "text": [
      "10/193\n",
      "Template white balancing\n"
     ]
    },
    {
     "name": "stderr",
     "output_type": "stream",
     "text": [
      "C:\\Users\\Billy\\AppData\\Local\\Temp\\ipykernel_23596\\491246333.py:50: UserWarning: data/preprocessed/masks/0/0010.png is a low contrast image\n",
      "  io.imsave(f'data/preprocessed/masks/{j}/{i:04d}.png', mask)\n",
      "C:\\Users\\Billy\\AppData\\Local\\Temp\\ipykernel_23596\\491246333.py:50: UserWarning: data/preprocessed/masks/1/0010.png is a low contrast image\n",
      "  io.imsave(f'data/preprocessed/masks/{j}/{i:04d}.png', mask)\n",
      "C:\\Users\\Billy\\AppData\\Local\\Temp\\ipykernel_23596\\491246333.py:50: UserWarning: data/preprocessed/masks/2/0010.png is a low contrast image\n",
      "  io.imsave(f'data/preprocessed/masks/{j}/{i:04d}.png', mask)\n",
      "C:\\Users\\Billy\\AppData\\Local\\Temp\\ipykernel_23596\\491246333.py:50: UserWarning: data/preprocessed/masks/3/0010.png is a low contrast image\n",
      "  io.imsave(f'data/preprocessed/masks/{j}/{i:04d}.png', mask)\n"
     ]
    }
   ],
   "source": [
    "image_files = np.sort(glob.glob('data/raw/images/*.jpg'))\n",
    "num_annotators = len(glob.glob('data/raw/masks/*'))\n",
    "\n",
    "images = []\n",
    "masks = []\n",
    "\n",
    "for i in range(10,11):\n",
    "    \n",
    "    print(f'{i}/{len(image_files)}')\n",
    "    \n",
    "    # Load original image\n",
    "    image = io.imread(image_files[i])\n",
    "    io.imsave('figures/0_raw_image.png', image)\n",
    "    \n",
    "    # Convert to linear RGB color space\n",
    "    image = preprocess.srgb_to_linear(image)\n",
    "    io.imsave('figures/1_linear.png', image)\n",
    "    \n",
    "    # Apply automatic white balancing\n",
    "    image = preprocess.auto_white_balance(image)\n",
    "    \n",
    "    # Apply template white balancing\n",
    "    print('Template white balancing')\n",
    "    inner_area=10**2\n",
    "    black_square = preprocess.find_black_square(image[int(image.shape[0]/2):,:,:])\n",
    "    white_point, black_point, pixel_resolution = preprocess.compute_square_info([black_square], inner_area=inner_area)\n",
    "    io.imsave('figures/black_square.png', black_square)\n",
    "    io.imsave('figures/2_auto_white_balanced.png', image)\n",
    "    \n",
    "    image = preprocess.white_balance(image, white_point, black_point)\n",
    "    io.imsave('figures/3_template_white_balanced.png', image)\n",
    "    \n",
    "    # Convert back to gamma RGB color space\n",
    "    image = preprocess.linear_to_srgb(image)\n",
    "    io.imsave('figures/4_srgb_again.png', image)\n",
    "    \n",
    "    # Rescale image to have the specified resolution\n",
    "    image = preprocess.rescale_image(image, pixel_resolution, target_res=target_res, interpolation=cv2.INTER_CUBIC)\n",
    "    io.imsave('figures/5_rescaled.png', image)\n",
    "    \n",
    "    # Save preprocessed image and mask\n",
    "    io.imsave(f'data/preprocessed/images/{i:04d}.png', image)\n",
    "    \n",
    "    for j in range(num_annotators):\n",
    "    \n",
    "        mask = io.imread(f'data/raw/masks/{j}/{i:04d}.png')\n",
    "        mask = preprocess.rescale_image(mask, pixel_resolution, target_res=target_res, interpolation=cv2.INTER_NEAREST)\n",
    "        mask = (np.round(mask / 255) * 255).astype('uint8')\n",
    "\n",
    "        io.imsave(f'data/preprocessed/masks/{j}/{i:04d}.png', mask)"
   ]
  }
 ],
 "metadata": {
  "kernelspec": {
   "display_name": "Python 3 (ipykernel)",
   "language": "python",
   "name": "python3"
  },
  "language_info": {
   "codemirror_mode": {
    "name": "ipython",
    "version": 3
   },
   "file_extension": ".py",
   "mimetype": "text/x-python",
   "name": "python",
   "nbconvert_exporter": "python",
   "pygments_lexer": "ipython3",
   "version": "3.10.10"
  }
 },
 "nbformat": 4,
 "nbformat_minor": 5
}
